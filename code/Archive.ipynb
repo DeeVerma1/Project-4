{
 "cells": [
  {
   "cell_type": "markdown",
   "metadata": {},
   "source": [
    "# Project 4\n",
    "______"
   ]
  },
  {
   "cell_type": "markdown",
   "metadata": {},
   "source": [
    "**Deepika**"
   ]
  },
  {
   "cell_type": "code",
   "execution_count": null,
   "metadata": {},
   "outputs": [],
   "source": [
    "def prob_case(groupby_col_name):\n",
    "    prob_case=pd.DataFrame(df_surv[df_surv['current_status']=='Probable Case'].groupby(groupby_col_name).count().iloc[:,0])\n",
    "    prob_case.reset_index(inplace=True)\n",
    "    prob_case.columns=[groupby_col_name,'count']\n",
    "    return prob_case"
   ]
  },
  {
   "cell_type": "code",
   "execution_count": null,
   "metadata": {},
   "outputs": [],
   "source": [
    "#function to create percent count bar plots\n",
    "def bar_plot2(df):\n",
    "\n",
    "    figure, ax=plt.subplots(nrows=1, ncols=2, sharey=False)\n",
    "    ax[0]=plt.subplot(1,2,1)\n",
    "    ax[0]=plt.bar( x=df.iloc[:-1,0], height=df.iloc[:-1,1])\n",
    "    plt.xticks(rotation=60);\n",
    "    # plt.ylim(0,250000)\n",
    "\n",
    "    ax[1]=plt.subplot(1,2,2)\n",
    "    ax[1]=plt.bar( x=df.iloc[:-1,0], height=df.iloc[:-1,2])\n",
    "\n",
    "    plt.xticks(rotation=60);\n",
    "    # plt.ylim(0,250000);\n",
    "\n",
    "    plt.subplots_adjust(hspace=0);\n",
    "    plt.subplots_adjust( wspace=0.2);\n",
    "    # left=0.2, right=0.9, top=0.9, bottom=0.1,"
   ]
  },
  {
   "cell_type": "code",
   "execution_count": null,
   "metadata": {},
   "outputs": [],
   "source": [
    "#Text length distibution for the two categories\n",
    "\n",
    "figure, ax = plt.subplots(2,2, gridspec_kw={'height_ratios':[2,2], 'width_ratios':[2,2]});\n",
    "# figure.tight_layout();\n",
    "\n",
    "ax[0]=plt.subplot(2,2,1);\n",
    "ax[0]=plt.bar( x=case_count_sex.iloc[:-1,0], height=case_count_sex.iloc[:-1,2]*100, width=0.6, alpha=0.5)\n",
    "\n",
    "ax[1]=plt.subplot(2,2,2);\n",
    "ax[1]=plt.bar( x=case_count_race.iloc[:-1,0], height=case_count_race.iloc[:-1,2]*100, width=0.6, alpha=0.5)\n",
    "\n",
    "ax[2]=plt.subplot(2,2,3);\n",
    "ax[2]=plt.bar( x=case_count_ethnicity.iloc[:-1,0], height=case_count_ethnicity.iloc[:-1,2]*100, width=0.6, alpha=0.5)\n",
    "\n",
    "ax[3]=plt.subplot(2,2,4);\n",
    "ax[3]=plt.bar( x=case_count_age.iloc[:-1,0], height=case_count_age.iloc[:-1,2]*100, width=0.6, alpha=0.5)\n",
    "\n",
    "plt.xticks(rotation=60);\n",
    "ax[0].set_title(f'{df.columns[0]}', size=14)\n",
    "ax[0].set_ylabel('Percentage', size=14)\n",
    "\n",
    "\n",
    "plt.subplots_adjust(hspace=0);\n",
    "plt.subplots_adjust(left=0.2, right=0.9, top=0.9, bottom=0.1);\n",
    "plt.savefig('../images/text_length_distn.png');"
   ]
  },
  {
   "cell_type": "code",
   "execution_count": null,
   "metadata": {},
   "outputs": [],
   "source": [
    "df_NJ=df_surv_hosp[df_surv_hosp['res_state']=='NJ'].copy()\n",
    "df_NJ.reset_index(inplace=True)\n",
    "\n",
    "\n",
    "NJ_hosp=df_NJ.groupby(by='case_month')['hosp_yn'].aggregate('sum')\n",
    "NJ_total=df_NJ.groupby(by='case_month')['hosp_yn'].aggregate('count')\n",
    "NJ_percentage=(NJ_hosp/NJ_total)*100\n",
    "NJ_percentage\n",
    "plt.plot(NJ_percentage)\n",
    "plt.xticks(rotation=90);\n",
    "\n",
    "df_state=df_surv_hosp[df_surv_hosp['res_state']=='TX'].copy()\n",
    "df_state.reset_index(inplace=True)\n",
    "state_hosp=df_state.groupby(by='case_month')['hosp_yn'].aggregate('sum')\n",
    "state_total=df_state.groupby(by='case_month')['hosp_yn'].aggregate('count')\n",
    "state_percentage=(state_hosp/state_total)*100\n",
    "     # state_percentage;\n",
    "plt.plot(state_percentage)\n",
    "\n",
    "df_state=df_surv_hosp[df_surv_hosp['res_state']=='CA'].copy()\n",
    "df_state.reset_index(inplace=True)\n",
    "state_hosp=df_state.groupby(by='case_month')['hosp_yn'].aggregate('sum')\n",
    "state_total=df_state.groupby(by='case_month')['hosp_yn'].aggregate('count')\n",
    "state_percentage=(state_hosp/state_total)*100\n",
    "     # state_percentage;\n",
    "plt.plot(state_percentage)\n",
    "# plt.xticks(rotation=90);"
   ]
  },
  {
   "cell_type": "markdown",
   "metadata": {},
   "source": [
    "**US state map- choropleth plots**"
   ]
  },
  {
   "cell_type": "code",
   "execution_count": null,
   "metadata": {},
   "outputs": [],
   "source": [
    "#participation rate visualization on country map\n",
    "# Code adapted from :\n",
    "#https://towardsdatascience.com/simplest-way-of-creating-a-choropleth-map-by-u-s-states-in-python-f359ada7735e\n",
    "\n",
    "\n",
    "import plotly.express as px\n",
    "fig = px.choropleth(act_sat_merged_2019_2,\n",
    "                    locations='state_id', \n",
    "                    locationmode=\"USA-states\", \n",
    "                    scope=\"usa\",\n",
    "                    color='act_participation_rate',\n",
    "                    color_continuous_scale=\"plasma\", \n",
    "                    labels={'act_participation_rate': 'ACT Participation Rate'}\n",
    "                    )\n",
    "fig.update_layout(\n",
    "      title_text = 'ACT Participation Rate by State, 2019',\n",
    "      title_font_family=\"Times New Roman\",\n",
    "      title_font_size = 22,\n",
    "      title_font_color=\"black\", \n",
    "      title_x=0.45, \n",
    "         )\n",
    "fig.show()\n",
    "#fig.write_image('../Images/ACT_participation_rate_by_state.jpg')"
   ]
  },
  {
   "cell_type": "code",
   "execution_count": null,
   "metadata": {},
   "outputs": [],
   "source": []
  },
  {
   "cell_type": "code",
   "execution_count": null,
   "metadata": {},
   "outputs": [],
   "source": []
  }
 ],
 "metadata": {
  "kernelspec": {
   "display_name": "Python 3 (ipykernel)",
   "language": "python",
   "name": "python3"
  },
  "language_info": {
   "codemirror_mode": {
    "name": "ipython",
    "version": 3
   },
   "file_extension": ".py",
   "mimetype": "text/x-python",
   "name": "python",
   "nbconvert_exporter": "python",
   "pygments_lexer": "ipython3",
   "version": "3.9.12"
  },
  "vscode": {
   "interpreter": {
    "hash": "b0fa6594d8f4cbf19f97940f81e996739fb7646882a419484c72d19e05852a7e"
   }
  }
 },
 "nbformat": 4,
 "nbformat_minor": 4
}
