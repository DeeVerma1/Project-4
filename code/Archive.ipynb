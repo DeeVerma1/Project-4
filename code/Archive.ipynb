{
 "cells": [
  {
   "cell_type": "markdown",
   "metadata": {},
   "source": [
    "# Project 4\n",
    "______"
   ]
  },
  {
   "cell_type": "markdown",
   "metadata": {},
   "source": [
    "**Deepika**"
   ]
  },
  {
   "cell_type": "code",
   "execution_count": null,
   "metadata": {},
   "outputs": [],
   "source": [
    "def prob_case(groupby_col_name):\n",
    "    prob_case=pd.DataFrame(df_surv[df_surv['current_status']=='Probable Case'].groupby(groupby_col_name).count().iloc[:,0])\n",
    "    prob_case.reset_index(inplace=True)\n",
    "    prob_case.columns=[groupby_col_name,'count']\n",
    "    return prob_case"
   ]
  },
  {
   "cell_type": "code",
   "execution_count": null,
   "metadata": {},
   "outputs": [],
   "source": [
    "#function to create percent count bar plots\n",
    "def bar_plot2(df):\n",
    "\n",
    "    figure, ax=plt.subplots(nrows=1, ncols=2, sharey=False)\n",
    "    ax[0]=plt.subplot(1,2,1)\n",
    "    ax[0]=plt.bar( x=df.iloc[:-1,0], height=df.iloc[:-1,1])\n",
    "    plt.xticks(rotation=60);\n",
    "    # plt.ylim(0,250000)\n",
    "\n",
    "    ax[1]=plt.subplot(1,2,2)\n",
    "    ax[1]=plt.bar( x=df.iloc[:-1,0], height=df.iloc[:-1,2])\n",
    "\n",
    "    plt.xticks(rotation=60);\n",
    "    # plt.ylim(0,250000);\n",
    "\n",
    "    plt.subplots_adjust(hspace=0);\n",
    "    plt.subplots_adjust( wspace=0.2);\n",
    "    # left=0.2, right=0.9, top=0.9, bottom=0.1,"
   ]
  },
  {
   "cell_type": "code",
   "execution_count": null,
   "metadata": {},
   "outputs": [],
   "source": [
    "#Text length distibution for the two categories\n",
    "\n",
    "figure, ax = plt.subplots(2,2, gridspec_kw={'height_ratios':[2,2], 'width_ratios':[2,2]});\n",
    "# figure.tight_layout();\n",
    "\n",
    "ax[0]=plt.subplot(2,2,1);\n",
    "ax[0]=plt.bar( x=case_count_sex.iloc[:-1,0], height=case_count_sex.iloc[:-1,2]*100, width=0.6, alpha=0.5)\n",
    "\n",
    "ax[1]=plt.subplot(2,2,2);\n",
    "ax[1]=plt.bar( x=case_count_race.iloc[:-1,0], height=case_count_race.iloc[:-1,2]*100, width=0.6, alpha=0.5)\n",
    "\n",
    "ax[2]=plt.subplot(2,2,3);\n",
    "ax[2]=plt.bar( x=case_count_ethnicity.iloc[:-1,0], height=case_count_ethnicity.iloc[:-1,2]*100, width=0.6, alpha=0.5)\n",
    "\n",
    "ax[3]=plt.subplot(2,2,4);\n",
    "ax[3]=plt.bar( x=case_count_age.iloc[:-1,0], height=case_count_age.iloc[:-1,2]*100, width=0.6, alpha=0.5)\n",
    "\n",
    "plt.xticks(rotation=60);\n",
    "ax[0].set_title(f'{df.columns[0]}', size=14)\n",
    "ax[0].set_ylabel('Percentage', size=14)\n",
    "\n",
    "\n",
    "plt.subplots_adjust(hspace=0);\n",
    "plt.subplots_adjust(left=0.2, right=0.9, top=0.9, bottom=0.1);\n",
    "plt.savefig('../images/text_length_distn.png');"
   ]
  },
  {
   "cell_type": "code",
   "execution_count": null,
   "metadata": {},
   "outputs": [],
   "source": [
    "df_NJ=df_surv_hosp[df_surv_hosp['res_state']=='NJ'].copy()\n",
    "df_NJ.reset_index(inplace=True)\n",
    "\n",
    "\n",
    "NJ_hosp=df_NJ.groupby(by='case_month')['hosp_yn'].aggregate('sum')\n",
    "NJ_total=df_NJ.groupby(by='case_month')['hosp_yn'].aggregate('count')\n",
    "NJ_percentage=(NJ_hosp/NJ_total)*100\n",
    "NJ_percentage\n",
    "plt.plot(NJ_percentage)\n",
    "plt.xticks(rotation=90);\n",
    "\n",
    "df_state=df_surv_hosp[df_surv_hosp['res_state']=='TX'].copy()\n",
    "df_state.reset_index(inplace=True)\n",
    "state_hosp=df_state.groupby(by='case_month')['hosp_yn'].aggregate('sum')\n",
    "state_total=df_state.groupby(by='case_month')['hosp_yn'].aggregate('count')\n",
    "state_percentage=(state_hosp/state_total)*100\n",
    "     # state_percentage;\n",
    "plt.plot(state_percentage)\n",
    "\n",
    "df_state=df_surv_hosp[df_surv_hosp['res_state']=='CA'].copy()\n",
    "df_state.reset_index(inplace=True)\n",
    "state_hosp=df_state.groupby(by='case_month')['hosp_yn'].aggregate('sum')\n",
    "state_total=df_state.groupby(by='case_month')['hosp_yn'].aggregate('count')\n",
    "state_percentage=(state_hosp/state_total)*100\n",
    "     # state_percentage;\n",
    "plt.plot(state_percentage)\n",
    "# plt.xticks(rotation=90);"
   ]
  },
  {
   "cell_type": "code",
   "execution_count": null,
   "metadata": {},
   "outputs": [],
   "source": [
    "#Dropping the rows containing missing or unknown values for death_yn column\n",
    "# df_surv_hosp_clean=df_surv_hosp[(df_surv_hosp['death_yn']=='Yes') | (df_surv_hosp['death_yn']=='No')].copy()\n",
    "\n",
    "\n",
    "#Dropping the rows containing missing or unknown values for sex\n",
    "# df_surv_hosp_clean=df_surv_hosp[(df_surv_hosp['sex']!='Missing') & (df_surv_hosp['sex']!='Unknown')].copy()\n",
    "\n",
    "#Dropping the rows containing missing or unknown values for race\n",
    "# df_surv_hosp_clean=df_surv_hosp[(df_surv_hosp['race']!='Missing') & (df_surv_hosp['race']!='Unknown')].copy()\n",
    "\n",
    "#Dropping the rows containing missing or unknown values for ethnicity\n",
    "# df_surv_hosp=df_surv_hosp[(df_surv_hosp['ethnicity']!='Missing') & (df_surv_hosp['ethnicity']!='Unknown')].copy()\n",
    "\n",
    "#Dropping the rows containing missing or unknown values for age_group\n",
    "# df_surv_hosp=df_surv_hosp[(df_surv_hosp['age_group']!='Missing') & (df_surv_hosp['age_group']!='Unknown')].copy()"
   ]
  },
  {
   "cell_type": "code",
   "execution_count": null,
   "metadata": {},
   "outputs": [],
   "source": [
    "y_train2=nc_cases.iloc[0:28,0]\n",
    "y_test2=nc_cases.iloc[29:30,0]"
   ]
  },
  {
   "cell_type": "code",
   "execution_count": null,
   "metadata": {},
   "outputs": [],
   "source": [
    "# Fit a SARIMA(1, 0, 0) x (1, 0, 0, 16) model.\n",
    "\n",
    "sarima2 = SARIMAX(endog=y_train2 ,\n",
    "                  order= (1,0,0),              # (p, d, q)\n",
    "                  seasonal_order=(1,0,0,12)) # (P, D, Q, S)\n",
    "\n",
    "# Fit SARIMA model.\n",
    "model2 = sarima2.fit()\n",
    "\n",
    "# Generate predictions based on test set.\n",
    "# Start at time period 150 and end at 187.\n",
    "preds2 = model.predict(start=y_test2.index[0], end=y_test2.index[-1])\n",
    "train_preds2 = model.predict(start=y_train2.index[0], end=y_train2.index[-1])\n",
    "\n",
    "# Evaluate predictions.\n",
    "print(mean_squared_error(y_test2, preds2))\n",
    "\n",
    "# Plot data.\n",
    "plt.figure(figsize=(10,6))\n",
    "plt.plot(y_train2, color = 'blue')\n",
    "plt.plot(y_test2, color = 'orange')\n",
    "plt.plot(preds2, color = 'green')\n",
    "plt.plot(train_preds2, color='magenta')\n",
    "plt.title(label = 'NC cases with SARIMA Predictions', fontsize=16)\n",
    "plt.show();"
   ]
  },
  {
   "cell_type": "code",
   "execution_count": null,
   "metadata": {},
   "outputs": [],
   "source": []
  },
  {
   "cell_type": "markdown",
   "metadata": {},
   "source": [
    "**US state map- choropleth plots**"
   ]
  },
  {
   "cell_type": "code",
   "execution_count": null,
   "metadata": {},
   "outputs": [],
   "source": [
    "#participation rate visualization on country map\n",
    "# Code adapted from :\n",
    "#https://towardsdatascience.com/simplest-way-of-creating-a-choropleth-map-by-u-s-states-in-python-f359ada7735e\n",
    "\n",
    "\n",
    "import plotly.express as px\n",
    "fig = px.choropleth(act_sat_merged_2019_2,\n",
    "                    locations='state_id', \n",
    "                    locationmode=\"USA-states\", \n",
    "                    scope=\"usa\",\n",
    "                    color='act_participation_rate',\n",
    "                    color_continuous_scale=\"plasma\", \n",
    "                    labels={'act_participation_rate': 'ACT Participation Rate'}\n",
    "                    )\n",
    "fig.update_layout(\n",
    "      title_text = 'ACT Participation Rate by State, 2019',\n",
    "      title_font_family=\"Times New Roman\",\n",
    "      title_font_size = 22,\n",
    "      title_font_color=\"black\", \n",
    "      title_x=0.45, \n",
    "         )\n",
    "fig.show()\n",
    "#fig.write_image('../Images/ACT_participation_rate_by_state.jpg')"
   ]
  },
  {
   "cell_type": "code",
   "execution_count": null,
   "metadata": {},
   "outputs": [],
   "source": [
    "#Plotting choropleth \n",
    "\n",
    "pd.read_csv('https://raw.githubusercontent.com/plotly/datasets/master/2011_us_ag_exports.csv')\n",
    "fig = go.Figure(\n",
    "    data = go.Choropleth(\n",
    "    locations = df_state_hosp_recent.index, # Spatial coordinates\n",
    "    z = df_state_hosp_recent.loc[:,0], # Data to be color-coded\n",
    "    locationmode = 'USA-states', # set of locations match entries in `locations`\n",
    "    colorscale = 'Greens',\n",
    "    colorbar_title = \"Millions USD\",\n",
    "))\n",
    "fig.update_layout(\n",
    "    title_text = ' Hospitalization Rates by State\\n June 2022-July 2022',\n",
    "    geo_scope='usa', # limite map scope to USA\n",
    ")\n",
    "fig.show()"
   ]
  },
  {
   "cell_type": "code",
   "execution_count": null,
   "metadata": {},
   "outputs": [],
   "source": [
    "# test hello!"
   ]
  }
 ],
 "metadata": {
  "kernelspec": {
   "display_name": "Python 3 (ipykernel)",
   "language": "python",
   "name": "python3"
  },
  "language_info": {
   "codemirror_mode": {
    "name": "ipython",
    "version": 3
   },
   "file_extension": ".py",
   "mimetype": "text/x-python",
   "name": "python",
   "nbconvert_exporter": "python",
   "pygments_lexer": "ipython3",
   "version": "3.9.12"
  },
  "vscode": {
   "interpreter": {
    "hash": "b0fa6594d8f4cbf19f97940f81e996739fb7646882a419484c72d19e05852a7e"
   }
  }
 },
 "nbformat": 4,
 "nbformat_minor": 4
}
