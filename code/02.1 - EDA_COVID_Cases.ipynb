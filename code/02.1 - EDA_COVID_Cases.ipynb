{
 "cells": [
  {
   "cell_type": "markdown",
   "metadata": {},
   "source": [
    "# Covid Cases Dataset\n",
    "_____"
   ]
  },
  {
   "cell_type": "code",
   "execution_count": 1,
   "metadata": {},
   "outputs": [],
   "source": [
    "import pandas as pd\n",
    "import matplotlib.pyplot as plt\n",
    "import numpy as np\n",
    "import seaborn as sns\n",
    "\n",
    "from sklearn.metrics import mean_squared_error\n",
    "from sklearn.model_selection import train_test_split\n",
    "\n",
    "from statsmodels.graphics.tsaplots import plot_acf, plot_pacf\n",
    "from statsmodels.tsa.stattools import adfuller\n",
    "from statsmodels.tsa.arima.model import ARIMA\n",
    "from statsmodels.tsa.statespace.sarimax import SARIMAX\n",
    "\n",
    "from sklearn.metrics import mean_squared_error\n",
    "from sklearn.model_selection import train_test_split\n",
    "\n",
    "from statsmodels.graphics.tsaplots import plot_acf, plot_pacf\n",
    "from statsmodels.tsa.arima.model import ARIMA\n",
    "from statsmodels.tsa.statespace.sarimax import SARIMAX\n",
    "from statsmodels.tsa.stattools import adfuller\n",
    "\n",
    "import warnings # necessary b/c pandas & statsmodels datetime issue\n",
    "warnings.simplefilter(action=\"ignore\")\n",
    "\n",
    "import plotly.figure_factory as ft "
   ]
  },
  {
   "cell_type": "code",
   "execution_count": 159,
   "metadata": {},
   "outputs": [
    {
     "data": {
      "text/html": [
       "<div>\n",
       "<style scoped>\n",
       "    .dataframe tbody tr th:only-of-type {\n",
       "        vertical-align: middle;\n",
       "    }\n",
       "\n",
       "    .dataframe tbody tr th {\n",
       "        vertical-align: top;\n",
       "    }\n",
       "\n",
       "    .dataframe thead th {\n",
       "        text-align: right;\n",
       "    }\n",
       "</style>\n",
       "<table border=\"1\" class=\"dataframe\">\n",
       "  <thead>\n",
       "    <tr style=\"text-align: right;\">\n",
       "      <th></th>\n",
       "      <th>submission_date</th>\n",
       "      <th>state</th>\n",
       "      <th>tot_cases</th>\n",
       "      <th>new_case</th>\n",
       "      <th>tot_death</th>\n",
       "      <th>new_death</th>\n",
       "    </tr>\n",
       "  </thead>\n",
       "  <tbody>\n",
       "    <tr>\n",
       "      <th>0</th>\n",
       "      <td>01/25/2020</td>\n",
       "      <td>OR</td>\n",
       "      <td>0</td>\n",
       "      <td>0</td>\n",
       "      <td>0</td>\n",
       "      <td>0</td>\n",
       "    </tr>\n",
       "    <tr>\n",
       "      <th>1</th>\n",
       "      <td>09/17/2021</td>\n",
       "      <td>MD</td>\n",
       "      <td>516,784</td>\n",
       "      <td>1,525</td>\n",
       "      <td>10,282</td>\n",
       "      <td>11</td>\n",
       "    </tr>\n",
       "    <tr>\n",
       "      <th>2</th>\n",
       "      <td>10/12/2021</td>\n",
       "      <td>VT</td>\n",
       "      <td>33,388</td>\n",
       "      <td>112</td>\n",
       "      <td>333</td>\n",
       "      <td>4</td>\n",
       "    </tr>\n",
       "    <tr>\n",
       "      <th>3</th>\n",
       "      <td>02/01/2021</td>\n",
       "      <td>DC</td>\n",
       "      <td>37,008</td>\n",
       "      <td>136</td>\n",
       "      <td>916</td>\n",
       "      <td>3</td>\n",
       "    </tr>\n",
       "    <tr>\n",
       "      <th>4</th>\n",
       "      <td>12/19/2021</td>\n",
       "      <td>NC</td>\n",
       "      <td>1,586,243</td>\n",
       "      <td>3,410</td>\n",
       "      <td>19,480</td>\n",
       "      <td>19</td>\n",
       "    </tr>\n",
       "  </tbody>\n",
       "</table>\n",
       "</div>"
      ],
      "text/plain": [
       "  submission_date state  tot_cases new_case tot_death new_death\n",
       "0      01/25/2020    OR          0        0         0         0\n",
       "1      09/17/2021    MD    516,784    1,525    10,282        11\n",
       "2      10/12/2021    VT     33,388      112       333         4\n",
       "3      02/01/2021    DC     37,008      136       916         3\n",
       "4      12/19/2021    NC  1,586,243    3,410    19,480        19"
      ]
     },
     "execution_count": 159,
     "metadata": {},
     "output_type": "execute_result"
    }
   ],
   "source": [
    "df_cases = pd.read_csv('../data/United_States_COVID-19_Cases_and_Deaths_by_State_over_Time.csv')\n",
    "df_cases = df_cases[['submission_date','state','tot_cases','new_case','tot_death','new_death']]\n",
    "df_cases.head()"
   ]
  },
  {
   "cell_type": "code",
   "execution_count": 160,
   "metadata": {},
   "outputs": [],
   "source": [
    "df_cases['submission_date'] = pd.to_datetime(df_cases['submission_date'])"
   ]
  },
  {
   "cell_type": "code",
   "execution_count": 161,
   "metadata": {},
   "outputs": [
    {
     "name": "stdout",
     "output_type": "stream",
     "text": [
      "<class 'pandas.core.frame.DataFrame'>\n",
      "RangeIndex: 59640 entries, 0 to 59639\n",
      "Data columns (total 6 columns):\n",
      " #   Column           Non-Null Count  Dtype         \n",
      "---  ------           --------------  -----         \n",
      " 0   submission_date  59640 non-null  datetime64[ns]\n",
      " 1   state            59640 non-null  object        \n",
      " 2   tot_cases        59640 non-null  object        \n",
      " 3   new_case         59640 non-null  object        \n",
      " 4   tot_death        59640 non-null  object        \n",
      " 5   new_death        59640 non-null  object        \n",
      "dtypes: datetime64[ns](1), object(5)\n",
      "memory usage: 2.7+ MB\n"
     ]
    }
   ],
   "source": [
    "df_cases.info()"
   ]
  },
  {
   "cell_type": "code",
   "execution_count": 162,
   "metadata": {},
   "outputs": [],
   "source": [
    "df_cases.set_index('submission_date', inplace=True)\n",
    "df_cases.sort_index(inplace=True)"
   ]
  },
  {
   "cell_type": "code",
   "execution_count": 163,
   "metadata": {},
   "outputs": [
    {
     "data": {
      "text/plain": [
       "Index(['state', 'tot_cases', 'new_case', 'tot_death', 'new_death'], dtype='object')"
      ]
     },
     "execution_count": 163,
     "metadata": {},
     "output_type": "execute_result"
    }
   ],
   "source": [
    "df_cases.columns"
   ]
  },
  {
   "cell_type": "code",
   "execution_count": 164,
   "metadata": {},
   "outputs": [
    {
     "data": {
      "text/plain": [
       "0            4117\n",
       "4             578\n",
       "1             280\n",
       "3             195\n",
       "2             161\n",
       "             ... \n",
       "401,591         1\n",
       "526,423         1\n",
       "815,593         1\n",
       "621,542         1\n",
       "7,135,916       1\n",
       "Name: tot_cases, Length: 42844, dtype: int64"
      ]
     },
     "execution_count": 164,
     "metadata": {},
     "output_type": "execute_result"
    }
   ],
   "source": [
    "df_cases['tot_cases'].value_counts()"
   ]
  },
  {
   "cell_type": "code",
   "execution_count": 165,
   "metadata": {},
   "outputs": [
    {
     "data": {
      "text/plain": [
       "0         14040\n",
       "1           346\n",
       "2           277\n",
       "3           185\n",
       "4           167\n",
       "          ...  \n",
       "13,181        1\n",
       "10,421        1\n",
       "21,940        1\n",
       "16,373        1\n",
       "5,470         1\n",
       "Name: new_case, Length: 8121, dtype: int64"
      ]
     },
     "execution_count": 165,
     "metadata": {},
     "output_type": "execute_result"
    }
   ],
   "source": [
    "df_cases['new_case'].value_counts()"
   ]
  },
  {
   "cell_type": "code",
   "execution_count": 166,
   "metadata": {},
   "outputs": [
    {
     "name": "stdout",
     "output_type": "stream",
     "text": [
      "<class 'pandas.core.frame.DataFrame'>\n",
      "DatetimeIndex: 59640 entries, 2020-01-22 to 2022-10-11\n",
      "Data columns (total 5 columns):\n",
      " #   Column     Non-Null Count  Dtype \n",
      "---  ------     --------------  ----- \n",
      " 0   state      59640 non-null  object\n",
      " 1   tot_cases  59640 non-null  int64 \n",
      " 2   new_case   59640 non-null  int64 \n",
      " 3   tot_death  59640 non-null  int64 \n",
      " 4   new_death  59640 non-null  int64 \n",
      "dtypes: int64(4), object(1)\n",
      "memory usage: 2.7+ MB\n"
     ]
    }
   ],
   "source": [
    "col =['tot_cases', 'new_case', 'tot_death', 'new_death']\n",
    "for c in col:\n",
    "    df_cases[c] = df_cases[c].map( lambda x: x.replace(',','')).astype(int)\n",
    "df_cases.info()"
   ]
  },
  {
   "cell_type": "code",
   "execution_count": 167,
   "metadata": {},
   "outputs": [
    {
     "data": {
      "text/plain": [
       "state        4117\n",
       "tot_cases    4117\n",
       "new_case     4117\n",
       "tot_death    4117\n",
       "new_death    4117\n",
       "dtype: int64"
      ]
     },
     "execution_count": 167,
     "metadata": {},
     "output_type": "execute_result"
    }
   ],
   "source": [
    "df_cases[df_cases['tot_cases']==0].count()"
   ]
  },
  {
   "cell_type": "code",
   "execution_count": 168,
   "metadata": {},
   "outputs": [
    {
     "data": {
      "text/html": [
       "<div>\n",
       "<style scoped>\n",
       "    .dataframe tbody tr th:only-of-type {\n",
       "        vertical-align: middle;\n",
       "    }\n",
       "\n",
       "    .dataframe tbody tr th {\n",
       "        vertical-align: top;\n",
       "    }\n",
       "\n",
       "    .dataframe thead th {\n",
       "        text-align: right;\n",
       "    }\n",
       "</style>\n",
       "<table border=\"1\" class=\"dataframe\">\n",
       "  <thead>\n",
       "    <tr style=\"text-align: right;\">\n",
       "      <th></th>\n",
       "      <th>state</th>\n",
       "      <th>tot_cases</th>\n",
       "      <th>new_case</th>\n",
       "      <th>tot_death</th>\n",
       "      <th>new_death</th>\n",
       "    </tr>\n",
       "    <tr>\n",
       "      <th>submission_date</th>\n",
       "      <th></th>\n",
       "      <th></th>\n",
       "      <th></th>\n",
       "      <th></th>\n",
       "      <th></th>\n",
       "    </tr>\n",
       "  </thead>\n",
       "  <tbody>\n",
       "    <tr>\n",
       "      <th>2020-01-22</th>\n",
       "      <td>AS</td>\n",
       "      <td>0</td>\n",
       "      <td>0</td>\n",
       "      <td>0</td>\n",
       "      <td>0</td>\n",
       "    </tr>\n",
       "    <tr>\n",
       "      <th>2020-01-22</th>\n",
       "      <td>NYC</td>\n",
       "      <td>0</td>\n",
       "      <td>0</td>\n",
       "      <td>0</td>\n",
       "      <td>0</td>\n",
       "    </tr>\n",
       "    <tr>\n",
       "      <th>2020-01-22</th>\n",
       "      <td>AL</td>\n",
       "      <td>0</td>\n",
       "      <td>0</td>\n",
       "      <td>0</td>\n",
       "      <td>0</td>\n",
       "    </tr>\n",
       "    <tr>\n",
       "      <th>2020-01-22</th>\n",
       "      <td>GU</td>\n",
       "      <td>0</td>\n",
       "      <td>0</td>\n",
       "      <td>0</td>\n",
       "      <td>0</td>\n",
       "    </tr>\n",
       "    <tr>\n",
       "      <th>2020-01-22</th>\n",
       "      <td>DC</td>\n",
       "      <td>0</td>\n",
       "      <td>0</td>\n",
       "      <td>0</td>\n",
       "      <td>0</td>\n",
       "    </tr>\n",
       "    <tr>\n",
       "      <th>...</th>\n",
       "      <td>...</td>\n",
       "      <td>...</td>\n",
       "      <td>...</td>\n",
       "      <td>...</td>\n",
       "      <td>...</td>\n",
       "    </tr>\n",
       "    <tr>\n",
       "      <th>2020-01-23</th>\n",
       "      <td>PR</td>\n",
       "      <td>0</td>\n",
       "      <td>0</td>\n",
       "      <td>0</td>\n",
       "      <td>0</td>\n",
       "    </tr>\n",
       "    <tr>\n",
       "      <th>2020-01-23</th>\n",
       "      <td>LA</td>\n",
       "      <td>0</td>\n",
       "      <td>0</td>\n",
       "      <td>0</td>\n",
       "      <td>0</td>\n",
       "    </tr>\n",
       "    <tr>\n",
       "      <th>2020-01-23</th>\n",
       "      <td>OR</td>\n",
       "      <td>0</td>\n",
       "      <td>0</td>\n",
       "      <td>0</td>\n",
       "      <td>0</td>\n",
       "    </tr>\n",
       "    <tr>\n",
       "      <th>2020-01-23</th>\n",
       "      <td>PW</td>\n",
       "      <td>0</td>\n",
       "      <td>0</td>\n",
       "      <td>0</td>\n",
       "      <td>0</td>\n",
       "    </tr>\n",
       "    <tr>\n",
       "      <th>2020-01-23</th>\n",
       "      <td>NV</td>\n",
       "      <td>0</td>\n",
       "      <td>0</td>\n",
       "      <td>0</td>\n",
       "      <td>0</td>\n",
       "    </tr>\n",
       "  </tbody>\n",
       "</table>\n",
       "<p>70 rows × 5 columns</p>\n",
       "</div>"
      ],
      "text/plain": [
       "                state  tot_cases  new_case  tot_death  new_death\n",
       "submission_date                                                 \n",
       "2020-01-22         AS          0         0          0          0\n",
       "2020-01-22        NYC          0         0          0          0\n",
       "2020-01-22         AL          0         0          0          0\n",
       "2020-01-22         GU          0         0          0          0\n",
       "2020-01-22         DC          0         0          0          0\n",
       "...               ...        ...       ...        ...        ...\n",
       "2020-01-23         PR          0         0          0          0\n",
       "2020-01-23         LA          0         0          0          0\n",
       "2020-01-23         OR          0         0          0          0\n",
       "2020-01-23         PW          0         0          0          0\n",
       "2020-01-23         NV          0         0          0          0\n",
       "\n",
       "[70 rows x 5 columns]"
      ]
     },
     "execution_count": 168,
     "metadata": {},
     "output_type": "execute_result"
    }
   ],
   "source": [
    "df_cases.head(70)"
   ]
  },
  {
   "cell_type": "code",
   "execution_count": 169,
   "metadata": {},
   "outputs": [],
   "source": [
    "#df_cases.drop(df_cases[df_cases['tot_cases']==0].index, inplace=True)"
   ]
  },
  {
   "cell_type": "code",
   "execution_count": 170,
   "metadata": {},
   "outputs": [
    {
     "data": {
      "text/plain": [
       "(59640, 5)"
      ]
     },
     "execution_count": 170,
     "metadata": {},
     "output_type": "execute_result"
    }
   ],
   "source": [
    "df_cases.shape"
   ]
  },
  {
   "cell_type": "code",
   "execution_count": 171,
   "metadata": {},
   "outputs": [
    {
     "data": {
      "text/html": [
       "<div>\n",
       "<style scoped>\n",
       "    .dataframe tbody tr th:only-of-type {\n",
       "        vertical-align: middle;\n",
       "    }\n",
       "\n",
       "    .dataframe tbody tr th {\n",
       "        vertical-align: top;\n",
       "    }\n",
       "\n",
       "    .dataframe thead th {\n",
       "        text-align: right;\n",
       "    }\n",
       "</style>\n",
       "<table border=\"1\" class=\"dataframe\">\n",
       "  <thead>\n",
       "    <tr style=\"text-align: right;\">\n",
       "      <th></th>\n",
       "      <th>state</th>\n",
       "      <th>tot_cases</th>\n",
       "      <th>new_case</th>\n",
       "      <th>tot_death</th>\n",
       "      <th>new_death</th>\n",
       "    </tr>\n",
       "    <tr>\n",
       "      <th>submission_date</th>\n",
       "      <th></th>\n",
       "      <th></th>\n",
       "      <th></th>\n",
       "      <th></th>\n",
       "      <th></th>\n",
       "    </tr>\n",
       "  </thead>\n",
       "  <tbody>\n",
       "    <tr>\n",
       "      <th>2020-01-22</th>\n",
       "      <td>AS</td>\n",
       "      <td>0</td>\n",
       "      <td>0</td>\n",
       "      <td>0</td>\n",
       "      <td>0</td>\n",
       "    </tr>\n",
       "    <tr>\n",
       "      <th>2020-01-22</th>\n",
       "      <td>NYC</td>\n",
       "      <td>0</td>\n",
       "      <td>0</td>\n",
       "      <td>0</td>\n",
       "      <td>0</td>\n",
       "    </tr>\n",
       "    <tr>\n",
       "      <th>2020-01-22</th>\n",
       "      <td>AL</td>\n",
       "      <td>0</td>\n",
       "      <td>0</td>\n",
       "      <td>0</td>\n",
       "      <td>0</td>\n",
       "    </tr>\n",
       "    <tr>\n",
       "      <th>2020-01-22</th>\n",
       "      <td>GU</td>\n",
       "      <td>0</td>\n",
       "      <td>0</td>\n",
       "      <td>0</td>\n",
       "      <td>0</td>\n",
       "    </tr>\n",
       "    <tr>\n",
       "      <th>2020-01-22</th>\n",
       "      <td>DC</td>\n",
       "      <td>0</td>\n",
       "      <td>0</td>\n",
       "      <td>0</td>\n",
       "      <td>0</td>\n",
       "    </tr>\n",
       "    <tr>\n",
       "      <th>...</th>\n",
       "      <td>...</td>\n",
       "      <td>...</td>\n",
       "      <td>...</td>\n",
       "      <td>...</td>\n",
       "      <td>...</td>\n",
       "    </tr>\n",
       "    <tr>\n",
       "      <th>2020-01-23</th>\n",
       "      <td>PR</td>\n",
       "      <td>0</td>\n",
       "      <td>0</td>\n",
       "      <td>0</td>\n",
       "      <td>0</td>\n",
       "    </tr>\n",
       "    <tr>\n",
       "      <th>2020-01-23</th>\n",
       "      <td>LA</td>\n",
       "      <td>0</td>\n",
       "      <td>0</td>\n",
       "      <td>0</td>\n",
       "      <td>0</td>\n",
       "    </tr>\n",
       "    <tr>\n",
       "      <th>2020-01-23</th>\n",
       "      <td>OR</td>\n",
       "      <td>0</td>\n",
       "      <td>0</td>\n",
       "      <td>0</td>\n",
       "      <td>0</td>\n",
       "    </tr>\n",
       "    <tr>\n",
       "      <th>2020-01-23</th>\n",
       "      <td>PW</td>\n",
       "      <td>0</td>\n",
       "      <td>0</td>\n",
       "      <td>0</td>\n",
       "      <td>0</td>\n",
       "    </tr>\n",
       "    <tr>\n",
       "      <th>2020-01-23</th>\n",
       "      <td>NV</td>\n",
       "      <td>0</td>\n",
       "      <td>0</td>\n",
       "      <td>0</td>\n",
       "      <td>0</td>\n",
       "    </tr>\n",
       "  </tbody>\n",
       "</table>\n",
       "<p>70 rows × 5 columns</p>\n",
       "</div>"
      ],
      "text/plain": [
       "                state  tot_cases  new_case  tot_death  new_death\n",
       "submission_date                                                 \n",
       "2020-01-22         AS          0         0          0          0\n",
       "2020-01-22        NYC          0         0          0          0\n",
       "2020-01-22         AL          0         0          0          0\n",
       "2020-01-22         GU          0         0          0          0\n",
       "2020-01-22         DC          0         0          0          0\n",
       "...               ...        ...       ...        ...        ...\n",
       "2020-01-23         PR          0         0          0          0\n",
       "2020-01-23         LA          0         0          0          0\n",
       "2020-01-23         OR          0         0          0          0\n",
       "2020-01-23         PW          0         0          0          0\n",
       "2020-01-23         NV          0         0          0          0\n",
       "\n",
       "[70 rows x 5 columns]"
      ]
     },
     "execution_count": 171,
     "metadata": {},
     "output_type": "execute_result"
    }
   ],
   "source": [
    "df_cases.head(70)"
   ]
  },
  {
   "cell_type": "markdown",
   "metadata": {},
   "source": [
    "##  EDA - Covid Cases in US \n",
    "_____"
   ]
  },
  {
   "cell_type": "code",
   "execution_count": 172,
   "metadata": {},
   "outputs": [],
   "source": [
    "# Creating a copy of dataset to perform EDA\n",
    "df_deaths = df_cases.copy()\n",
    "\n",
    "df = df_cases.copy()\n"
   ]
  },
  {
   "cell_type": "code",
   "execution_count": 173,
   "metadata": {},
   "outputs": [
    {
     "data": {
      "text/html": [
       "<div>\n",
       "<style scoped>\n",
       "    .dataframe tbody tr th:only-of-type {\n",
       "        vertical-align: middle;\n",
       "    }\n",
       "\n",
       "    .dataframe tbody tr th {\n",
       "        vertical-align: top;\n",
       "    }\n",
       "\n",
       "    .dataframe thead th {\n",
       "        text-align: right;\n",
       "    }\n",
       "</style>\n",
       "<table border=\"1\" class=\"dataframe\">\n",
       "  <thead>\n",
       "    <tr style=\"text-align: right;\">\n",
       "      <th></th>\n",
       "      <th>tot_cases</th>\n",
       "      <th>new_case</th>\n",
       "      <th>tot_death</th>\n",
       "      <th>new_death</th>\n",
       "    </tr>\n",
       "    <tr>\n",
       "      <th>submission_date</th>\n",
       "      <th></th>\n",
       "      <th></th>\n",
       "      <th></th>\n",
       "      <th></th>\n",
       "    </tr>\n",
       "  </thead>\n",
       "  <tbody>\n",
       "    <tr>\n",
       "      <th>2020-01-22</th>\n",
       "      <td>4</td>\n",
       "      <td>4</td>\n",
       "      <td>0</td>\n",
       "      <td>0</td>\n",
       "    </tr>\n",
       "    <tr>\n",
       "      <th>2020-01-23</th>\n",
       "      <td>6</td>\n",
       "      <td>2</td>\n",
       "      <td>0</td>\n",
       "      <td>0</td>\n",
       "    </tr>\n",
       "    <tr>\n",
       "      <th>2020-01-24</th>\n",
       "      <td>7</td>\n",
       "      <td>1</td>\n",
       "      <td>0</td>\n",
       "      <td>0</td>\n",
       "    </tr>\n",
       "    <tr>\n",
       "      <th>2020-01-25</th>\n",
       "      <td>7</td>\n",
       "      <td>0</td>\n",
       "      <td>0</td>\n",
       "      <td>0</td>\n",
       "    </tr>\n",
       "    <tr>\n",
       "      <th>2020-01-26</th>\n",
       "      <td>8</td>\n",
       "      <td>1</td>\n",
       "      <td>0</td>\n",
       "      <td>0</td>\n",
       "    </tr>\n",
       "  </tbody>\n",
       "</table>\n",
       "</div>"
      ],
      "text/plain": [
       "                 tot_cases  new_case  tot_death  new_death\n",
       "submission_date                                           \n",
       "2020-01-22               4         4          0          0\n",
       "2020-01-23               6         2          0          0\n",
       "2020-01-24               7         1          0          0\n",
       "2020-01-25               7         0          0          0\n",
       "2020-01-26               8         1          0          0"
      ]
     },
     "execution_count": 173,
     "metadata": {},
     "output_type": "execute_result"
    }
   ],
   "source": [
    "# I will perform EDA in US cases so I need to sum cases from all states.\n",
    "# to do this I will sum the cases for the same dates using group by.\n",
    "# I can't use tot_cases because this column is acumulative so I will sum the new cases.\n",
    "df = df.groupby(by=df.index).sum()\n",
    "df.head()"
   ]
  },
  {
   "cell_type": "code",
   "execution_count": 174,
   "metadata": {},
   "outputs": [],
   "source": [
    "df.drop(columns=['tot_cases','tot_death','new_death'], inplace=True)"
   ]
  },
  {
   "cell_type": "code",
   "execution_count": 175,
   "metadata": {},
   "outputs": [
    {
     "name": "stdout",
     "output_type": "stream",
     "text": [
      "<class 'pandas.core.frame.DataFrame'>\n",
      "DatetimeIndex: 994 entries, 2020-01-22 to 2022-10-11\n",
      "Data columns (total 1 columns):\n",
      " #   Column    Non-Null Count  Dtype\n",
      "---  ------    --------------  -----\n",
      " 0   new_case  994 non-null    int64\n",
      "dtypes: int64(1)\n",
      "memory usage: 15.5 KB\n"
     ]
    }
   ],
   "source": [
    "df.info()"
   ]
  },
  {
   "cell_type": "code",
   "execution_count": 176,
   "metadata": {},
   "outputs": [
    {
     "data": {
      "image/png": "[encoded data removed]",
      "text/plain": [
       "<Figure size 1008x576 with 1 Axes>"
      ]
     },
     "metadata": {
      "needs_background": "light"
     },
     "output_type": "display_data"
    }
   ],
   "source": [
    "plt.figure(figsize=(14,8))\n",
    "plt.plot(df['new_case']);"
   ]
  },
  {
   "cell_type": "code",
   "execution_count": 177,
   "metadata": {},
   "outputs": [
    {
     "data": {
      "text/html": [
       "<div>\n",
       "<style scoped>\n",
       "    .dataframe tbody tr th:only-of-type {\n",
       "        vertical-align: middle;\n",
       "    }\n",
       "\n",
       "    .dataframe tbody tr th {\n",
       "        vertical-align: top;\n",
       "    }\n",
       "\n",
       "    .dataframe thead th {\n",
       "        text-align: right;\n",
       "    }\n",
       "</style>\n",
       "<table border=\"1\" class=\"dataframe\">\n",
       "  <thead>\n",
       "    <tr style=\"text-align: right;\">\n",
       "      <th></th>\n",
       "      <th>new_case</th>\n",
       "    </tr>\n",
       "    <tr>\n",
       "      <th>submission_date</th>\n",
       "      <th></th>\n",
       "    </tr>\n",
       "  </thead>\n",
       "  <tbody>\n",
       "    <tr>\n",
       "      <th>2020-01-26</th>\n",
       "      <td>1.600000</td>\n",
       "    </tr>\n",
       "    <tr>\n",
       "      <th>2020-02-02</th>\n",
       "      <td>0.714286</td>\n",
       "    </tr>\n",
       "    <tr>\n",
       "      <th>2020-02-09</th>\n",
       "      <td>1.000000</td>\n",
       "    </tr>\n",
       "    <tr>\n",
       "      <th>2020-02-16</th>\n",
       "      <td>0.571429</td>\n",
       "    </tr>\n",
       "    <tr>\n",
       "      <th>2020-02-23</th>\n",
       "      <td>3.428571</td>\n",
       "    </tr>\n",
       "  </tbody>\n",
       "</table>\n",
       "</div>"
      ],
      "text/plain": [
       "                 new_case\n",
       "submission_date          \n",
       "2020-01-26       1.600000\n",
       "2020-02-02       0.714286\n",
       "2020-02-09       1.000000\n",
       "2020-02-16       0.571429\n",
       "2020-02-23       3.428571"
      ]
     },
     "execution_count": 177,
     "metadata": {},
     "output_type": "execute_result"
    }
   ],
   "source": [
    "df = df.resample('W').mean()\n",
    "df_cases_diff = df.copy()\n",
    "df.head()"
   ]
  },
  {
   "cell_type": "code",
   "execution_count": 178,
   "metadata": {},
   "outputs": [
    {
     "data": {
      "image/png": "[encoded data removed]",
      "text/plain": [
       "<Figure size 1296x864 with 3 Axes>"
      ]
     },
     "metadata": {
      "needs_background": "light"
     },
     "output_type": "display_data"
    }
   ],
   "source": [
    "df['moving_average_1'] = df['new_case'].rolling(window=1).mean()\n",
    "df['moving_average_4'] = df['new_case'].rolling(window=4).mean()\n",
    "df['moving_average_13'] = df['new_case'].rolling(window=13).mean()\n",
    "\n",
    "fig, axes = plt.subplots(nrows=3, figsize=(18,12))\n",
    "\n",
    "axes[0].plot(df['moving_average_1'])\n",
    "axes[1].plot(df['moving_average_4'])\n",
    "axes[2].plot(df['moving_average_13'])\n",
    "\n",
    "\n",
    "fig.suptitle('Covid Cases US')\n",
    "axes[0].title.set_text('Weekly Cases')\n",
    "axes[1].title.set_text('4-week Cases')\n",
    "axes[2].title.set_text('13-week Cases')\n",
    "\n"
   ]
  },
  {
   "cell_type": "code",
   "execution_count": 179,
   "metadata": {},
   "outputs": [
    {
     "data": {
      "text/html": [
       "<div>\n",
       "<style scoped>\n",
       "    .dataframe tbody tr th:only-of-type {\n",
       "        vertical-align: middle;\n",
       "    }\n",
       "\n",
       "    .dataframe tbody tr th {\n",
       "        vertical-align: top;\n",
       "    }\n",
       "\n",
       "    .dataframe thead th {\n",
       "        text-align: right;\n",
       "    }\n",
       "</style>\n",
       "<table border=\"1\" class=\"dataframe\">\n",
       "  <thead>\n",
       "    <tr style=\"text-align: right;\">\n",
       "      <th></th>\n",
       "      <th>new_case</th>\n",
       "      <th>moving_average_1</th>\n",
       "      <th>moving_average_4</th>\n",
       "      <th>moving_average_13</th>\n",
       "    </tr>\n",
       "    <tr>\n",
       "      <th>submission_date</th>\n",
       "      <th></th>\n",
       "      <th></th>\n",
       "      <th></th>\n",
       "      <th></th>\n",
       "    </tr>\n",
       "  </thead>\n",
       "  <tbody>\n",
       "    <tr>\n",
       "      <th>2020-04-19</th>\n",
       "      <td>27436.857143</td>\n",
       "      <td>27436.857143</td>\n",
       "      <td>25772.964286</td>\n",
       "      <td>8494.298901</td>\n",
       "    </tr>\n",
       "    <tr>\n",
       "      <th>2020-04-26</th>\n",
       "      <td>30087.571429</td>\n",
       "      <td>30087.571429</td>\n",
       "      <td>28939.857143</td>\n",
       "      <td>10808.604396</td>\n",
       "    </tr>\n",
       "    <tr>\n",
       "      <th>2020-05-03</th>\n",
       "      <td>27584.571429</td>\n",
       "      <td>27584.571429</td>\n",
       "      <td>29096.714286</td>\n",
       "      <td>12930.439560</td>\n",
       "    </tr>\n",
       "    <tr>\n",
       "      <th>2020-05-10</th>\n",
       "      <td>24957.142857</td>\n",
       "      <td>24957.142857</td>\n",
       "      <td>27516.535714</td>\n",
       "      <td>14850.142857</td>\n",
       "    </tr>\n",
       "    <tr>\n",
       "      <th>2020-05-17</th>\n",
       "      <td>24088.142857</td>\n",
       "      <td>24088.142857</td>\n",
       "      <td>26679.357143</td>\n",
       "      <td>16703.032967</td>\n",
       "    </tr>\n",
       "  </tbody>\n",
       "</table>\n",
       "</div>"
      ],
      "text/plain": [
       "                     new_case  moving_average_1  moving_average_4  \\\n",
       "submission_date                                                     \n",
       "2020-04-19       27436.857143      27436.857143      25772.964286   \n",
       "2020-04-26       30087.571429      30087.571429      28939.857143   \n",
       "2020-05-03       27584.571429      27584.571429      29096.714286   \n",
       "2020-05-10       24957.142857      24957.142857      27516.535714   \n",
       "2020-05-17       24088.142857      24088.142857      26679.357143   \n",
       "\n",
       "                 moving_average_13  \n",
       "submission_date                     \n",
       "2020-04-19             8494.298901  \n",
       "2020-04-26            10808.604396  \n",
       "2020-05-03            12930.439560  \n",
       "2020-05-10            14850.142857  \n",
       "2020-05-17            16703.032967  "
      ]
     },
     "execution_count": 179,
     "metadata": {},
     "output_type": "execute_result"
    }
   ],
   "source": [
    "df.dropna(inplace=True)\n",
    "df.head()"
   ]
  },
  {
   "cell_type": "code",
   "execution_count": 180,
   "metadata": {},
   "outputs": [
    {
     "data": {
      "image/png": "[encoded data removed]",
      "text/plain": [
       "<Figure size 1152x864 with 1 Axes>"
      ]
     },
     "metadata": {
      "needs_background": "light"
     },
     "output_type": "display_data"
    }
   ],
   "source": [
    "plt.figure(figsize=(16,12))\n",
    "plt.plot(df)\n",
    "plt.title('Covid Cases in US')\n",
    "plt.xlabel('Time')\n",
    "plt.ylabel('Number of Cases');"
   ]
  },
  {
   "cell_type": "code",
   "execution_count": 181,
   "metadata": {},
   "outputs": [
    {
     "data": {
      "image/png": "[encoded data removed]",
      "text/plain": [
       "<Figure size 432x288 with 1 Axes>"
      ]
     },
     "metadata": {
      "needs_background": "light"
     },
     "output_type": "display_data"
    }
   ],
   "source": [
    "# Generate the ACF plot on Weekly Sales data up to 52 time periods.\n",
    "plot_acf(df['new_case'], lags = 52);"
   ]
  },
  {
   "cell_type": "code",
   "execution_count": 182,
   "metadata": {},
   "outputs": [
    {
     "data": {
      "image/png": "[encoded data removed]",
      "text/plain": [
       "<Figure size 432x288 with 1 Axes>"
      ]
     },
     "metadata": {
      "needs_background": "light"
     },
     "output_type": "display_data"
    }
   ],
   "source": [
    "plot_pacf(df['new_case'], lags = 52, method='ywm' );"
   ]
  },
  {
   "cell_type": "markdown",
   "metadata": {},
   "source": [
    "### Evaluating Stationary\n",
    "---"
   ]
  },
  {
   "cell_type": "code",
   "execution_count": 183,
   "metadata": {},
   "outputs": [
    {
     "data": {
      "text/plain": [
       "Test Statistic   -3.264758\n",
       "p-value           0.016529\n",
       "dtype: float64"
      ]
     },
     "execution_count": 183,
     "metadata": {},
     "output_type": "execute_result"
    }
   ],
   "source": [
    "# Code written by Joseph Nelson.\n",
    "def interpret_dftest(dftest):\n",
    "    dfoutput = pd.Series(dftest[0:2], index=['Test Statistic','p-value'])\n",
    "    return dfoutput\n",
    "\n",
    "# Run ADF test on original (non-differenced!) data.\n",
    "interpret_dftest(adfuller(df['new_case']))"
   ]
  },
  {
   "cell_type": "markdown",
   "metadata": {},
   "source": [
    "` Because our p (0.016529) is bigger than alpha (0.01) we can not  accept that our series \"new_cases\" is stationary.`"
   ]
  },
  {
   "cell_type": "code",
   "execution_count": 184,
   "metadata": {},
   "outputs": [],
   "source": [
    "# Create train-test split.\n",
    "y_train, y_test = train_test_split(df['new_case'], test_size = 0.1,shuffle = False)"
   ]
  },
  {
   "cell_type": "code",
   "execution_count": 185,
   "metadata": {},
   "outputs": [
    {
     "data": {
      "text/plain": [
       "submission_date\n",
       "2022-06-12    107407.571429\n",
       "2022-06-19     98857.285714\n",
       "2022-06-26    107148.714286\n",
       "2022-07-03    113983.857143\n",
       "2022-07-10    111881.000000\n",
       "Freq: W-SUN, Name: new_case, dtype: float64"
      ]
     },
     "execution_count": 185,
     "metadata": {},
     "output_type": "execute_result"
    }
   ],
   "source": [
    "y_train.tail()"
   ]
  },
  {
   "cell_type": "code",
   "execution_count": 186,
   "metadata": {},
   "outputs": [
    {
     "data": {
      "text/plain": [
       "submission_date\n",
       "2022-07-17    129685.285714\n",
       "2022-07-24    128469.285714\n",
       "2022-07-31    120971.000000\n",
       "2022-08-07    114476.428571\n",
       "2022-08-14    101213.571429\n",
       "Freq: W-SUN, Name: new_case, dtype: float64"
      ]
     },
     "execution_count": 186,
     "metadata": {},
     "output_type": "execute_result"
    }
   ],
   "source": [
    "y_test.head()"
   ]
  },
  {
   "cell_type": "code",
   "execution_count": 187,
   "metadata": {},
   "outputs": [],
   "source": [
    "# Instantiate best model.\n",
    "#arima_5201 = ARIMA(endog = y_train, order = (52, 0, 1))\n",
    "arima_5201 = ARIMA(endog = y_train, order = (3, 0, 1))\n",
    "\n",
    "# Fit ARIMA model.\n",
    "model_5201 = arima_5201.fit()"
   ]
  },
  {
   "cell_type": "code",
   "execution_count": 188,
   "metadata": {},
   "outputs": [],
   "source": [
    "# Generate predictions based on test set.\n",
    "preds_5201 = model_5201.predict(start = y_test.index[0], end = y_test.index[-1])\n",
    "\n",
    "# Generate predictions based on train set.\n",
    "preds_train_5201 = model_5201.predict(start = y_train.index[0], end = y_train.index[-1])"
   ]
  },
  {
   "cell_type": "code",
   "execution_count": 189,
   "metadata": {},
   "outputs": [
    {
     "data": {
      "text/plain": [
       "1670139099.9838376"
      ]
     },
     "execution_count": 189,
     "metadata": {},
     "output_type": "execute_result"
    }
   ],
   "source": [
    "from sklearn import metrics\n",
    "metrics.mean_squared_error(y_test, preds_5201)"
   ]
  },
  {
   "cell_type": "code",
   "execution_count": 190,
   "metadata": {},
   "outputs": [
    {
     "data": {
      "text/plain": [
       "Text(0.5, 1.0, 'Weekly Sales for Store 1 with ARIMA(3, 0, 1) Predictions')"
      ]
     },
     "execution_count": 190,
     "metadata": {},
     "output_type": "execute_result"
    },
    {
     "data": {
      "image/png": "[encoded data removed]",
      "text/plain": [
       "<Figure size 720x432 with 1 Axes>"
      ]
     },
     "metadata": {
      "needs_background": "light"
     },
     "output_type": "display_data"
    }
   ],
   "source": [
    "# Plot data.\n",
    "plt.figure(figsize=(10,6))\n",
    "\n",
    "# Plot training data.\n",
    "plt.plot(y_train.index, y_train, color = 'blue')\n",
    "\n",
    "# Plot testing data.\n",
    "plt.plot(y_test.index, y_test, color = 'orange')\n",
    "\n",
    "# Plot predicted test values.\n",
    "plt.plot(y_test.index, preds_5201, color = 'green')\n",
    "\n",
    "plt.title(label = 'Weekly Sales for Store 1 with ARIMA(3, 0, 1) Predictions', fontsize=16)"
   ]
  },
  {
   "cell_type": "markdown",
   "metadata": {},
   "source": [
    "### SARIMA\n",
    "----"
   ]
  },
  {
   "cell_type": "code",
   "execution_count": 191,
   "metadata": {},
   "outputs": [
    {
     "name": "stdout",
     "output_type": "stream",
     "text": [
      "RUNNING THE L-BFGS-B CODE\n",
      "\n",
      "           * * *\n",
      "\n",
      "Machine precision = 2.220D-16\n",
      " N =            7     M =           10\n",
      "\n",
      "At X0         0 variables are exactly at the bounds\n",
      "\n",
      "At iterate    0    f=  1.01876D+01    |proj g|=  1.53410D+00\n"
     ]
    },
    {
     "name": "stderr",
     "output_type": "stream",
     "text": [
      " This problem is unconstrained.\n"
     ]
    },
    {
     "name": "stdout",
     "output_type": "stream",
     "text": [
      "\n",
      "At iterate    5    f=  9.61380D+00    |proj g|=  4.07625D-02\n",
      "\n",
      "At iterate   10    f=  9.60119D+00    |proj g|=  5.82532D-03\n",
      "\n",
      "At iterate   15    f=  9.59915D+00    |proj g|=  1.00264D-03\n",
      "\n",
      "At iterate   20    f=  9.59915D+00    |proj g|=  1.96093D-04\n",
      "\n",
      "At iterate   25    f=  9.59912D+00    |proj g|=  1.21219D-03\n",
      "\n",
      "At iterate   30    f=  9.59910D+00    |proj g|=  3.42874D-05\n",
      "\n",
      "           * * *\n",
      "\n",
      "Tit   = total number of iterations\n",
      "Tnf   = total number of function evaluations\n",
      "Tnint = total number of segments explored during Cauchy searches\n",
      "Skip  = number of BFGS updates skipped\n",
      "Nact  = number of active bounds at final generalized Cauchy point\n",
      "Projg = norm of the final projected gradient\n",
      "F     = final function value\n",
      "\n",
      "           * * *\n",
      "\n",
      "   N    Tit     Tnf  Tnint  Skip  Nact     Projg        F\n",
      "    7     31     36      1     0     0   9.947D-06   9.599D+00\n",
      "  F =   9.5991029623177706     \n",
      "\n",
      "CONVERGENCE: NORM_OF_PROJECTED_GRADIENT_<=_PGTOL            \n"
     ]
    }
   ],
   "source": [
    "# Fit a SARIMA(3, 0, 1) x (1, 1, 1, 22) model.\n",
    "sarima = SARIMAX(endog = y_train,\n",
    "                  order = (3, 0, 1),                # (p, d, q)\n",
    "                  seasonal_order=(1,1,1,22))       # (P, D, Q, S)\n",
    "\n",
    "# Fit SARIMA model.\n",
    "model_sarima = sarima.fit()"
   ]
  },
  {
   "cell_type": "code",
   "execution_count": 192,
   "metadata": {},
   "outputs": [],
   "source": [
    "# Generate predictions based on test set.\n",
    "preds_sarima = model_sarima.predict(start = y_test.index[0], end = y_test.index[-1])"
   ]
  },
  {
   "cell_type": "code",
   "execution_count": 193,
   "metadata": {},
   "outputs": [
    {
     "data": {
      "text/plain": [
       "436284355.8369504"
      ]
     },
     "execution_count": 193,
     "metadata": {},
     "output_type": "execute_result"
    }
   ],
   "source": [
    "# Evaluate predictions.\n",
    "metrics.mean_squared_error(y_test, preds_sarima)"
   ]
  },
  {
   "cell_type": "code",
   "execution_count": 194,
   "metadata": {},
   "outputs": [
    {
     "data": {
      "image/png": "[encoded data removed]",
      "text/plain": [
       "<Figure size 720x432 with 1 Axes>"
      ]
     },
     "metadata": {
      "needs_background": "light"
     },
     "output_type": "display_data"
    }
   ],
   "source": [
    "# Plot data.\n",
    "plt.figure(figsize=(10,6))\n",
    "\n",
    "# Plot training data.\n",
    "plt.plot(y_train.index, y_train, color = 'blue')\n",
    "\n",
    "# Plot testing data.\n",
    "plt.plot(y_test.index, y_test, color = 'orange')\n",
    "\n",
    "# Plot predicted test values.\n",
    "plt.plot(y_test.index, preds_sarima, color = 'green')\n",
    "\n",
    "    #order = (3, 0, 1),                # (p, d, q)\n",
    "     # seasonal_order=(1,1,1,22))     \n",
    "\n",
    "plt.title(label = 'Weekly Sales for Store 1 with S SARIMA(3, 0, 1) x (1, 1, 1, 22)Predictions', fontsize=16)\n",
    "plt.show();"
   ]
  },
  {
   "cell_type": "code",
   "execution_count": 195,
   "metadata": {},
   "outputs": [
    {
     "data": {
      "text/html": [
       "<div>\n",
       "<style scoped>\n",
       "    .dataframe tbody tr th:only-of-type {\n",
       "        vertical-align: middle;\n",
       "    }\n",
       "\n",
       "    .dataframe tbody tr th {\n",
       "        vertical-align: top;\n",
       "    }\n",
       "\n",
       "    .dataframe thead th {\n",
       "        text-align: right;\n",
       "    }\n",
       "</style>\n",
       "<table border=\"1\" class=\"dataframe\">\n",
       "  <thead>\n",
       "    <tr style=\"text-align: right;\">\n",
       "      <th></th>\n",
       "      <th>state</th>\n",
       "      <th>tot_cases</th>\n",
       "      <th>new_case</th>\n",
       "      <th>tot_death</th>\n",
       "      <th>new_death</th>\n",
       "    </tr>\n",
       "    <tr>\n",
       "      <th>submission_date</th>\n",
       "      <th></th>\n",
       "      <th></th>\n",
       "      <th></th>\n",
       "      <th></th>\n",
       "      <th></th>\n",
       "    </tr>\n",
       "  </thead>\n",
       "  <tbody>\n",
       "    <tr>\n",
       "      <th>2020-01-22</th>\n",
       "      <td>AS</td>\n",
       "      <td>0</td>\n",
       "      <td>0</td>\n",
       "      <td>0</td>\n",
       "      <td>0</td>\n",
       "    </tr>\n",
       "    <tr>\n",
       "      <th>2020-01-22</th>\n",
       "      <td>NYC</td>\n",
       "      <td>0</td>\n",
       "      <td>0</td>\n",
       "      <td>0</td>\n",
       "      <td>0</td>\n",
       "    </tr>\n",
       "    <tr>\n",
       "      <th>2020-01-22</th>\n",
       "      <td>AL</td>\n",
       "      <td>0</td>\n",
       "      <td>0</td>\n",
       "      <td>0</td>\n",
       "      <td>0</td>\n",
       "    </tr>\n",
       "    <tr>\n",
       "      <th>2020-01-22</th>\n",
       "      <td>GU</td>\n",
       "      <td>0</td>\n",
       "      <td>0</td>\n",
       "      <td>0</td>\n",
       "      <td>0</td>\n",
       "    </tr>\n",
       "    <tr>\n",
       "      <th>2020-01-22</th>\n",
       "      <td>DC</td>\n",
       "      <td>0</td>\n",
       "      <td>0</td>\n",
       "      <td>0</td>\n",
       "      <td>0</td>\n",
       "    </tr>\n",
       "  </tbody>\n",
       "</table>\n",
       "</div>"
      ],
      "text/plain": [
       "                state  tot_cases  new_case  tot_death  new_death\n",
       "submission_date                                                 \n",
       "2020-01-22         AS          0         0          0          0\n",
       "2020-01-22        NYC          0         0          0          0\n",
       "2020-01-22         AL          0         0          0          0\n",
       "2020-01-22         GU          0         0          0          0\n",
       "2020-01-22         DC          0         0          0          0"
      ]
     },
     "execution_count": 195,
     "metadata": {},
     "output_type": "execute_result"
    }
   ],
   "source": [
    "df_cases.head()"
   ]
  },
  {
   "cell_type": "code",
   "execution_count": 196,
   "metadata": {},
   "outputs": [
    {
     "data": {
      "text/html": [
       "<div>\n",
       "<style scoped>\n",
       "    .dataframe tbody tr th:only-of-type {\n",
       "        vertical-align: middle;\n",
       "    }\n",
       "\n",
       "    .dataframe tbody tr th {\n",
       "        vertical-align: top;\n",
       "    }\n",
       "\n",
       "    .dataframe thead th {\n",
       "        text-align: right;\n",
       "    }\n",
       "</style>\n",
       "<table border=\"1\" class=\"dataframe\">\n",
       "  <thead>\n",
       "    <tr style=\"text-align: right;\">\n",
       "      <th></th>\n",
       "      <th>new_case</th>\n",
       "    </tr>\n",
       "    <tr>\n",
       "      <th>submission_date</th>\n",
       "      <th></th>\n",
       "    </tr>\n",
       "  </thead>\n",
       "  <tbody>\n",
       "    <tr>\n",
       "      <th>2020-01-26</th>\n",
       "      <td>1.600000</td>\n",
       "    </tr>\n",
       "    <tr>\n",
       "      <th>2020-02-02</th>\n",
       "      <td>0.714286</td>\n",
       "    </tr>\n",
       "    <tr>\n",
       "      <th>2020-02-09</th>\n",
       "      <td>1.000000</td>\n",
       "    </tr>\n",
       "    <tr>\n",
       "      <th>2020-02-16</th>\n",
       "      <td>0.571429</td>\n",
       "    </tr>\n",
       "    <tr>\n",
       "      <th>2020-02-23</th>\n",
       "      <td>3.428571</td>\n",
       "    </tr>\n",
       "  </tbody>\n",
       "</table>\n",
       "</div>"
      ],
      "text/plain": [
       "                 new_case\n",
       "submission_date          \n",
       "2020-01-26       1.600000\n",
       "2020-02-02       0.714286\n",
       "2020-02-09       1.000000\n",
       "2020-02-16       0.571429\n",
       "2020-02-23       3.428571"
      ]
     },
     "execution_count": 196,
     "metadata": {},
     "output_type": "execute_result"
    }
   ],
   "source": [
    "df_cases_diff.head()"
   ]
  },
  {
   "cell_type": "code",
   "execution_count": 197,
   "metadata": {},
   "outputs": [
    {
     "data": {
      "text/html": [
       "<div>\n",
       "<style scoped>\n",
       "    .dataframe tbody tr th:only-of-type {\n",
       "        vertical-align: middle;\n",
       "    }\n",
       "\n",
       "    .dataframe tbody tr th {\n",
       "        vertical-align: top;\n",
       "    }\n",
       "\n",
       "    .dataframe thead th {\n",
       "        text-align: right;\n",
       "    }\n",
       "</style>\n",
       "<table border=\"1\" class=\"dataframe\">\n",
       "  <thead>\n",
       "    <tr style=\"text-align: right;\">\n",
       "      <th></th>\n",
       "      <th>new_case</th>\n",
       "      <th>diff_1</th>\n",
       "      <th>diff_2</th>\n",
       "    </tr>\n",
       "    <tr>\n",
       "      <th>submission_date</th>\n",
       "      <th></th>\n",
       "      <th></th>\n",
       "      <th></th>\n",
       "    </tr>\n",
       "  </thead>\n",
       "  <tbody>\n",
       "    <tr>\n",
       "      <th>2020-01-26</th>\n",
       "      <td>1.600000</td>\n",
       "      <td>NaN</td>\n",
       "      <td>NaN</td>\n",
       "    </tr>\n",
       "    <tr>\n",
       "      <th>2020-02-02</th>\n",
       "      <td>0.714286</td>\n",
       "      <td>-0.885714</td>\n",
       "      <td>NaN</td>\n",
       "    </tr>\n",
       "    <tr>\n",
       "      <th>2020-02-09</th>\n",
       "      <td>1.000000</td>\n",
       "      <td>0.285714</td>\n",
       "      <td>1.171429</td>\n",
       "    </tr>\n",
       "    <tr>\n",
       "      <th>2020-02-16</th>\n",
       "      <td>0.571429</td>\n",
       "      <td>-0.428571</td>\n",
       "      <td>-0.714286</td>\n",
       "    </tr>\n",
       "    <tr>\n",
       "      <th>2020-02-23</th>\n",
       "      <td>3.428571</td>\n",
       "      <td>2.857143</td>\n",
       "      <td>3.285714</td>\n",
       "    </tr>\n",
       "  </tbody>\n",
       "</table>\n",
       "</div>"
      ],
      "text/plain": [
       "                 new_case    diff_1    diff_2\n",
       "submission_date                              \n",
       "2020-01-26       1.600000       NaN       NaN\n",
       "2020-02-02       0.714286 -0.885714       NaN\n",
       "2020-02-09       1.000000  0.285714  1.171429\n",
       "2020-02-16       0.571429 -0.428571 -0.714286\n",
       "2020-02-23       3.428571  2.857143  3.285714"
      ]
     },
     "execution_count": 197,
     "metadata": {},
     "output_type": "execute_result"
    }
   ],
   "source": [
    "df_cases_diff['diff_1'] = df_cases_diff['new_case'].diff()\n",
    "df_cases_diff['diff_2'] = df_cases_diff['new_case'].diff().diff()\n",
    "df_cases_diff.head()"
   ]
  },
  {
   "cell_type": "code",
   "execution_count": 198,
   "metadata": {},
   "outputs": [
    {
     "data": {
      "text/html": [
       "<div>\n",
       "<style scoped>\n",
       "    .dataframe tbody tr th:only-of-type {\n",
       "        vertical-align: middle;\n",
       "    }\n",
       "\n",
       "    .dataframe tbody tr th {\n",
       "        vertical-align: top;\n",
       "    }\n",
       "\n",
       "    .dataframe thead th {\n",
       "        text-align: right;\n",
       "    }\n",
       "</style>\n",
       "<table border=\"1\" class=\"dataframe\">\n",
       "  <thead>\n",
       "    <tr style=\"text-align: right;\">\n",
       "      <th></th>\n",
       "      <th>new_case</th>\n",
       "      <th>diff_1</th>\n",
       "      <th>diff_2</th>\n",
       "    </tr>\n",
       "    <tr>\n",
       "      <th>submission_date</th>\n",
       "      <th></th>\n",
       "      <th></th>\n",
       "      <th></th>\n",
       "    </tr>\n",
       "  </thead>\n",
       "  <tbody>\n",
       "    <tr>\n",
       "      <th>2020-02-09</th>\n",
       "      <td>1.000000</td>\n",
       "      <td>0.285714</td>\n",
       "      <td>1.171429</td>\n",
       "    </tr>\n",
       "    <tr>\n",
       "      <th>2020-02-16</th>\n",
       "      <td>0.571429</td>\n",
       "      <td>-0.428571</td>\n",
       "      <td>-0.714286</td>\n",
       "    </tr>\n",
       "    <tr>\n",
       "      <th>2020-02-23</th>\n",
       "      <td>3.428571</td>\n",
       "      <td>2.857143</td>\n",
       "      <td>3.285714</td>\n",
       "    </tr>\n",
       "    <tr>\n",
       "      <th>2020-03-01</th>\n",
       "      <td>7.428571</td>\n",
       "      <td>4.000000</td>\n",
       "      <td>1.142857</td>\n",
       "    </tr>\n",
       "    <tr>\n",
       "      <th>2020-03-08</th>\n",
       "      <td>103.142857</td>\n",
       "      <td>95.714286</td>\n",
       "      <td>91.714286</td>\n",
       "    </tr>\n",
       "  </tbody>\n",
       "</table>\n",
       "</div>"
      ],
      "text/plain": [
       "                   new_case     diff_1     diff_2\n",
       "submission_date                                  \n",
       "2020-02-09         1.000000   0.285714   1.171429\n",
       "2020-02-16         0.571429  -0.428571  -0.714286\n",
       "2020-02-23         3.428571   2.857143   3.285714\n",
       "2020-03-01         7.428571   4.000000   1.142857\n",
       "2020-03-08       103.142857  95.714286  91.714286"
      ]
     },
     "execution_count": 198,
     "metadata": {},
     "output_type": "execute_result"
    }
   ],
   "source": [
    "df_cases_diff.dropna(inplace=True)\n",
    "df_cases_diff.head()"
   ]
  },
  {
   "cell_type": "code",
   "execution_count": 199,
   "metadata": {},
   "outputs": [
    {
     "data": {
      "text/plain": [
       "Test Statistic   -3.320787\n",
       "p-value           0.013974\n",
       "dtype: float64"
      ]
     },
     "execution_count": 199,
     "metadata": {},
     "output_type": "execute_result"
    }
   ],
   "source": [
    "# Run ADF test on original (non-differenced!) data.\n",
    "interpret_dftest(adfuller(df_cases_diff['new_case']))"
   ]
  },
  {
   "cell_type": "code",
   "execution_count": 200,
   "metadata": {},
   "outputs": [],
   "source": [
    "# Create train-test split.\n",
    "y_train, y_test = train_test_split(df_cases_diff['new_case'], test_size = 0.1,shuffle = False)"
   ]
  },
  {
   "cell_type": "code",
   "execution_count": 201,
   "metadata": {},
   "outputs": [
    {
     "data": {
      "text/plain": [
       "submission_date\n",
       "2022-06-05    103067.428571\n",
       "2022-06-12    107407.571429\n",
       "2022-06-19     98857.285714\n",
       "2022-06-26    107148.714286\n",
       "2022-07-03    113983.857143\n",
       "Freq: W-SUN, Name: new_case, dtype: float64"
      ]
     },
     "execution_count": 201,
     "metadata": {},
     "output_type": "execute_result"
    }
   ],
   "source": [
    "y_train.tail()"
   ]
  },
  {
   "cell_type": "code",
   "execution_count": 202,
   "metadata": {},
   "outputs": [
    {
     "data": {
      "text/plain": [
       "submission_date\n",
       "2022-07-10    111881.000000\n",
       "2022-07-17    129685.285714\n",
       "2022-07-24    128469.285714\n",
       "2022-07-31    120971.000000\n",
       "2022-08-07    114476.428571\n",
       "Freq: W-SUN, Name: new_case, dtype: float64"
      ]
     },
     "execution_count": 202,
     "metadata": {},
     "output_type": "execute_result"
    }
   ],
   "source": [
    "y_test.head()"
   ]
  },
  {
   "cell_type": "code",
   "execution_count": 203,
   "metadata": {},
   "outputs": [
    {
     "name": "stdout",
     "output_type": "stream",
     "text": [
      "RUNNING THE L-BFGS-B CODE\n",
      "\n",
      "           * * *\n",
      "\n",
      "Machine precision = 2.220D-16\n",
      " N =            2     M =           10\n",
      "\n",
      "At X0         0 variables are exactly at the bounds\n",
      "\n",
      "At iterate    0    f=  1.21685D+01    |proj g|=  2.14268D-03\n",
      "\n",
      "           * * *\n",
      "\n",
      "Tit   = total number of iterations\n",
      "Tnf   = total number of function evaluations\n",
      "Tnint = total number of segments explored during Cauchy searches\n",
      "Skip  = number of BFGS updates skipped\n",
      "Nact  = number of active bounds at final generalized Cauchy point\n",
      "Projg = norm of the final projected gradient\n",
      "F     = final function value\n",
      "\n",
      "           * * *\n",
      "\n",
      "   N    Tit     Tnf  Tnint  Skip  Nact     Projg        F\n",
      "    2      3      5      1     0     0   5.274D-06   1.217D+01\n",
      "  F =   12.168175861504078     \n",
      "\n",
      "CONVERGENCE: NORM_OF_PROJECTED_GRADIENT_<=_PGTOL            \n"
     ]
    },
    {
     "name": "stderr",
     "output_type": "stream",
     "text": [
      " This problem is unconstrained.\n"
     ]
    }
   ],
   "source": [
    "# Fit a SARIMA(2, 0, 2) x (1, 1, 1, 52) model.\n",
    "#CONVERGENCE: NORM_OF_PROJECTED_GRADIENT_<=_PGTOL            \n",
    "#Our model that minimizes MSE on the training data is the SARIMA(1, 0, 0)x(0,0,0,16).\n",
    "#This model has an MSE of 990000000000000000.\n",
    "#(1,0,0): 328044210.2485147\n",
    "#(3,1,1):1835103241.9625137\n",
    "sarima = SARIMAX(endog = y_train,\n",
    "                  order = (1, 0, 0),                # (p, d, q)\n",
    "                  seasonal_order=(0,0,0,22))       # (P, D, Q, S)\n",
    "\n",
    "# Fit SARIMA model.\n",
    "model_sarima = sarima.fit()"
   ]
  },
  {
   "cell_type": "code",
   "execution_count": 204,
   "metadata": {},
   "outputs": [
    {
     "data": {
      "text/plain": [
       "328044210.2485147"
      ]
     },
     "execution_count": 204,
     "metadata": {},
     "output_type": "execute_result"
    }
   ],
   "source": [
    "# Generate predictions based on test set. # Evaluate predictions MSE.\n",
    "preds_sarima = model_sarima.predict(start = y_test.index[0], end = y_test.index[-1])\n",
    "# Evaluate predictions.\n",
    "metrics.mean_squared_error(y_test, preds_sarima)"
   ]
  },
  {
   "cell_type": "code",
   "execution_count": 205,
   "metadata": {},
   "outputs": [
    {
     "data": {
      "image/png": "[encoded data removed]",
      "text/plain": [
       "<Figure size 720x432 with 1 Axes>"
      ]
     },
     "metadata": {
      "needs_background": "light"
     },
     "output_type": "display_data"
    }
   ],
   "source": [
    "# Plot data.\n",
    "plt.figure(figsize=(10,6))\n",
    "\n",
    "# Plot training data.\n",
    "plt.plot(y_train.index, y_train, color = 'blue')\n",
    "\n",
    "# Plot testing data.\n",
    "plt.plot(y_test.index, y_test, color = 'orange')\n",
    "\n",
    "# Plot predicted test values.\n",
    "plt.plot(y_test.index, preds_sarima, color = 'green')\n",
    "\n",
    "plt.title(label = 'Weekly Sales for Store 1 with ARIMA(52, 0, 1) Predictions', fontsize=16)\n",
    "plt.show();"
   ]
  },
  {
   "cell_type": "code",
   "execution_count": 206,
   "metadata": {},
   "outputs": [
    {
     "data": {
      "text/plain": [
       "(126,)"
      ]
     },
     "execution_count": 206,
     "metadata": {},
     "output_type": "execute_result"
    }
   ],
   "source": [
    "y_train.shape"
   ]
  },
  {
   "cell_type": "code",
   "execution_count": 207,
   "metadata": {},
   "outputs": [
    {
     "data": {
      "text/plain": [
       "(15,)"
      ]
     },
     "execution_count": 207,
     "metadata": {},
     "output_type": "execute_result"
    }
   ],
   "source": [
    "y_test.shape"
   ]
  },
  {
   "cell_type": "code",
   "execution_count": 208,
   "metadata": {},
   "outputs": [],
   "source": [
    "\n",
    "# Create train-test split.\n",
    "y_train, y_test = train_test_split(df_cases_diff['new_case'], test_size = 0.1,shuffle = False)"
   ]
  },
  {
   "cell_type": "code",
   "execution_count": 209,
   "metadata": {},
   "outputs": [
    {
     "data": {
      "text/plain": [
       "990000000000000000"
      ]
     },
     "execution_count": 209,
     "metadata": {},
     "output_type": "execute_result"
    }
   ],
   "source": [
    "mse = 99 * (10 ** 16)\n",
    "mse"
   ]
  },
  {
   "cell_type": "code",
   "execution_count": 210,
   "metadata": {},
   "outputs": [
    {
     "data": {
      "text/plain": [
       "328044210.2485147"
      ]
     },
     "execution_count": 210,
     "metadata": {},
     "output_type": "execute_result"
    }
   ],
   "source": [
    "metrics.mean_squared_error(y_test, preds_sarima)\n"
   ]
  },
  {
   "cell_type": "code",
   "execution_count": 211,
   "metadata": {},
   "outputs": [],
   "source": [
    "# Starting MSE and (P, D, Q).\n",
    "#mse = 99 * (10 ** 16)\n",
    "#final_p = 0\n",
    "#final_d = 0\n",
    "#final_q = 0\n",
    "#final_P = 0\n",
    "#final_D = 0\n",
    "#final_Q = 0\n",
    "#for p in range(2):\n",
    "#    for q in range(2):\n",
    "#        for d in range(2):\n",
    "#            for P in range(3):\n",
    "#                for Q in range(3):\n",
    "#                    for D in range(3):\n",
    "#                        try:\n",
    "#                            sarima = SARIMAX(endog = y_train,\n",
    "#                                            order = (p, d, q),              # (p, d, q)\n",
    "#                                            seasonal_order = (P, D, Q, 22))  # (P, D, Q, S)\n",
    "                            \n",
    "#                           print(P, D, Q)\n",
    "#                            # Fit SARIMA model.\n",
    "#                            model = sarima.fit()\n",
    "#                            preds_sarima = model.predict(start = y_test.index[0], end = y_test.index[-1])\n",
    "#                            print(f'The MSE for ({p}, {d}, {q})x({P},{D},{Q},22) is: {metrics.mean_squared_error(y_test, preds_sarima)}')#\n",
    "\n",
    "                                            # Save for final report.\n",
    "#                            if mse > metrics.mean_squared_error(y_test, preds_sarima):\n",
    "#                                mse = metrics.mean_squared_error(y_test, preds_sarima)\n",
    "                                \n",
    "#                                final_p = p\n",
    "#                                final_d = d\n",
    "#                                final_q = q\n",
    "#                                final_P = P\n",
    "#                                final_D = D\n",
    "#                                final_Q = Q\n",
    "\n",
    "                            \n",
    "#                        except:\n",
    "#                            print(\"Exceprtion hahppened\")\n",
    "#                            pass\n",
    "#print(f'Our model that minimizes MSE on the training data is the SARIMA(1, 0, 0)x({final_P},{final_D},{final_Q},22).')\n",
    "#print(f'This model has an MSE of {mse}.')"
   ]
  },
  {
   "cell_type": "code",
   "execution_count": 212,
   "metadata": {},
   "outputs": [],
   "source": [
    "# 27690096390.04778\n",
    "# 31324938754.810467\n",
    "# 328044210.2485147\n",
    "# CONVERGENCE: REL_REDUCTION_OF_F_<=_FACTR*EPSMCH             \n",
    "# The MSE for (1, 1, 1)x(2,2,2,22) is: 31324938754.810467\n",
    "# Our model that minimizes MSE on the training data is the SARIMA(1, 0, 0)x(0,0,0,22).\n",
    "# This model has an MSE of 328044210.2485147."
   ]
  },
  {
   "cell_type": "markdown",
   "metadata": {},
   "source": [
    "### Cases by State\n",
    "____"
   ]
  },
  {
   "cell_type": "code",
   "execution_count": 213,
   "metadata": {},
   "outputs": [
    {
     "data": {
      "text/html": [
       "<div>\n",
       "<style scoped>\n",
       "    .dataframe tbody tr th:only-of-type {\n",
       "        vertical-align: middle;\n",
       "    }\n",
       "\n",
       "    .dataframe tbody tr th {\n",
       "        vertical-align: top;\n",
       "    }\n",
       "\n",
       "    .dataframe thead th {\n",
       "        text-align: right;\n",
       "    }\n",
       "</style>\n",
       "<table border=\"1\" class=\"dataframe\">\n",
       "  <thead>\n",
       "    <tr style=\"text-align: right;\">\n",
       "      <th></th>\n",
       "      <th>state</th>\n",
       "      <th>tot_cases</th>\n",
       "      <th>new_case</th>\n",
       "      <th>tot_death</th>\n",
       "      <th>new_death</th>\n",
       "    </tr>\n",
       "    <tr>\n",
       "      <th>submission_date</th>\n",
       "      <th></th>\n",
       "      <th></th>\n",
       "      <th></th>\n",
       "      <th></th>\n",
       "      <th></th>\n",
       "    </tr>\n",
       "  </thead>\n",
       "  <tbody>\n",
       "    <tr>\n",
       "      <th>2020-01-22</th>\n",
       "      <td>AS</td>\n",
       "      <td>0</td>\n",
       "      <td>0</td>\n",
       "      <td>0</td>\n",
       "      <td>0</td>\n",
       "    </tr>\n",
       "    <tr>\n",
       "      <th>2020-01-22</th>\n",
       "      <td>NYC</td>\n",
       "      <td>0</td>\n",
       "      <td>0</td>\n",
       "      <td>0</td>\n",
       "      <td>0</td>\n",
       "    </tr>\n",
       "    <tr>\n",
       "      <th>2020-01-22</th>\n",
       "      <td>AL</td>\n",
       "      <td>0</td>\n",
       "      <td>0</td>\n",
       "      <td>0</td>\n",
       "      <td>0</td>\n",
       "    </tr>\n",
       "    <tr>\n",
       "      <th>2020-01-22</th>\n",
       "      <td>GU</td>\n",
       "      <td>0</td>\n",
       "      <td>0</td>\n",
       "      <td>0</td>\n",
       "      <td>0</td>\n",
       "    </tr>\n",
       "    <tr>\n",
       "      <th>2020-01-22</th>\n",
       "      <td>DC</td>\n",
       "      <td>0</td>\n",
       "      <td>0</td>\n",
       "      <td>0</td>\n",
       "      <td>0</td>\n",
       "    </tr>\n",
       "  </tbody>\n",
       "</table>\n",
       "</div>"
      ],
      "text/plain": [
       "                state  tot_cases  new_case  tot_death  new_death\n",
       "submission_date                                                 \n",
       "2020-01-22         AS          0         0          0          0\n",
       "2020-01-22        NYC          0         0          0          0\n",
       "2020-01-22         AL          0         0          0          0\n",
       "2020-01-22         GU          0         0          0          0\n",
       "2020-01-22         DC          0         0          0          0"
      ]
     },
     "execution_count": 213,
     "metadata": {},
     "output_type": "execute_result"
    }
   ],
   "source": [
    "df_cases.head()"
   ]
  },
  {
   "cell_type": "code",
   "execution_count": 214,
   "metadata": {},
   "outputs": [
    {
     "data": {
      "text/html": [
       "<div>\n",
       "<style scoped>\n",
       "    .dataframe tbody tr th:only-of-type {\n",
       "        vertical-align: middle;\n",
       "    }\n",
       "\n",
       "    .dataframe tbody tr th {\n",
       "        vertical-align: top;\n",
       "    }\n",
       "\n",
       "    .dataframe thead th {\n",
       "        text-align: right;\n",
       "    }\n",
       "</style>\n",
       "<table border=\"1\" class=\"dataframe\">\n",
       "  <thead>\n",
       "    <tr style=\"text-align: right;\">\n",
       "      <th></th>\n",
       "      <th>tot_cases</th>\n",
       "      <th>new_case</th>\n",
       "      <th>tot_death</th>\n",
       "      <th>new_death</th>\n",
       "    </tr>\n",
       "    <tr>\n",
       "      <th>state</th>\n",
       "      <th></th>\n",
       "      <th></th>\n",
       "      <th></th>\n",
       "      <th></th>\n",
       "    </tr>\n",
       "  </thead>\n",
       "  <tbody>\n",
       "    <tr>\n",
       "      <th>AK</th>\n",
       "      <td>103800015</td>\n",
       "      <td>282632</td>\n",
       "      <td>533125</td>\n",
       "      <td>1186</td>\n",
       "    </tr>\n",
       "    <tr>\n",
       "      <th>AL</th>\n",
       "      <td>638327202</td>\n",
       "      <td>1528319</td>\n",
       "      <td>10915844</td>\n",
       "      <td>20498</td>\n",
       "    </tr>\n",
       "    <tr>\n",
       "      <th>AR</th>\n",
       "      <td>403775153</td>\n",
       "      <td>954552</td>\n",
       "      <td>5830937</td>\n",
       "      <td>12041</td>\n",
       "    </tr>\n",
       "    <tr>\n",
       "      <th>AS</th>\n",
       "      <td>1382283</td>\n",
       "      <td>8250</td>\n",
       "      <td>5776</td>\n",
       "      <td>34</td>\n",
       "    </tr>\n",
       "    <tr>\n",
       "      <th>AZ</th>\n",
       "      <td>978893192</td>\n",
       "      <td>2275235</td>\n",
       "      <td>15992140</td>\n",
       "      <td>31644</td>\n",
       "    </tr>\n",
       "    <tr>\n",
       "      <th>CA</th>\n",
       "      <td>4364733842</td>\n",
       "      <td>11107087</td>\n",
       "      <td>50457009</td>\n",
       "      <td>95414</td>\n",
       "    </tr>\n",
       "    <tr>\n",
       "      <th>CO</th>\n",
       "      <td>658900625</td>\n",
       "      <td>1660829</td>\n",
       "      <td>6600246</td>\n",
       "      <td>13348</td>\n",
       "    </tr>\n",
       "    <tr>\n",
       "      <th>CT</th>\n",
       "      <td>367082955</td>\n",
       "      <td>888009</td>\n",
       "      <td>7159317</td>\n",
       "      <td>11385</td>\n",
       "    </tr>\n",
       "    <tr>\n",
       "      <th>DC</th>\n",
       "      <td>64506024</td>\n",
       "      <td>168122</td>\n",
       "      <td>929885</td>\n",
       "      <td>1383</td>\n",
       "    </tr>\n",
       "    <tr>\n",
       "      <th>DE</th>\n",
       "      <td>123511033</td>\n",
       "      <td>310527</td>\n",
       "      <td>1674285</td>\n",
       "      <td>3094</td>\n",
       "    </tr>\n",
       "    <tr>\n",
       "      <th>FL</th>\n",
       "      <td>2877176184</td>\n",
       "      <td>7135916</td>\n",
       "      <td>40188788</td>\n",
       "      <td>81807</td>\n",
       "    </tr>\n",
       "    <tr>\n",
       "      <th>FSM</th>\n",
       "      <td>753724</td>\n",
       "      <td>22005</td>\n",
       "      <td>1997</td>\n",
       "      <td>51</td>\n",
       "    </tr>\n",
       "    <tr>\n",
       "      <th>GA</th>\n",
       "      <td>1256065315</td>\n",
       "      <td>2898910</td>\n",
       "      <td>20057017</td>\n",
       "      <td>39908</td>\n",
       "    </tr>\n",
       "    <tr>\n",
       "      <th>GU</th>\n",
       "      <td>18298026</td>\n",
       "      <td>58647</td>\n",
       "      <td>171781</td>\n",
       "      <td>399</td>\n",
       "    </tr>\n",
       "    <tr>\n",
       "      <th>HI</th>\n",
       "      <td>96019895</td>\n",
       "      <td>335545</td>\n",
       "      <td>655122</td>\n",
       "      <td>1682</td>\n",
       "    </tr>\n",
       "    <tr>\n",
       "      <th>IA</th>\n",
       "      <td>390168331</td>\n",
       "      <td>854980</td>\n",
       "      <td>5253659</td>\n",
       "      <td>10125</td>\n",
       "    </tr>\n",
       "    <tr>\n",
       "      <th>ID</th>\n",
       "      <td>216319232</td>\n",
       "      <td>497007</td>\n",
       "      <td>2394459</td>\n",
       "      <td>5187</td>\n",
       "    </tr>\n",
       "    <tr>\n",
       "      <th>IL</th>\n",
       "      <td>1535904620</td>\n",
       "      <td>3778171</td>\n",
       "      <td>22194980</td>\n",
       "      <td>39791</td>\n",
       "    </tr>\n",
       "    <tr>\n",
       "      <th>IN</th>\n",
       "      <td>826545624</td>\n",
       "      <td>1924345</td>\n",
       "      <td>12704876</td>\n",
       "      <td>24748</td>\n",
       "    </tr>\n",
       "    <tr>\n",
       "      <th>KS</th>\n",
       "      <td>367118827</td>\n",
       "      <td>880197</td>\n",
       "      <td>4551055</td>\n",
       "      <td>9045</td>\n",
       "    </tr>\n",
       "    <tr>\n",
       "      <th>KY</th>\n",
       "      <td>605488868</td>\n",
       "      <td>1597566</td>\n",
       "      <td>8132143</td>\n",
       "      <td>17131</td>\n",
       "    </tr>\n",
       "    <tr>\n",
       "      <th>LA</th>\n",
       "      <td>590492442</td>\n",
       "      <td>1365729</td>\n",
       "      <td>10256566</td>\n",
       "      <td>18120</td>\n",
       "    </tr>\n",
       "    <tr>\n",
       "      <th>MA</th>\n",
       "      <td>813473206</td>\n",
       "      <td>2059179</td>\n",
       "      <td>14732297</td>\n",
       "      <td>25550</td>\n",
       "    </tr>\n",
       "    <tr>\n",
       "      <th>MD</th>\n",
       "      <td>508846790</td>\n",
       "      <td>1257358</td>\n",
       "      <td>8565843</td>\n",
       "      <td>15455</td>\n",
       "    </tr>\n",
       "    <tr>\n",
       "      <th>ME</th>\n",
       "      <td>100313491</td>\n",
       "      <td>292654</td>\n",
       "      <td>1008102</td>\n",
       "      <td>2621</td>\n",
       "    </tr>\n",
       "    <tr>\n",
       "      <th>MI</th>\n",
       "      <td>1143810923</td>\n",
       "      <td>2860770</td>\n",
       "      <td>19618601</td>\n",
       "      <td>33419</td>\n",
       "    </tr>\n",
       "    <tr>\n",
       "      <th>MN</th>\n",
       "      <td>683721274</td>\n",
       "      <td>1661920</td>\n",
       "      <td>6973404</td>\n",
       "      <td>13496</td>\n",
       "    </tr>\n",
       "    <tr>\n",
       "      <th>MO</th>\n",
       "      <td>698151846</td>\n",
       "      <td>1645029</td>\n",
       "      <td>10055057</td>\n",
       "      <td>18610</td>\n",
       "    </tr>\n",
       "    <tr>\n",
       "      <th>MP</th>\n",
       "      <td>3169106</td>\n",
       "      <td>13171</td>\n",
       "      <td>10826</td>\n",
       "      <td>40</td>\n",
       "    </tr>\n",
       "    <tr>\n",
       "      <th>MS</th>\n",
       "      <td>390667852</td>\n",
       "      <td>919938</td>\n",
       "      <td>7138044</td>\n",
       "      <td>11689</td>\n",
       "    </tr>\n",
       "    <tr>\n",
       "      <th>MT</th>\n",
       "      <td>130318670</td>\n",
       "      <td>310008</td>\n",
       "      <td>1654489</td>\n",
       "      <td>3472</td>\n",
       "    </tr>\n",
       "    <tr>\n",
       "      <th>NC</th>\n",
       "      <td>1233122110</td>\n",
       "      <td>3221966</td>\n",
       "      <td>13187799</td>\n",
       "      <td>26889</td>\n",
       "    </tr>\n",
       "    <tr>\n",
       "      <th>ND</th>\n",
       "      <td>119737804</td>\n",
       "      <td>270288</td>\n",
       "      <td>1303518</td>\n",
       "      <td>2383</td>\n",
       "    </tr>\n",
       "    <tr>\n",
       "      <th>NE</th>\n",
       "      <td>238090381</td>\n",
       "      <td>517065</td>\n",
       "      <td>2197571</td>\n",
       "      <td>4156</td>\n",
       "    </tr>\n",
       "    <tr>\n",
       "      <th>NH</th>\n",
       "      <td>130358243</td>\n",
       "      <td>352606</td>\n",
       "      <td>1308866</td>\n",
       "      <td>2713</td>\n",
       "    </tr>\n",
       "    <tr>\n",
       "      <th>NJ</th>\n",
       "      <td>1102833421</td>\n",
       "      <td>2770444</td>\n",
       "      <td>22698466</td>\n",
       "      <td>32968</td>\n",
       "    </tr>\n",
       "    <tr>\n",
       "      <th>NM</th>\n",
       "      <td>244753570</td>\n",
       "      <td>621166</td>\n",
       "      <td>3924141</td>\n",
       "      <td>8391</td>\n",
       "    </tr>\n",
       "    <tr>\n",
       "      <th>NV</th>\n",
       "      <td>360314431</td>\n",
       "      <td>793069</td>\n",
       "      <td>5511467</td>\n",
       "      <td>11144</td>\n",
       "    </tr>\n",
       "    <tr>\n",
       "      <th>NY</th>\n",
       "      <td>1301856010</td>\n",
       "      <td>3259603</td>\n",
       "      <td>17308667</td>\n",
       "      <td>29549</td>\n",
       "    </tr>\n",
       "    <tr>\n",
       "      <th>NYC</th>\n",
       "      <td>1118339865</td>\n",
       "      <td>2897546</td>\n",
       "      <td>29278250</td>\n",
       "      <td>42097</td>\n",
       "    </tr>\n",
       "    <tr>\n",
       "      <th>OH</th>\n",
       "      <td>1276191903</td>\n",
       "      <td>3149589</td>\n",
       "      <td>19056947</td>\n",
       "      <td>36187</td>\n",
       "    </tr>\n",
       "    <tr>\n",
       "      <th>OK</th>\n",
       "      <td>509948964</td>\n",
       "      <td>1201654</td>\n",
       "      <td>7254969</td>\n",
       "      <td>13848</td>\n",
       "    </tr>\n",
       "    <tr>\n",
       "      <th>OR</th>\n",
       "      <td>311165942</td>\n",
       "      <td>899013</td>\n",
       "      <td>3390079</td>\n",
       "      <td>8590</td>\n",
       "    </tr>\n",
       "    <tr>\n",
       "      <th>PA</th>\n",
       "      <td>1328107988</td>\n",
       "      <td>3249979</td>\n",
       "      <td>24628308</td>\n",
       "      <td>47169</td>\n",
       "    </tr>\n",
       "    <tr>\n",
       "      <th>PR</th>\n",
       "      <td>246444841</td>\n",
       "      <td>963373</td>\n",
       "      <td>2319777</td>\n",
       "      <td>5178</td>\n",
       "    </tr>\n",
       "    <tr>\n",
       "      <th>PW</th>\n",
       "      <td>1209901</td>\n",
       "      <td>5510</td>\n",
       "      <td>1440</td>\n",
       "      <td>6</td>\n",
       "    </tr>\n",
       "    <tr>\n",
       "      <th>RI</th>\n",
       "      <td>163311965</td>\n",
       "      <td>406546</td>\n",
       "      <td>2238442</td>\n",
       "      <td>3674</td>\n",
       "    </tr>\n",
       "    <tr>\n",
       "      <th>RMI</th>\n",
       "      <td>827571</td>\n",
       "      <td>15375</td>\n",
       "      <td>934</td>\n",
       "      <td>17</td>\n",
       "    </tr>\n",
       "    <tr>\n",
       "      <th>SC</th>\n",
       "      <td>703355936</td>\n",
       "      <td>1715434</td>\n",
       "      <td>9396256</td>\n",
       "      <td>18468</td>\n",
       "    </tr>\n",
       "    <tr>\n",
       "      <th>SD</th>\n",
       "      <td>123303578</td>\n",
       "      <td>261537</td>\n",
       "      <td>1647941</td>\n",
       "      <td>3033</td>\n",
       "    </tr>\n",
       "    <tr>\n",
       "      <th>TN</th>\n",
       "      <td>985632802</td>\n",
       "      <td>2327351</td>\n",
       "      <td>12689455</td>\n",
       "      <td>25437</td>\n",
       "    </tr>\n",
       "    <tr>\n",
       "      <th>TX</th>\n",
       "      <td>3307212352</td>\n",
       "      <td>7691340</td>\n",
       "      <td>47538683</td>\n",
       "      <td>89344</td>\n",
       "    </tr>\n",
       "    <tr>\n",
       "      <th>UT</th>\n",
       "      <td>451582481</td>\n",
       "      <td>1040147</td>\n",
       "      <td>2350692</td>\n",
       "      <td>5018</td>\n",
       "    </tr>\n",
       "    <tr>\n",
       "      <th>VA</th>\n",
       "      <td>800947192</td>\n",
       "      <td>2099126</td>\n",
       "      <td>10365763</td>\n",
       "      <td>21986</td>\n",
       "    </tr>\n",
       "    <tr>\n",
       "      <th>VI</th>\n",
       "      <td>7188849</td>\n",
       "      <td>23103</td>\n",
       "      <td>52258</td>\n",
       "      <td>123</td>\n",
       "    </tr>\n",
       "    <tr>\n",
       "      <th>VT</th>\n",
       "      <td>42676851</td>\n",
       "      <td>133252</td>\n",
       "      <td>288765</td>\n",
       "      <td>698</td>\n",
       "    </tr>\n",
       "    <tr>\n",
       "      <th>WA</th>\n",
       "      <td>644705150</td>\n",
       "      <td>1825126</td>\n",
       "      <td>6442064</td>\n",
       "      <td>14417</td>\n",
       "    </tr>\n",
       "    <tr>\n",
       "      <th>WI</th>\n",
       "      <td>775370683</td>\n",
       "      <td>1875895</td>\n",
       "      <td>7409068</td>\n",
       "      <td>15321</td>\n",
       "    </tr>\n",
       "    <tr>\n",
       "      <th>WV</th>\n",
       "      <td>219275324</td>\n",
       "      <td>603256</td>\n",
       "      <td>3159079</td>\n",
       "      <td>7387</td>\n",
       "    </tr>\n",
       "    <tr>\n",
       "      <th>WY</th>\n",
       "      <td>74375640</td>\n",
       "      <td>177635</td>\n",
       "      <td>845670</td>\n",
       "      <td>1904</td>\n",
       "    </tr>\n",
       "  </tbody>\n",
       "</table>\n",
       "</div>"
      ],
      "text/plain": [
       "        tot_cases  new_case  tot_death  new_death\n",
       "state                                            \n",
       "AK      103800015    282632     533125       1186\n",
       "AL      638327202   1528319   10915844      20498\n",
       "AR      403775153    954552    5830937      12041\n",
       "AS        1382283      8250       5776         34\n",
       "AZ      978893192   2275235   15992140      31644\n",
       "CA     4364733842  11107087   50457009      95414\n",
       "CO      658900625   1660829    6600246      13348\n",
       "CT      367082955    888009    7159317      11385\n",
       "DC       64506024    168122     929885       1383\n",
       "DE      123511033    310527    1674285       3094\n",
       "FL     2877176184   7135916   40188788      81807\n",
       "FSM        753724     22005       1997         51\n",
       "GA     1256065315   2898910   20057017      39908\n",
       "GU       18298026     58647     171781        399\n",
       "HI       96019895    335545     655122       1682\n",
       "IA      390168331    854980    5253659      10125\n",
       "ID      216319232    497007    2394459       5187\n",
       "IL     1535904620   3778171   22194980      39791\n",
       "IN      826545624   1924345   12704876      24748\n",
       "KS      367118827    880197    4551055       9045\n",
       "KY      605488868   1597566    8132143      17131\n",
       "LA      590492442   1365729   10256566      18120\n",
       "MA      813473206   2059179   14732297      25550\n",
       "MD      508846790   1257358    8565843      15455\n",
       "ME      100313491    292654    1008102       2621\n",
       "MI     1143810923   2860770   19618601      33419\n",
       "MN      683721274   1661920    6973404      13496\n",
       "MO      698151846   1645029   10055057      18610\n",
       "MP        3169106     13171      10826         40\n",
       "MS      390667852    919938    7138044      11689\n",
       "MT      130318670    310008    1654489       3472\n",
       "NC     1233122110   3221966   13187799      26889\n",
       "ND      119737804    270288    1303518       2383\n",
       "NE      238090381    517065    2197571       4156\n",
       "NH      130358243    352606    1308866       2713\n",
       "NJ     1102833421   2770444   22698466      32968\n",
       "NM      244753570    621166    3924141       8391\n",
       "NV      360314431    793069    5511467      11144\n",
       "NY     1301856010   3259603   17308667      29549\n",
       "NYC    1118339865   2897546   29278250      42097\n",
       "OH     1276191903   3149589   19056947      36187\n",
       "OK      509948964   1201654    7254969      13848\n",
       "OR      311165942    899013    3390079       8590\n",
       "PA     1328107988   3249979   24628308      47169\n",
       "PR      246444841    963373    2319777       5178\n",
       "PW        1209901      5510       1440          6\n",
       "RI      163311965    406546    2238442       3674\n",
       "RMI        827571     15375        934         17\n",
       "SC      703355936   1715434    9396256      18468\n",
       "SD      123303578    261537    1647941       3033\n",
       "TN      985632802   2327351   12689455      25437\n",
       "TX     3307212352   7691340   47538683      89344\n",
       "UT      451582481   1040147    2350692       5018\n",
       "VA      800947192   2099126   10365763      21986\n",
       "VI        7188849     23103      52258        123\n",
       "VT       42676851    133252     288765        698\n",
       "WA      644705150   1825126    6442064      14417\n",
       "WI      775370683   1875895    7409068      15321\n",
       "WV      219275324    603256    3159079       7387\n",
       "WY       74375640    177635     845670       1904"
      ]
     },
     "execution_count": 214,
     "metadata": {},
     "output_type": "execute_result"
    }
   ],
   "source": [
    "df_cases.groupby(by='state').sum()"
   ]
  },
  {
   "cell_type": "code",
   "execution_count": 215,
   "metadata": {},
   "outputs": [
    {
     "name": "stdout",
     "output_type": "stream",
     "text": [
      "<class 'pandas.core.frame.DataFrame'>\n",
      "DatetimeIndex: 59640 entries, 2020-01-22 to 2022-10-11\n",
      "Data columns (total 5 columns):\n",
      " #   Column     Non-Null Count  Dtype \n",
      "---  ------     --------------  ----- \n",
      " 0   state      59640 non-null  object\n",
      " 1   tot_cases  59640 non-null  int64 \n",
      " 2   new_case   59640 non-null  int64 \n",
      " 3   tot_death  59640 non-null  int64 \n",
      " 4   new_death  59640 non-null  int64 \n",
      "dtypes: int64(4), object(1)\n",
      "memory usage: 2.7+ MB\n"
     ]
    }
   ],
   "source": [
    "df_cases.info()"
   ]
  },
  {
   "cell_type": "code",
   "execution_count": 216,
   "metadata": {},
   "outputs": [
    {
     "data": {
      "text/html": [
       "<div>\n",
       "<style scoped>\n",
       "    .dataframe tbody tr th:only-of-type {\n",
       "        vertical-align: middle;\n",
       "    }\n",
       "\n",
       "    .dataframe tbody tr th {\n",
       "        vertical-align: top;\n",
       "    }\n",
       "\n",
       "    .dataframe thead th {\n",
       "        text-align: right;\n",
       "    }\n",
       "</style>\n",
       "<table border=\"1\" class=\"dataframe\">\n",
       "  <thead>\n",
       "    <tr style=\"text-align: right;\">\n",
       "      <th></th>\n",
       "      <th>state</th>\n",
       "      <th>tot_cases</th>\n",
       "      <th>new_case</th>\n",
       "      <th>tot_death</th>\n",
       "      <th>new_death</th>\n",
       "    </tr>\n",
       "    <tr>\n",
       "      <th>submission_date</th>\n",
       "      <th></th>\n",
       "      <th></th>\n",
       "      <th></th>\n",
       "      <th></th>\n",
       "      <th></th>\n",
       "    </tr>\n",
       "  </thead>\n",
       "  <tbody>\n",
       "    <tr>\n",
       "      <th>2020-01-22</th>\n",
       "      <td>AK</td>\n",
       "      <td>0</td>\n",
       "      <td>0</td>\n",
       "      <td>0</td>\n",
       "      <td>0</td>\n",
       "    </tr>\n",
       "    <tr>\n",
       "      <th>2020-01-22</th>\n",
       "      <td>AL</td>\n",
       "      <td>0</td>\n",
       "      <td>0</td>\n",
       "      <td>0</td>\n",
       "      <td>0</td>\n",
       "    </tr>\n",
       "    <tr>\n",
       "      <th>2020-01-22</th>\n",
       "      <td>AR</td>\n",
       "      <td>0</td>\n",
       "      <td>0</td>\n",
       "      <td>0</td>\n",
       "      <td>0</td>\n",
       "    </tr>\n",
       "    <tr>\n",
       "      <th>2020-01-22</th>\n",
       "      <td>AS</td>\n",
       "      <td>0</td>\n",
       "      <td>0</td>\n",
       "      <td>0</td>\n",
       "      <td>0</td>\n",
       "    </tr>\n",
       "    <tr>\n",
       "      <th>2020-01-22</th>\n",
       "      <td>AZ</td>\n",
       "      <td>0</td>\n",
       "      <td>0</td>\n",
       "      <td>0</td>\n",
       "      <td>0</td>\n",
       "    </tr>\n",
       "    <tr>\n",
       "      <th>2020-01-22</th>\n",
       "      <td>CA</td>\n",
       "      <td>0</td>\n",
       "      <td>0</td>\n",
       "      <td>0</td>\n",
       "      <td>0</td>\n",
       "    </tr>\n",
       "    <tr>\n",
       "      <th>2020-01-22</th>\n",
       "      <td>CO</td>\n",
       "      <td>0</td>\n",
       "      <td>0</td>\n",
       "      <td>0</td>\n",
       "      <td>0</td>\n",
       "    </tr>\n",
       "    <tr>\n",
       "      <th>2020-01-22</th>\n",
       "      <td>CT</td>\n",
       "      <td>0</td>\n",
       "      <td>0</td>\n",
       "      <td>0</td>\n",
       "      <td>0</td>\n",
       "    </tr>\n",
       "    <tr>\n",
       "      <th>2020-01-22</th>\n",
       "      <td>DC</td>\n",
       "      <td>0</td>\n",
       "      <td>0</td>\n",
       "      <td>0</td>\n",
       "      <td>0</td>\n",
       "    </tr>\n",
       "    <tr>\n",
       "      <th>2020-01-22</th>\n",
       "      <td>DE</td>\n",
       "      <td>4</td>\n",
       "      <td>4</td>\n",
       "      <td>0</td>\n",
       "      <td>0</td>\n",
       "    </tr>\n",
       "    <tr>\n",
       "      <th>2020-01-22</th>\n",
       "      <td>FL</td>\n",
       "      <td>0</td>\n",
       "      <td>0</td>\n",
       "      <td>0</td>\n",
       "      <td>0</td>\n",
       "    </tr>\n",
       "    <tr>\n",
       "      <th>2020-01-22</th>\n",
       "      <td>FSM</td>\n",
       "      <td>0</td>\n",
       "      <td>0</td>\n",
       "      <td>0</td>\n",
       "      <td>0</td>\n",
       "    </tr>\n",
       "    <tr>\n",
       "      <th>2020-01-22</th>\n",
       "      <td>GA</td>\n",
       "      <td>0</td>\n",
       "      <td>0</td>\n",
       "      <td>0</td>\n",
       "      <td>0</td>\n",
       "    </tr>\n",
       "    <tr>\n",
       "      <th>2020-01-22</th>\n",
       "      <td>GU</td>\n",
       "      <td>0</td>\n",
       "      <td>0</td>\n",
       "      <td>0</td>\n",
       "      <td>0</td>\n",
       "    </tr>\n",
       "    <tr>\n",
       "      <th>2020-01-22</th>\n",
       "      <td>HI</td>\n",
       "      <td>0</td>\n",
       "      <td>0</td>\n",
       "      <td>0</td>\n",
       "      <td>0</td>\n",
       "    </tr>\n",
       "    <tr>\n",
       "      <th>2020-01-22</th>\n",
       "      <td>IA</td>\n",
       "      <td>0</td>\n",
       "      <td>0</td>\n",
       "      <td>0</td>\n",
       "      <td>0</td>\n",
       "    </tr>\n",
       "    <tr>\n",
       "      <th>2020-01-22</th>\n",
       "      <td>ID</td>\n",
       "      <td>0</td>\n",
       "      <td>0</td>\n",
       "      <td>0</td>\n",
       "      <td>0</td>\n",
       "    </tr>\n",
       "    <tr>\n",
       "      <th>2020-01-22</th>\n",
       "      <td>IL</td>\n",
       "      <td>0</td>\n",
       "      <td>0</td>\n",
       "      <td>0</td>\n",
       "      <td>0</td>\n",
       "    </tr>\n",
       "    <tr>\n",
       "      <th>2020-01-22</th>\n",
       "      <td>IN</td>\n",
       "      <td>0</td>\n",
       "      <td>0</td>\n",
       "      <td>0</td>\n",
       "      <td>0</td>\n",
       "    </tr>\n",
       "    <tr>\n",
       "      <th>2020-01-22</th>\n",
       "      <td>KS</td>\n",
       "      <td>0</td>\n",
       "      <td>0</td>\n",
       "      <td>0</td>\n",
       "      <td>0</td>\n",
       "    </tr>\n",
       "    <tr>\n",
       "      <th>2020-01-22</th>\n",
       "      <td>KY</td>\n",
       "      <td>0</td>\n",
       "      <td>0</td>\n",
       "      <td>0</td>\n",
       "      <td>0</td>\n",
       "    </tr>\n",
       "    <tr>\n",
       "      <th>2020-01-22</th>\n",
       "      <td>LA</td>\n",
       "      <td>0</td>\n",
       "      <td>0</td>\n",
       "      <td>0</td>\n",
       "      <td>0</td>\n",
       "    </tr>\n",
       "    <tr>\n",
       "      <th>2020-01-22</th>\n",
       "      <td>MA</td>\n",
       "      <td>0</td>\n",
       "      <td>0</td>\n",
       "      <td>0</td>\n",
       "      <td>0</td>\n",
       "    </tr>\n",
       "    <tr>\n",
       "      <th>2020-01-22</th>\n",
       "      <td>MD</td>\n",
       "      <td>0</td>\n",
       "      <td>0</td>\n",
       "      <td>0</td>\n",
       "      <td>0</td>\n",
       "    </tr>\n",
       "    <tr>\n",
       "      <th>2020-01-22</th>\n",
       "      <td>ME</td>\n",
       "      <td>0</td>\n",
       "      <td>0</td>\n",
       "      <td>0</td>\n",
       "      <td>0</td>\n",
       "    </tr>\n",
       "    <tr>\n",
       "      <th>2020-01-22</th>\n",
       "      <td>MI</td>\n",
       "      <td>0</td>\n",
       "      <td>0</td>\n",
       "      <td>0</td>\n",
       "      <td>0</td>\n",
       "    </tr>\n",
       "    <tr>\n",
       "      <th>2020-01-22</th>\n",
       "      <td>MN</td>\n",
       "      <td>0</td>\n",
       "      <td>0</td>\n",
       "      <td>0</td>\n",
       "      <td>0</td>\n",
       "    </tr>\n",
       "    <tr>\n",
       "      <th>2020-01-22</th>\n",
       "      <td>MO</td>\n",
       "      <td>0</td>\n",
       "      <td>0</td>\n",
       "      <td>0</td>\n",
       "      <td>0</td>\n",
       "    </tr>\n",
       "    <tr>\n",
       "      <th>2020-01-22</th>\n",
       "      <td>MP</td>\n",
       "      <td>0</td>\n",
       "      <td>0</td>\n",
       "      <td>0</td>\n",
       "      <td>0</td>\n",
       "    </tr>\n",
       "    <tr>\n",
       "      <th>2020-01-22</th>\n",
       "      <td>MS</td>\n",
       "      <td>0</td>\n",
       "      <td>0</td>\n",
       "      <td>0</td>\n",
       "      <td>0</td>\n",
       "    </tr>\n",
       "    <tr>\n",
       "      <th>2020-01-22</th>\n",
       "      <td>MT</td>\n",
       "      <td>0</td>\n",
       "      <td>0</td>\n",
       "      <td>0</td>\n",
       "      <td>0</td>\n",
       "    </tr>\n",
       "    <tr>\n",
       "      <th>2020-01-22</th>\n",
       "      <td>NC</td>\n",
       "      <td>0</td>\n",
       "      <td>0</td>\n",
       "      <td>0</td>\n",
       "      <td>0</td>\n",
       "    </tr>\n",
       "    <tr>\n",
       "      <th>2020-01-22</th>\n",
       "      <td>ND</td>\n",
       "      <td>0</td>\n",
       "      <td>0</td>\n",
       "      <td>0</td>\n",
       "      <td>0</td>\n",
       "    </tr>\n",
       "    <tr>\n",
       "      <th>2020-01-22</th>\n",
       "      <td>NE</td>\n",
       "      <td>0</td>\n",
       "      <td>0</td>\n",
       "      <td>0</td>\n",
       "      <td>0</td>\n",
       "    </tr>\n",
       "    <tr>\n",
       "      <th>2020-01-22</th>\n",
       "      <td>NH</td>\n",
       "      <td>0</td>\n",
       "      <td>0</td>\n",
       "      <td>0</td>\n",
       "      <td>0</td>\n",
       "    </tr>\n",
       "    <tr>\n",
       "      <th>2020-01-22</th>\n",
       "      <td>NJ</td>\n",
       "      <td>0</td>\n",
       "      <td>0</td>\n",
       "      <td>0</td>\n",
       "      <td>0</td>\n",
       "    </tr>\n",
       "    <tr>\n",
       "      <th>2020-01-22</th>\n",
       "      <td>NM</td>\n",
       "      <td>0</td>\n",
       "      <td>0</td>\n",
       "      <td>0</td>\n",
       "      <td>0</td>\n",
       "    </tr>\n",
       "    <tr>\n",
       "      <th>2020-01-22</th>\n",
       "      <td>NV</td>\n",
       "      <td>0</td>\n",
       "      <td>0</td>\n",
       "      <td>0</td>\n",
       "      <td>0</td>\n",
       "    </tr>\n",
       "    <tr>\n",
       "      <th>2020-01-22</th>\n",
       "      <td>NY</td>\n",
       "      <td>0</td>\n",
       "      <td>0</td>\n",
       "      <td>0</td>\n",
       "      <td>0</td>\n",
       "    </tr>\n",
       "    <tr>\n",
       "      <th>2020-01-22</th>\n",
       "      <td>NYC</td>\n",
       "      <td>0</td>\n",
       "      <td>0</td>\n",
       "      <td>0</td>\n",
       "      <td>0</td>\n",
       "    </tr>\n",
       "    <tr>\n",
       "      <th>2020-01-22</th>\n",
       "      <td>OH</td>\n",
       "      <td>0</td>\n",
       "      <td>0</td>\n",
       "      <td>0</td>\n",
       "      <td>0</td>\n",
       "    </tr>\n",
       "    <tr>\n",
       "      <th>2020-01-22</th>\n",
       "      <td>OK</td>\n",
       "      <td>0</td>\n",
       "      <td>0</td>\n",
       "      <td>0</td>\n",
       "      <td>0</td>\n",
       "    </tr>\n",
       "    <tr>\n",
       "      <th>2020-01-22</th>\n",
       "      <td>OR</td>\n",
       "      <td>0</td>\n",
       "      <td>0</td>\n",
       "      <td>0</td>\n",
       "      <td>0</td>\n",
       "    </tr>\n",
       "    <tr>\n",
       "      <th>2020-01-22</th>\n",
       "      <td>PA</td>\n",
       "      <td>0</td>\n",
       "      <td>0</td>\n",
       "      <td>0</td>\n",
       "      <td>0</td>\n",
       "    </tr>\n",
       "    <tr>\n",
       "      <th>2020-01-22</th>\n",
       "      <td>PR</td>\n",
       "      <td>0</td>\n",
       "      <td>0</td>\n",
       "      <td>0</td>\n",
       "      <td>0</td>\n",
       "    </tr>\n",
       "    <tr>\n",
       "      <th>2020-01-22</th>\n",
       "      <td>PW</td>\n",
       "      <td>0</td>\n",
       "      <td>0</td>\n",
       "      <td>0</td>\n",
       "      <td>0</td>\n",
       "    </tr>\n",
       "    <tr>\n",
       "      <th>2020-01-22</th>\n",
       "      <td>RI</td>\n",
       "      <td>0</td>\n",
       "      <td>0</td>\n",
       "      <td>0</td>\n",
       "      <td>0</td>\n",
       "    </tr>\n",
       "    <tr>\n",
       "      <th>2020-01-22</th>\n",
       "      <td>RMI</td>\n",
       "      <td>0</td>\n",
       "      <td>0</td>\n",
       "      <td>0</td>\n",
       "      <td>0</td>\n",
       "    </tr>\n",
       "    <tr>\n",
       "      <th>2020-01-22</th>\n",
       "      <td>SC</td>\n",
       "      <td>0</td>\n",
       "      <td>0</td>\n",
       "      <td>0</td>\n",
       "      <td>0</td>\n",
       "    </tr>\n",
       "    <tr>\n",
       "      <th>2020-01-22</th>\n",
       "      <td>SD</td>\n",
       "      <td>0</td>\n",
       "      <td>0</td>\n",
       "      <td>0</td>\n",
       "      <td>0</td>\n",
       "    </tr>\n",
       "    <tr>\n",
       "      <th>2020-01-22</th>\n",
       "      <td>TN</td>\n",
       "      <td>0</td>\n",
       "      <td>0</td>\n",
       "      <td>0</td>\n",
       "      <td>0</td>\n",
       "    </tr>\n",
       "    <tr>\n",
       "      <th>2020-01-22</th>\n",
       "      <td>TX</td>\n",
       "      <td>0</td>\n",
       "      <td>0</td>\n",
       "      <td>0</td>\n",
       "      <td>0</td>\n",
       "    </tr>\n",
       "    <tr>\n",
       "      <th>2020-01-22</th>\n",
       "      <td>UT</td>\n",
       "      <td>0</td>\n",
       "      <td>0</td>\n",
       "      <td>0</td>\n",
       "      <td>0</td>\n",
       "    </tr>\n",
       "    <tr>\n",
       "      <th>2020-01-22</th>\n",
       "      <td>VA</td>\n",
       "      <td>0</td>\n",
       "      <td>0</td>\n",
       "      <td>0</td>\n",
       "      <td>0</td>\n",
       "    </tr>\n",
       "    <tr>\n",
       "      <th>2020-01-22</th>\n",
       "      <td>VI</td>\n",
       "      <td>0</td>\n",
       "      <td>0</td>\n",
       "      <td>0</td>\n",
       "      <td>0</td>\n",
       "    </tr>\n",
       "    <tr>\n",
       "      <th>2020-01-22</th>\n",
       "      <td>VT</td>\n",
       "      <td>0</td>\n",
       "      <td>0</td>\n",
       "      <td>0</td>\n",
       "      <td>0</td>\n",
       "    </tr>\n",
       "    <tr>\n",
       "      <th>2020-01-22</th>\n",
       "      <td>WA</td>\n",
       "      <td>0</td>\n",
       "      <td>0</td>\n",
       "      <td>0</td>\n",
       "      <td>0</td>\n",
       "    </tr>\n",
       "    <tr>\n",
       "      <th>2020-01-22</th>\n",
       "      <td>WI</td>\n",
       "      <td>0</td>\n",
       "      <td>0</td>\n",
       "      <td>0</td>\n",
       "      <td>0</td>\n",
       "    </tr>\n",
       "    <tr>\n",
       "      <th>2020-01-22</th>\n",
       "      <td>WV</td>\n",
       "      <td>0</td>\n",
       "      <td>0</td>\n",
       "      <td>0</td>\n",
       "      <td>0</td>\n",
       "    </tr>\n",
       "    <tr>\n",
       "      <th>2020-01-22</th>\n",
       "      <td>WY</td>\n",
       "      <td>0</td>\n",
       "      <td>0</td>\n",
       "      <td>0</td>\n",
       "      <td>0</td>\n",
       "    </tr>\n",
       "  </tbody>\n",
       "</table>\n",
       "</div>"
      ],
      "text/plain": [
       "                state  tot_cases  new_case  tot_death  new_death\n",
       "submission_date                                                 \n",
       "2020-01-22         AK          0         0          0          0\n",
       "2020-01-22         AL          0         0          0          0\n",
       "2020-01-22         AR          0         0          0          0\n",
       "2020-01-22         AS          0         0          0          0\n",
       "2020-01-22         AZ          0         0          0          0\n",
       "2020-01-22         CA          0         0          0          0\n",
       "2020-01-22         CO          0         0          0          0\n",
       "2020-01-22         CT          0         0          0          0\n",
       "2020-01-22         DC          0         0          0          0\n",
       "2020-01-22         DE          4         4          0          0\n",
       "2020-01-22         FL          0         0          0          0\n",
       "2020-01-22        FSM          0         0          0          0\n",
       "2020-01-22         GA          0         0          0          0\n",
       "2020-01-22         GU          0         0          0          0\n",
       "2020-01-22         HI          0         0          0          0\n",
       "2020-01-22         IA          0         0          0          0\n",
       "2020-01-22         ID          0         0          0          0\n",
       "2020-01-22         IL          0         0          0          0\n",
       "2020-01-22         IN          0         0          0          0\n",
       "2020-01-22         KS          0         0          0          0\n",
       "2020-01-22         KY          0         0          0          0\n",
       "2020-01-22         LA          0         0          0          0\n",
       "2020-01-22         MA          0         0          0          0\n",
       "2020-01-22         MD          0         0          0          0\n",
       "2020-01-22         ME          0         0          0          0\n",
       "2020-01-22         MI          0         0          0          0\n",
       "2020-01-22         MN          0         0          0          0\n",
       "2020-01-22         MO          0         0          0          0\n",
       "2020-01-22         MP          0         0          0          0\n",
       "2020-01-22         MS          0         0          0          0\n",
       "2020-01-22         MT          0         0          0          0\n",
       "2020-01-22         NC          0         0          0          0\n",
       "2020-01-22         ND          0         0          0          0\n",
       "2020-01-22         NE          0         0          0          0\n",
       "2020-01-22         NH          0         0          0          0\n",
       "2020-01-22         NJ          0         0          0          0\n",
       "2020-01-22         NM          0         0          0          0\n",
       "2020-01-22         NV          0         0          0          0\n",
       "2020-01-22         NY          0         0          0          0\n",
       "2020-01-22        NYC          0         0          0          0\n",
       "2020-01-22         OH          0         0          0          0\n",
       "2020-01-22         OK          0         0          0          0\n",
       "2020-01-22         OR          0         0          0          0\n",
       "2020-01-22         PA          0         0          0          0\n",
       "2020-01-22         PR          0         0          0          0\n",
       "2020-01-22         PW          0         0          0          0\n",
       "2020-01-22         RI          0         0          0          0\n",
       "2020-01-22        RMI          0         0          0          0\n",
       "2020-01-22         SC          0         0          0          0\n",
       "2020-01-22         SD          0         0          0          0\n",
       "2020-01-22         TN          0         0          0          0\n",
       "2020-01-22         TX          0         0          0          0\n",
       "2020-01-22         UT          0         0          0          0\n",
       "2020-01-22         VA          0         0          0          0\n",
       "2020-01-22         VI          0         0          0          0\n",
       "2020-01-22         VT          0         0          0          0\n",
       "2020-01-22         WA          0         0          0          0\n",
       "2020-01-22         WI          0         0          0          0\n",
       "2020-01-22         WV          0         0          0          0\n",
       "2020-01-22         WY          0         0          0          0"
      ]
     },
     "execution_count": 216,
     "metadata": {},
     "output_type": "execute_result"
    }
   ],
   "source": [
    "df_cases.head(60).sort_values(by='state')"
   ]
  },
  {
   "cell_type": "code",
   "execution_count": 217,
   "metadata": {},
   "outputs": [
    {
     "data": {
      "image/png": "[encoded data removed]",
      "text/plain": [
       "<Figure size 1296x720 with 1 Axes>"
      ]
     },
     "metadata": {
      "needs_background": "light"
     },
     "output_type": "display_data"
    }
   ],
   "source": [
    "from turtle import color\n",
    "\n",
    "\n",
    "df_cases.head()\n",
    "# create data\n",
    "plt.figure(figsize=(18,10))\n",
    "x = df_cases['state']\n",
    "y1 = df_cases['tot_cases']\n",
    "y2 = df_cases['tot_death']\n",
    "width = 0.40\n",
    "  \n",
    "# plot data in grouped manner of bar type\n",
    "plt.bar(x, y1, width, color='b')\n",
    "plt.bar(x, y2, width, color='r')\n",
    "plt.xticks(rotation=90);\n"
   ]
  },
  {
   "cell_type": "code",
   "execution_count": 218,
   "metadata": {},
   "outputs": [
    {
     "data": {
      "text/html": [
       "<div>\n",
       "<style scoped>\n",
       "    .dataframe tbody tr th:only-of-type {\n",
       "        vertical-align: middle;\n",
       "    }\n",
       "\n",
       "    .dataframe tbody tr th {\n",
       "        vertical-align: top;\n",
       "    }\n",
       "\n",
       "    .dataframe thead th {\n",
       "        text-align: right;\n",
       "    }\n",
       "</style>\n",
       "<table border=\"1\" class=\"dataframe\">\n",
       "  <thead>\n",
       "    <tr style=\"text-align: right;\">\n",
       "      <th>state</th>\n",
       "      <th>AK</th>\n",
       "      <th>AL</th>\n",
       "      <th>AR</th>\n",
       "      <th>AS</th>\n",
       "      <th>AZ</th>\n",
       "      <th>CA</th>\n",
       "      <th>CO</th>\n",
       "      <th>CT</th>\n",
       "      <th>DC</th>\n",
       "      <th>DE</th>\n",
       "      <th>...</th>\n",
       "      <th>TN</th>\n",
       "      <th>TX</th>\n",
       "      <th>UT</th>\n",
       "      <th>VA</th>\n",
       "      <th>VI</th>\n",
       "      <th>VT</th>\n",
       "      <th>WA</th>\n",
       "      <th>WI</th>\n",
       "      <th>WV</th>\n",
       "      <th>WY</th>\n",
       "    </tr>\n",
       "  </thead>\n",
       "  <tbody>\n",
       "    <tr>\n",
       "      <th>tot_cases</th>\n",
       "      <td>103800015</td>\n",
       "      <td>638327202</td>\n",
       "      <td>403775153</td>\n",
       "      <td>1382283</td>\n",
       "      <td>978893192</td>\n",
       "      <td>4364733842</td>\n",
       "      <td>658900625</td>\n",
       "      <td>367082955</td>\n",
       "      <td>64506024</td>\n",
       "      <td>123511033</td>\n",
       "      <td>...</td>\n",
       "      <td>985632802</td>\n",
       "      <td>3307212352</td>\n",
       "      <td>451582481</td>\n",
       "      <td>800947192</td>\n",
       "      <td>7188849</td>\n",
       "      <td>42676851</td>\n",
       "      <td>644705150</td>\n",
       "      <td>775370683</td>\n",
       "      <td>219275324</td>\n",
       "      <td>74375640</td>\n",
       "    </tr>\n",
       "    <tr>\n",
       "      <th>new_case</th>\n",
       "      <td>282632</td>\n",
       "      <td>1528319</td>\n",
       "      <td>954552</td>\n",
       "      <td>8250</td>\n",
       "      <td>2275235</td>\n",
       "      <td>11107087</td>\n",
       "      <td>1660829</td>\n",
       "      <td>888009</td>\n",
       "      <td>168122</td>\n",
       "      <td>310527</td>\n",
       "      <td>...</td>\n",
       "      <td>2327351</td>\n",
       "      <td>7691340</td>\n",
       "      <td>1040147</td>\n",
       "      <td>2099126</td>\n",
       "      <td>23103</td>\n",
       "      <td>133252</td>\n",
       "      <td>1825126</td>\n",
       "      <td>1875895</td>\n",
       "      <td>603256</td>\n",
       "      <td>177635</td>\n",
       "    </tr>\n",
       "    <tr>\n",
       "      <th>tot_death</th>\n",
       "      <td>533125</td>\n",
       "      <td>10915844</td>\n",
       "      <td>5830937</td>\n",
       "      <td>5776</td>\n",
       "      <td>15992140</td>\n",
       "      <td>50457009</td>\n",
       "      <td>6600246</td>\n",
       "      <td>7159317</td>\n",
       "      <td>929885</td>\n",
       "      <td>1674285</td>\n",
       "      <td>...</td>\n",
       "      <td>12689455</td>\n",
       "      <td>47538683</td>\n",
       "      <td>2350692</td>\n",
       "      <td>10365763</td>\n",
       "      <td>52258</td>\n",
       "      <td>288765</td>\n",
       "      <td>6442064</td>\n",
       "      <td>7409068</td>\n",
       "      <td>3159079</td>\n",
       "      <td>845670</td>\n",
       "    </tr>\n",
       "    <tr>\n",
       "      <th>new_death</th>\n",
       "      <td>1186</td>\n",
       "      <td>20498</td>\n",
       "      <td>12041</td>\n",
       "      <td>34</td>\n",
       "      <td>31644</td>\n",
       "      <td>95414</td>\n",
       "      <td>13348</td>\n",
       "      <td>11385</td>\n",
       "      <td>1383</td>\n",
       "      <td>3094</td>\n",
       "      <td>...</td>\n",
       "      <td>25437</td>\n",
       "      <td>89344</td>\n",
       "      <td>5018</td>\n",
       "      <td>21986</td>\n",
       "      <td>123</td>\n",
       "      <td>698</td>\n",
       "      <td>14417</td>\n",
       "      <td>15321</td>\n",
       "      <td>7387</td>\n",
       "      <td>1904</td>\n",
       "    </tr>\n",
       "  </tbody>\n",
       "</table>\n",
       "<p>4 rows × 60 columns</p>\n",
       "</div>"
      ],
      "text/plain": [
       "state             AK         AL         AR       AS         AZ          CA  \\\n",
       "tot_cases  103800015  638327202  403775153  1382283  978893192  4364733842   \n",
       "new_case      282632    1528319     954552     8250    2275235    11107087   \n",
       "tot_death     533125   10915844    5830937     5776   15992140    50457009   \n",
       "new_death       1186      20498      12041       34      31644       95414   \n",
       "\n",
       "state             CO         CT        DC         DE  ...         TN  \\\n",
       "tot_cases  658900625  367082955  64506024  123511033  ...  985632802   \n",
       "new_case     1660829     888009    168122     310527  ...    2327351   \n",
       "tot_death    6600246    7159317    929885    1674285  ...   12689455   \n",
       "new_death      13348      11385      1383       3094  ...      25437   \n",
       "\n",
       "state              TX         UT         VA       VI        VT         WA  \\\n",
       "tot_cases  3307212352  451582481  800947192  7188849  42676851  644705150   \n",
       "new_case      7691340    1040147    2099126    23103    133252    1825126   \n",
       "tot_death    47538683    2350692   10365763    52258    288765    6442064   \n",
       "new_death       89344       5018      21986      123       698      14417   \n",
       "\n",
       "state             WI         WV        WY  \n",
       "tot_cases  775370683  219275324  74375640  \n",
       "new_case     1875895     603256    177635  \n",
       "tot_death    7409068    3159079    845670  \n",
       "new_death      15321       7387      1904  \n",
       "\n",
       "[4 rows x 60 columns]"
      ]
     },
     "execution_count": 218,
     "metadata": {},
     "output_type": "execute_result"
    }
   ],
   "source": [
    "df_cases.groupby(by='state').sum().T"
   ]
  },
  {
   "cell_type": "code",
   "execution_count": 219,
   "metadata": {},
   "outputs": [
    {
     "data": {
      "text/html": [
       "<div>\n",
       "<style scoped>\n",
       "    .dataframe tbody tr th:only-of-type {\n",
       "        vertical-align: middle;\n",
       "    }\n",
       "\n",
       "    .dataframe tbody tr th {\n",
       "        vertical-align: top;\n",
       "    }\n",
       "\n",
       "    .dataframe thead th {\n",
       "        text-align: right;\n",
       "    }\n",
       "</style>\n",
       "<table border=\"1\" class=\"dataframe\">\n",
       "  <thead>\n",
       "    <tr style=\"text-align: right;\">\n",
       "      <th></th>\n",
       "      <th>tot_cases</th>\n",
       "      <th>new_case</th>\n",
       "      <th>tot_death</th>\n",
       "      <th>new_death</th>\n",
       "    </tr>\n",
       "    <tr>\n",
       "      <th>state</th>\n",
       "      <th></th>\n",
       "      <th></th>\n",
       "      <th></th>\n",
       "      <th></th>\n",
       "    </tr>\n",
       "  </thead>\n",
       "  <tbody>\n",
       "    <tr>\n",
       "      <th>AK</th>\n",
       "      <td>103800015</td>\n",
       "      <td>282632</td>\n",
       "      <td>533125</td>\n",
       "      <td>1186</td>\n",
       "    </tr>\n",
       "    <tr>\n",
       "      <th>AL</th>\n",
       "      <td>638327202</td>\n",
       "      <td>1528319</td>\n",
       "      <td>10915844</td>\n",
       "      <td>20498</td>\n",
       "    </tr>\n",
       "    <tr>\n",
       "      <th>AR</th>\n",
       "      <td>403775153</td>\n",
       "      <td>954552</td>\n",
       "      <td>5830937</td>\n",
       "      <td>12041</td>\n",
       "    </tr>\n",
       "    <tr>\n",
       "      <th>AS</th>\n",
       "      <td>1382283</td>\n",
       "      <td>8250</td>\n",
       "      <td>5776</td>\n",
       "      <td>34</td>\n",
       "    </tr>\n",
       "    <tr>\n",
       "      <th>AZ</th>\n",
       "      <td>978893192</td>\n",
       "      <td>2275235</td>\n",
       "      <td>15992140</td>\n",
       "      <td>31644</td>\n",
       "    </tr>\n",
       "    <tr>\n",
       "      <th>CA</th>\n",
       "      <td>4364733842</td>\n",
       "      <td>11107087</td>\n",
       "      <td>50457009</td>\n",
       "      <td>95414</td>\n",
       "    </tr>\n",
       "    <tr>\n",
       "      <th>CO</th>\n",
       "      <td>658900625</td>\n",
       "      <td>1660829</td>\n",
       "      <td>6600246</td>\n",
       "      <td>13348</td>\n",
       "    </tr>\n",
       "    <tr>\n",
       "      <th>CT</th>\n",
       "      <td>367082955</td>\n",
       "      <td>888009</td>\n",
       "      <td>7159317</td>\n",
       "      <td>11385</td>\n",
       "    </tr>\n",
       "    <tr>\n",
       "      <th>DC</th>\n",
       "      <td>64506024</td>\n",
       "      <td>168122</td>\n",
       "      <td>929885</td>\n",
       "      <td>1383</td>\n",
       "    </tr>\n",
       "    <tr>\n",
       "      <th>DE</th>\n",
       "      <td>123511033</td>\n",
       "      <td>310527</td>\n",
       "      <td>1674285</td>\n",
       "      <td>3094</td>\n",
       "    </tr>\n",
       "    <tr>\n",
       "      <th>FL</th>\n",
       "      <td>2877176184</td>\n",
       "      <td>7135916</td>\n",
       "      <td>40188788</td>\n",
       "      <td>81807</td>\n",
       "    </tr>\n",
       "    <tr>\n",
       "      <th>FSM</th>\n",
       "      <td>753724</td>\n",
       "      <td>22005</td>\n",
       "      <td>1997</td>\n",
       "      <td>51</td>\n",
       "    </tr>\n",
       "    <tr>\n",
       "      <th>GA</th>\n",
       "      <td>1256065315</td>\n",
       "      <td>2898910</td>\n",
       "      <td>20057017</td>\n",
       "      <td>39908</td>\n",
       "    </tr>\n",
       "    <tr>\n",
       "      <th>GU</th>\n",
       "      <td>18298026</td>\n",
       "      <td>58647</td>\n",
       "      <td>171781</td>\n",
       "      <td>399</td>\n",
       "    </tr>\n",
       "    <tr>\n",
       "      <th>HI</th>\n",
       "      <td>96019895</td>\n",
       "      <td>335545</td>\n",
       "      <td>655122</td>\n",
       "      <td>1682</td>\n",
       "    </tr>\n",
       "    <tr>\n",
       "      <th>IA</th>\n",
       "      <td>390168331</td>\n",
       "      <td>854980</td>\n",
       "      <td>5253659</td>\n",
       "      <td>10125</td>\n",
       "    </tr>\n",
       "    <tr>\n",
       "      <th>ID</th>\n",
       "      <td>216319232</td>\n",
       "      <td>497007</td>\n",
       "      <td>2394459</td>\n",
       "      <td>5187</td>\n",
       "    </tr>\n",
       "    <tr>\n",
       "      <th>IL</th>\n",
       "      <td>1535904620</td>\n",
       "      <td>3778171</td>\n",
       "      <td>22194980</td>\n",
       "      <td>39791</td>\n",
       "    </tr>\n",
       "    <tr>\n",
       "      <th>IN</th>\n",
       "      <td>826545624</td>\n",
       "      <td>1924345</td>\n",
       "      <td>12704876</td>\n",
       "      <td>24748</td>\n",
       "    </tr>\n",
       "    <tr>\n",
       "      <th>KS</th>\n",
       "      <td>367118827</td>\n",
       "      <td>880197</td>\n",
       "      <td>4551055</td>\n",
       "      <td>9045</td>\n",
       "    </tr>\n",
       "    <tr>\n",
       "      <th>KY</th>\n",
       "      <td>605488868</td>\n",
       "      <td>1597566</td>\n",
       "      <td>8132143</td>\n",
       "      <td>17131</td>\n",
       "    </tr>\n",
       "    <tr>\n",
       "      <th>LA</th>\n",
       "      <td>590492442</td>\n",
       "      <td>1365729</td>\n",
       "      <td>10256566</td>\n",
       "      <td>18120</td>\n",
       "    </tr>\n",
       "    <tr>\n",
       "      <th>MA</th>\n",
       "      <td>813473206</td>\n",
       "      <td>2059179</td>\n",
       "      <td>14732297</td>\n",
       "      <td>25550</td>\n",
       "    </tr>\n",
       "    <tr>\n",
       "      <th>MD</th>\n",
       "      <td>508846790</td>\n",
       "      <td>1257358</td>\n",
       "      <td>8565843</td>\n",
       "      <td>15455</td>\n",
       "    </tr>\n",
       "    <tr>\n",
       "      <th>ME</th>\n",
       "      <td>100313491</td>\n",
       "      <td>292654</td>\n",
       "      <td>1008102</td>\n",
       "      <td>2621</td>\n",
       "    </tr>\n",
       "    <tr>\n",
       "      <th>MI</th>\n",
       "      <td>1143810923</td>\n",
       "      <td>2860770</td>\n",
       "      <td>19618601</td>\n",
       "      <td>33419</td>\n",
       "    </tr>\n",
       "    <tr>\n",
       "      <th>MN</th>\n",
       "      <td>683721274</td>\n",
       "      <td>1661920</td>\n",
       "      <td>6973404</td>\n",
       "      <td>13496</td>\n",
       "    </tr>\n",
       "    <tr>\n",
       "      <th>MO</th>\n",
       "      <td>698151846</td>\n",
       "      <td>1645029</td>\n",
       "      <td>10055057</td>\n",
       "      <td>18610</td>\n",
       "    </tr>\n",
       "    <tr>\n",
       "      <th>MP</th>\n",
       "      <td>3169106</td>\n",
       "      <td>13171</td>\n",
       "      <td>10826</td>\n",
       "      <td>40</td>\n",
       "    </tr>\n",
       "    <tr>\n",
       "      <th>MS</th>\n",
       "      <td>390667852</td>\n",
       "      <td>919938</td>\n",
       "      <td>7138044</td>\n",
       "      <td>11689</td>\n",
       "    </tr>\n",
       "    <tr>\n",
       "      <th>MT</th>\n",
       "      <td>130318670</td>\n",
       "      <td>310008</td>\n",
       "      <td>1654489</td>\n",
       "      <td>3472</td>\n",
       "    </tr>\n",
       "    <tr>\n",
       "      <th>NC</th>\n",
       "      <td>1233122110</td>\n",
       "      <td>3221966</td>\n",
       "      <td>13187799</td>\n",
       "      <td>26889</td>\n",
       "    </tr>\n",
       "    <tr>\n",
       "      <th>ND</th>\n",
       "      <td>119737804</td>\n",
       "      <td>270288</td>\n",
       "      <td>1303518</td>\n",
       "      <td>2383</td>\n",
       "    </tr>\n",
       "    <tr>\n",
       "      <th>NE</th>\n",
       "      <td>238090381</td>\n",
       "      <td>517065</td>\n",
       "      <td>2197571</td>\n",
       "      <td>4156</td>\n",
       "    </tr>\n",
       "    <tr>\n",
       "      <th>NH</th>\n",
       "      <td>130358243</td>\n",
       "      <td>352606</td>\n",
       "      <td>1308866</td>\n",
       "      <td>2713</td>\n",
       "    </tr>\n",
       "    <tr>\n",
       "      <th>NJ</th>\n",
       "      <td>1102833421</td>\n",
       "      <td>2770444</td>\n",
       "      <td>22698466</td>\n",
       "      <td>32968</td>\n",
       "    </tr>\n",
       "    <tr>\n",
       "      <th>NM</th>\n",
       "      <td>244753570</td>\n",
       "      <td>621166</td>\n",
       "      <td>3924141</td>\n",
       "      <td>8391</td>\n",
       "    </tr>\n",
       "    <tr>\n",
       "      <th>NV</th>\n",
       "      <td>360314431</td>\n",
       "      <td>793069</td>\n",
       "      <td>5511467</td>\n",
       "      <td>11144</td>\n",
       "    </tr>\n",
       "    <tr>\n",
       "      <th>NY</th>\n",
       "      <td>1301856010</td>\n",
       "      <td>3259603</td>\n",
       "      <td>17308667</td>\n",
       "      <td>29549</td>\n",
       "    </tr>\n",
       "    <tr>\n",
       "      <th>NYC</th>\n",
       "      <td>1118339865</td>\n",
       "      <td>2897546</td>\n",
       "      <td>29278250</td>\n",
       "      <td>42097</td>\n",
       "    </tr>\n",
       "    <tr>\n",
       "      <th>OH</th>\n",
       "      <td>1276191903</td>\n",
       "      <td>3149589</td>\n",
       "      <td>19056947</td>\n",
       "      <td>36187</td>\n",
       "    </tr>\n",
       "    <tr>\n",
       "      <th>OK</th>\n",
       "      <td>509948964</td>\n",
       "      <td>1201654</td>\n",
       "      <td>7254969</td>\n",
       "      <td>13848</td>\n",
       "    </tr>\n",
       "    <tr>\n",
       "      <th>OR</th>\n",
       "      <td>311165942</td>\n",
       "      <td>899013</td>\n",
       "      <td>3390079</td>\n",
       "      <td>8590</td>\n",
       "    </tr>\n",
       "    <tr>\n",
       "      <th>PA</th>\n",
       "      <td>1328107988</td>\n",
       "      <td>3249979</td>\n",
       "      <td>24628308</td>\n",
       "      <td>47169</td>\n",
       "    </tr>\n",
       "    <tr>\n",
       "      <th>PR</th>\n",
       "      <td>246444841</td>\n",
       "      <td>963373</td>\n",
       "      <td>2319777</td>\n",
       "      <td>5178</td>\n",
       "    </tr>\n",
       "    <tr>\n",
       "      <th>PW</th>\n",
       "      <td>1209901</td>\n",
       "      <td>5510</td>\n",
       "      <td>1440</td>\n",
       "      <td>6</td>\n",
       "    </tr>\n",
       "    <tr>\n",
       "      <th>RI</th>\n",
       "      <td>163311965</td>\n",
       "      <td>406546</td>\n",
       "      <td>2238442</td>\n",
       "      <td>3674</td>\n",
       "    </tr>\n",
       "    <tr>\n",
       "      <th>RMI</th>\n",
       "      <td>827571</td>\n",
       "      <td>15375</td>\n",
       "      <td>934</td>\n",
       "      <td>17</td>\n",
       "    </tr>\n",
       "    <tr>\n",
       "      <th>SC</th>\n",
       "      <td>703355936</td>\n",
       "      <td>1715434</td>\n",
       "      <td>9396256</td>\n",
       "      <td>18468</td>\n",
       "    </tr>\n",
       "    <tr>\n",
       "      <th>SD</th>\n",
       "      <td>123303578</td>\n",
       "      <td>261537</td>\n",
       "      <td>1647941</td>\n",
       "      <td>3033</td>\n",
       "    </tr>\n",
       "    <tr>\n",
       "      <th>TN</th>\n",
       "      <td>985632802</td>\n",
       "      <td>2327351</td>\n",
       "      <td>12689455</td>\n",
       "      <td>25437</td>\n",
       "    </tr>\n",
       "    <tr>\n",
       "      <th>TX</th>\n",
       "      <td>3307212352</td>\n",
       "      <td>7691340</td>\n",
       "      <td>47538683</td>\n",
       "      <td>89344</td>\n",
       "    </tr>\n",
       "    <tr>\n",
       "      <th>UT</th>\n",
       "      <td>451582481</td>\n",
       "      <td>1040147</td>\n",
       "      <td>2350692</td>\n",
       "      <td>5018</td>\n",
       "    </tr>\n",
       "    <tr>\n",
       "      <th>VA</th>\n",
       "      <td>800947192</td>\n",
       "      <td>2099126</td>\n",
       "      <td>10365763</td>\n",
       "      <td>21986</td>\n",
       "    </tr>\n",
       "    <tr>\n",
       "      <th>VI</th>\n",
       "      <td>7188849</td>\n",
       "      <td>23103</td>\n",
       "      <td>52258</td>\n",
       "      <td>123</td>\n",
       "    </tr>\n",
       "    <tr>\n",
       "      <th>VT</th>\n",
       "      <td>42676851</td>\n",
       "      <td>133252</td>\n",
       "      <td>288765</td>\n",
       "      <td>698</td>\n",
       "    </tr>\n",
       "    <tr>\n",
       "      <th>WA</th>\n",
       "      <td>644705150</td>\n",
       "      <td>1825126</td>\n",
       "      <td>6442064</td>\n",
       "      <td>14417</td>\n",
       "    </tr>\n",
       "    <tr>\n",
       "      <th>WI</th>\n",
       "      <td>775370683</td>\n",
       "      <td>1875895</td>\n",
       "      <td>7409068</td>\n",
       "      <td>15321</td>\n",
       "    </tr>\n",
       "    <tr>\n",
       "      <th>WV</th>\n",
       "      <td>219275324</td>\n",
       "      <td>603256</td>\n",
       "      <td>3159079</td>\n",
       "      <td>7387</td>\n",
       "    </tr>\n",
       "    <tr>\n",
       "      <th>WY</th>\n",
       "      <td>74375640</td>\n",
       "      <td>177635</td>\n",
       "      <td>845670</td>\n",
       "      <td>1904</td>\n",
       "    </tr>\n",
       "  </tbody>\n",
       "</table>\n",
       "</div>"
      ],
      "text/plain": [
       "        tot_cases  new_case  tot_death  new_death\n",
       "state                                            \n",
       "AK      103800015    282632     533125       1186\n",
       "AL      638327202   1528319   10915844      20498\n",
       "AR      403775153    954552    5830937      12041\n",
       "AS        1382283      8250       5776         34\n",
       "AZ      978893192   2275235   15992140      31644\n",
       "CA     4364733842  11107087   50457009      95414\n",
       "CO      658900625   1660829    6600246      13348\n",
       "CT      367082955    888009    7159317      11385\n",
       "DC       64506024    168122     929885       1383\n",
       "DE      123511033    310527    1674285       3094\n",
       "FL     2877176184   7135916   40188788      81807\n",
       "FSM        753724     22005       1997         51\n",
       "GA     1256065315   2898910   20057017      39908\n",
       "GU       18298026     58647     171781        399\n",
       "HI       96019895    335545     655122       1682\n",
       "IA      390168331    854980    5253659      10125\n",
       "ID      216319232    497007    2394459       5187\n",
       "IL     1535904620   3778171   22194980      39791\n",
       "IN      826545624   1924345   12704876      24748\n",
       "KS      367118827    880197    4551055       9045\n",
       "KY      605488868   1597566    8132143      17131\n",
       "LA      590492442   1365729   10256566      18120\n",
       "MA      813473206   2059179   14732297      25550\n",
       "MD      508846790   1257358    8565843      15455\n",
       "ME      100313491    292654    1008102       2621\n",
       "MI     1143810923   2860770   19618601      33419\n",
       "MN      683721274   1661920    6973404      13496\n",
       "MO      698151846   1645029   10055057      18610\n",
       "MP        3169106     13171      10826         40\n",
       "MS      390667852    919938    7138044      11689\n",
       "MT      130318670    310008    1654489       3472\n",
       "NC     1233122110   3221966   13187799      26889\n",
       "ND      119737804    270288    1303518       2383\n",
       "NE      238090381    517065    2197571       4156\n",
       "NH      130358243    352606    1308866       2713\n",
       "NJ     1102833421   2770444   22698466      32968\n",
       "NM      244753570    621166    3924141       8391\n",
       "NV      360314431    793069    5511467      11144\n",
       "NY     1301856010   3259603   17308667      29549\n",
       "NYC    1118339865   2897546   29278250      42097\n",
       "OH     1276191903   3149589   19056947      36187\n",
       "OK      509948964   1201654    7254969      13848\n",
       "OR      311165942    899013    3390079       8590\n",
       "PA     1328107988   3249979   24628308      47169\n",
       "PR      246444841    963373    2319777       5178\n",
       "PW        1209901      5510       1440          6\n",
       "RI      163311965    406546    2238442       3674\n",
       "RMI        827571     15375        934         17\n",
       "SC      703355936   1715434    9396256      18468\n",
       "SD      123303578    261537    1647941       3033\n",
       "TN      985632802   2327351   12689455      25437\n",
       "TX     3307212352   7691340   47538683      89344\n",
       "UT      451582481   1040147    2350692       5018\n",
       "VA      800947192   2099126   10365763      21986\n",
       "VI        7188849     23103      52258        123\n",
       "VT       42676851    133252     288765        698\n",
       "WA      644705150   1825126    6442064      14417\n",
       "WI      775370683   1875895    7409068      15321\n",
       "WV      219275324    603256    3159079       7387\n",
       "WY       74375640    177635     845670       1904"
      ]
     },
     "execution_count": 219,
     "metadata": {},
     "output_type": "execute_result"
    }
   ],
   "source": [
    "df_cases.groupby(by='state').sum()"
   ]
  },
  {
   "cell_type": "code",
   "execution_count": 220,
   "metadata": {},
   "outputs": [
    {
     "data": {
      "text/plain": [
       "(60, 4)"
      ]
     },
     "execution_count": 220,
     "metadata": {},
     "output_type": "execute_result"
    }
   ],
   "source": [
    "df_cases.groupby(by='state').sum().shape"
   ]
  },
  {
   "cell_type": "code",
   "execution_count": 221,
   "metadata": {},
   "outputs": [
    {
     "data": {
      "text/html": [
       "<div>\n",
       "<style scoped>\n",
       "    .dataframe tbody tr th:only-of-type {\n",
       "        vertical-align: middle;\n",
       "    }\n",
       "\n",
       "    .dataframe tbody tr th {\n",
       "        vertical-align: top;\n",
       "    }\n",
       "\n",
       "    .dataframe thead th {\n",
       "        text-align: right;\n",
       "    }\n",
       "</style>\n",
       "<table border=\"1\" class=\"dataframe\">\n",
       "  <thead>\n",
       "    <tr style=\"text-align: right;\">\n",
       "      <th></th>\n",
       "      <th>name</th>\n",
       "      <th>postal_code</th>\n",
       "      <th>fips</th>\n",
       "    </tr>\n",
       "  </thead>\n",
       "  <tbody>\n",
       "    <tr>\n",
       "      <th>0</th>\n",
       "      <td>Alabama</td>\n",
       "      <td>AL</td>\n",
       "      <td>1</td>\n",
       "    </tr>\n",
       "    <tr>\n",
       "      <th>1</th>\n",
       "      <td>Alaska</td>\n",
       "      <td>AK</td>\n",
       "      <td>2</td>\n",
       "    </tr>\n",
       "    <tr>\n",
       "      <th>2</th>\n",
       "      <td>Arizona</td>\n",
       "      <td>AZ</td>\n",
       "      <td>4</td>\n",
       "    </tr>\n",
       "    <tr>\n",
       "      <th>3</th>\n",
       "      <td>Arkansas</td>\n",
       "      <td>AR</td>\n",
       "      <td>5</td>\n",
       "    </tr>\n",
       "    <tr>\n",
       "      <th>4</th>\n",
       "      <td>California</td>\n",
       "      <td>CA</td>\n",
       "      <td>6</td>\n",
       "    </tr>\n",
       "    <tr>\n",
       "      <th>5</th>\n",
       "      <td>Colorado</td>\n",
       "      <td>CO</td>\n",
       "      <td>8</td>\n",
       "    </tr>\n",
       "    <tr>\n",
       "      <th>6</th>\n",
       "      <td>Connecticut</td>\n",
       "      <td>CT</td>\n",
       "      <td>9</td>\n",
       "    </tr>\n",
       "    <tr>\n",
       "      <th>7</th>\n",
       "      <td>Delaware</td>\n",
       "      <td>DE</td>\n",
       "      <td>10</td>\n",
       "    </tr>\n",
       "    <tr>\n",
       "      <th>8</th>\n",
       "      <td>District of Columbia</td>\n",
       "      <td>DC</td>\n",
       "      <td>11</td>\n",
       "    </tr>\n",
       "    <tr>\n",
       "      <th>9</th>\n",
       "      <td>Florida</td>\n",
       "      <td>FL</td>\n",
       "      <td>12</td>\n",
       "    </tr>\n",
       "    <tr>\n",
       "      <th>10</th>\n",
       "      <td>Georgia</td>\n",
       "      <td>GA</td>\n",
       "      <td>13</td>\n",
       "    </tr>\n",
       "    <tr>\n",
       "      <th>11</th>\n",
       "      <td>Hawaii</td>\n",
       "      <td>HI</td>\n",
       "      <td>15</td>\n",
       "    </tr>\n",
       "    <tr>\n",
       "      <th>12</th>\n",
       "      <td>Idaho</td>\n",
       "      <td>ID</td>\n",
       "      <td>16</td>\n",
       "    </tr>\n",
       "    <tr>\n",
       "      <th>13</th>\n",
       "      <td>Illinois</td>\n",
       "      <td>IL</td>\n",
       "      <td>17</td>\n",
       "    </tr>\n",
       "    <tr>\n",
       "      <th>14</th>\n",
       "      <td>Indiana</td>\n",
       "      <td>IN</td>\n",
       "      <td>18</td>\n",
       "    </tr>\n",
       "    <tr>\n",
       "      <th>15</th>\n",
       "      <td>Iowa</td>\n",
       "      <td>IA</td>\n",
       "      <td>19</td>\n",
       "    </tr>\n",
       "    <tr>\n",
       "      <th>16</th>\n",
       "      <td>Kansas</td>\n",
       "      <td>KS</td>\n",
       "      <td>20</td>\n",
       "    </tr>\n",
       "    <tr>\n",
       "      <th>17</th>\n",
       "      <td>Kentucky</td>\n",
       "      <td>KY</td>\n",
       "      <td>21</td>\n",
       "    </tr>\n",
       "    <tr>\n",
       "      <th>18</th>\n",
       "      <td>Louisiana</td>\n",
       "      <td>LA</td>\n",
       "      <td>22</td>\n",
       "    </tr>\n",
       "    <tr>\n",
       "      <th>19</th>\n",
       "      <td>Maine</td>\n",
       "      <td>ME</td>\n",
       "      <td>23</td>\n",
       "    </tr>\n",
       "    <tr>\n",
       "      <th>20</th>\n",
       "      <td>Maryland</td>\n",
       "      <td>MD</td>\n",
       "      <td>24</td>\n",
       "    </tr>\n",
       "    <tr>\n",
       "      <th>21</th>\n",
       "      <td>Massachusetts</td>\n",
       "      <td>MA</td>\n",
       "      <td>25</td>\n",
       "    </tr>\n",
       "    <tr>\n",
       "      <th>22</th>\n",
       "      <td>Michigan</td>\n",
       "      <td>MI</td>\n",
       "      <td>26</td>\n",
       "    </tr>\n",
       "    <tr>\n",
       "      <th>23</th>\n",
       "      <td>Minnesota</td>\n",
       "      <td>MN</td>\n",
       "      <td>27</td>\n",
       "    </tr>\n",
       "    <tr>\n",
       "      <th>24</th>\n",
       "      <td>Mississippi</td>\n",
       "      <td>MS</td>\n",
       "      <td>28</td>\n",
       "    </tr>\n",
       "    <tr>\n",
       "      <th>25</th>\n",
       "      <td>Missouri</td>\n",
       "      <td>MO</td>\n",
       "      <td>29</td>\n",
       "    </tr>\n",
       "    <tr>\n",
       "      <th>26</th>\n",
       "      <td>Montana</td>\n",
       "      <td>MT</td>\n",
       "      <td>30</td>\n",
       "    </tr>\n",
       "    <tr>\n",
       "      <th>27</th>\n",
       "      <td>Nebraska</td>\n",
       "      <td>NE</td>\n",
       "      <td>31</td>\n",
       "    </tr>\n",
       "    <tr>\n",
       "      <th>28</th>\n",
       "      <td>Nevada</td>\n",
       "      <td>NV</td>\n",
       "      <td>32</td>\n",
       "    </tr>\n",
       "    <tr>\n",
       "      <th>29</th>\n",
       "      <td>New Hampshire</td>\n",
       "      <td>NH</td>\n",
       "      <td>33</td>\n",
       "    </tr>\n",
       "    <tr>\n",
       "      <th>30</th>\n",
       "      <td>New Jersey</td>\n",
       "      <td>NJ</td>\n",
       "      <td>34</td>\n",
       "    </tr>\n",
       "    <tr>\n",
       "      <th>31</th>\n",
       "      <td>New Mexico</td>\n",
       "      <td>NM</td>\n",
       "      <td>35</td>\n",
       "    </tr>\n",
       "    <tr>\n",
       "      <th>32</th>\n",
       "      <td>New York</td>\n",
       "      <td>NY</td>\n",
       "      <td>36</td>\n",
       "    </tr>\n",
       "    <tr>\n",
       "      <th>33</th>\n",
       "      <td>North Carolina</td>\n",
       "      <td>NC</td>\n",
       "      <td>37</td>\n",
       "    </tr>\n",
       "    <tr>\n",
       "      <th>34</th>\n",
       "      <td>North Dakota</td>\n",
       "      <td>ND</td>\n",
       "      <td>38</td>\n",
       "    </tr>\n",
       "    <tr>\n",
       "      <th>35</th>\n",
       "      <td>Ohio</td>\n",
       "      <td>OH</td>\n",
       "      <td>39</td>\n",
       "    </tr>\n",
       "    <tr>\n",
       "      <th>36</th>\n",
       "      <td>Oklahoma</td>\n",
       "      <td>OK</td>\n",
       "      <td>40</td>\n",
       "    </tr>\n",
       "    <tr>\n",
       "      <th>37</th>\n",
       "      <td>Oregon</td>\n",
       "      <td>OR</td>\n",
       "      <td>41</td>\n",
       "    </tr>\n",
       "    <tr>\n",
       "      <th>38</th>\n",
       "      <td>Pennsylvania</td>\n",
       "      <td>PA</td>\n",
       "      <td>42</td>\n",
       "    </tr>\n",
       "    <tr>\n",
       "      <th>39</th>\n",
       "      <td>Rhode Island</td>\n",
       "      <td>RI</td>\n",
       "      <td>44</td>\n",
       "    </tr>\n",
       "    <tr>\n",
       "      <th>40</th>\n",
       "      <td>South Carolina</td>\n",
       "      <td>SC</td>\n",
       "      <td>45</td>\n",
       "    </tr>\n",
       "    <tr>\n",
       "      <th>41</th>\n",
       "      <td>South Dakota</td>\n",
       "      <td>SD</td>\n",
       "      <td>46</td>\n",
       "    </tr>\n",
       "    <tr>\n",
       "      <th>42</th>\n",
       "      <td>Tennessee</td>\n",
       "      <td>TN</td>\n",
       "      <td>47</td>\n",
       "    </tr>\n",
       "    <tr>\n",
       "      <th>43</th>\n",
       "      <td>Texas</td>\n",
       "      <td>TX</td>\n",
       "      <td>48</td>\n",
       "    </tr>\n",
       "    <tr>\n",
       "      <th>44</th>\n",
       "      <td>Utah</td>\n",
       "      <td>UT</td>\n",
       "      <td>49</td>\n",
       "    </tr>\n",
       "    <tr>\n",
       "      <th>45</th>\n",
       "      <td>Vermont</td>\n",
       "      <td>VT</td>\n",
       "      <td>50</td>\n",
       "    </tr>\n",
       "    <tr>\n",
       "      <th>46</th>\n",
       "      <td>Virginia</td>\n",
       "      <td>VA</td>\n",
       "      <td>51</td>\n",
       "    </tr>\n",
       "    <tr>\n",
       "      <th>47</th>\n",
       "      <td>Washington</td>\n",
       "      <td>WA</td>\n",
       "      <td>53</td>\n",
       "    </tr>\n",
       "    <tr>\n",
       "      <th>48</th>\n",
       "      <td>West Virginia</td>\n",
       "      <td>WV</td>\n",
       "      <td>54</td>\n",
       "    </tr>\n",
       "    <tr>\n",
       "      <th>49</th>\n",
       "      <td>Wisconsin</td>\n",
       "      <td>WI</td>\n",
       "      <td>55</td>\n",
       "    </tr>\n",
       "  </tbody>\n",
       "</table>\n",
       "</div>"
      ],
      "text/plain": [
       "                    name postal_code  fips\n",
       "0                Alabama          AL     1\n",
       "1                 Alaska          AK     2\n",
       "2                Arizona          AZ     4\n",
       "3               Arkansas          AR     5\n",
       "4             California          CA     6\n",
       "5               Colorado          CO     8\n",
       "6            Connecticut          CT     9\n",
       "7               Delaware          DE    10\n",
       "8   District of Columbia          DC    11\n",
       "9                Florida          FL    12\n",
       "10               Georgia          GA    13\n",
       "11                Hawaii          HI    15\n",
       "12                 Idaho          ID    16\n",
       "13              Illinois          IL    17\n",
       "14               Indiana          IN    18\n",
       "15                  Iowa          IA    19\n",
       "16                Kansas          KS    20\n",
       "17              Kentucky          KY    21\n",
       "18             Louisiana          LA    22\n",
       "19                 Maine          ME    23\n",
       "20              Maryland          MD    24\n",
       "21         Massachusetts          MA    25\n",
       "22              Michigan          MI    26\n",
       "23             Minnesota          MN    27\n",
       "24           Mississippi          MS    28\n",
       "25              Missouri          MO    29\n",
       "26               Montana          MT    30\n",
       "27              Nebraska          NE    31\n",
       "28                Nevada          NV    32\n",
       "29         New Hampshire          NH    33\n",
       "30            New Jersey          NJ    34\n",
       "31            New Mexico          NM    35\n",
       "32              New York          NY    36\n",
       "33        North Carolina          NC    37\n",
       "34          North Dakota          ND    38\n",
       "35                  Ohio          OH    39\n",
       "36              Oklahoma          OK    40\n",
       "37                Oregon          OR    41\n",
       "38          Pennsylvania          PA    42\n",
       "39          Rhode Island          RI    44\n",
       "40        South Carolina          SC    45\n",
       "41          South Dakota          SD    46\n",
       "42             Tennessee          TN    47\n",
       "43                 Texas          TX    48\n",
       "44                  Utah          UT    49\n",
       "45               Vermont          VT    50\n",
       "46              Virginia          VA    51\n",
       "47            Washington          WA    53\n",
       "48         West Virginia          WV    54\n",
       "49             Wisconsin          WI    55"
      ]
     },
     "execution_count": 221,
     "metadata": {},
     "output_type": "execute_result"
    }
   ],
   "source": [
    "df_fips = pd.read_csv('../data/states_fips.csv')\n",
    "df_fips.head(50)"
   ]
  },
  {
   "cell_type": "code",
   "execution_count": 222,
   "metadata": {},
   "outputs": [
    {
     "data": {
      "text/plain": [
       "['AK',\n",
       " 'AL',\n",
       " 'AR',\n",
       " 'AS',\n",
       " 'AZ',\n",
       " 'CA',\n",
       " 'CO',\n",
       " 'CT',\n",
       " 'DC',\n",
       " 'DE',\n",
       " 'FL',\n",
       " 'FSM',\n",
       " 'GA',\n",
       " 'GU',\n",
       " 'HI',\n",
       " 'IA',\n",
       " 'ID',\n",
       " 'IL',\n",
       " 'IN',\n",
       " 'KS',\n",
       " 'KY',\n",
       " 'LA',\n",
       " 'MA',\n",
       " 'MD',\n",
       " 'ME',\n",
       " 'MI',\n",
       " 'MN',\n",
       " 'MO',\n",
       " 'MP',\n",
       " 'MS',\n",
       " 'MT',\n",
       " 'NC',\n",
       " 'ND',\n",
       " 'NE',\n",
       " 'NH',\n",
       " 'NJ',\n",
       " 'NM',\n",
       " 'NV',\n",
       " 'NY',\n",
       " 'NYC',\n",
       " 'OH',\n",
       " 'OK',\n",
       " 'OR',\n",
       " 'PA',\n",
       " 'PR',\n",
       " 'PW',\n",
       " 'RI',\n",
       " 'RMI',\n",
       " 'SC',\n",
       " 'SD',\n",
       " 'TN',\n",
       " 'TX',\n",
       " 'UT',\n",
       " 'VA',\n",
       " 'VI',\n",
       " 'VT',\n",
       " 'WA',\n",
       " 'WI',\n",
       " 'WV',\n",
       " 'WY']"
      ]
     },
     "execution_count": 222,
     "metadata": {},
     "output_type": "execute_result"
    }
   ],
   "source": [
    "list_state = list(df_cases.groupby(by='state').sum().index)\n",
    "list_state"
   ]
  },
  {
   "cell_type": "code",
   "execution_count": 223,
   "metadata": {},
   "outputs": [
    {
     "data": {
      "text/plain": [
       "['AL',\n",
       " 'AK',\n",
       " 'AZ',\n",
       " 'AR',\n",
       " 'CA',\n",
       " 'CO',\n",
       " 'CT',\n",
       " 'DE',\n",
       " 'DC',\n",
       " 'FL',\n",
       " 'GA',\n",
       " 'HI',\n",
       " 'ID',\n",
       " 'IL',\n",
       " 'IN',\n",
       " 'IA',\n",
       " 'KS',\n",
       " 'KY',\n",
       " 'LA',\n",
       " 'ME',\n",
       " 'MD',\n",
       " 'MA',\n",
       " 'MI',\n",
       " 'MN',\n",
       " 'MS',\n",
       " 'MO',\n",
       " 'MT',\n",
       " 'NE',\n",
       " 'NV',\n",
       " 'NH',\n",
       " 'NJ',\n",
       " 'NM',\n",
       " 'NY',\n",
       " 'NC',\n",
       " 'ND',\n",
       " 'OH',\n",
       " 'OK',\n",
       " 'OR',\n",
       " 'PA',\n",
       " 'RI',\n",
       " 'SC',\n",
       " 'SD',\n",
       " 'TN',\n",
       " 'TX',\n",
       " 'UT',\n",
       " 'VT',\n",
       " 'VA',\n",
       " 'WA',\n",
       " 'WV',\n",
       " 'WI',\n",
       " 'WY',\n",
       " 'AS',\n",
       " 'GU',\n",
       " 'MP',\n",
       " 'PR',\n",
       " 'VI']"
      ]
     },
     "execution_count": 223,
     "metadata": {},
     "output_type": "execute_result"
    }
   ],
   "source": [
    "list_fips = list(df_fips['postal_code'])\n",
    "list_fips"
   ]
  },
  {
   "cell_type": "code",
   "execution_count": 224,
   "metadata": {},
   "outputs": [
    {
     "data": {
      "text/plain": [
       "{'FSM', 'NYC', 'PW', 'RMI'}"
      ]
     },
     "execution_count": 224,
     "metadata": {},
     "output_type": "execute_result"
    }
   ],
   "source": [
    "set(list_state) - set(list_fips)"
   ]
  },
  {
   "cell_type": "code",
   "execution_count": 225,
   "metadata": {},
   "outputs": [],
   "source": [
    "# These are not US state\n",
    "# FSM: Federated States of Micronesia\n",
    "# PW: Palau\n",
    "# RMI: Republic of Marshall Islands\n",
    "not_state_list = ['FSM', 'PW', 'RMI', 'AS', 'GU', 'MP', 'PR', 'VI']"
   ]
  },
  {
   "cell_type": "code",
   "execution_count": 226,
   "metadata": {},
   "outputs": [
    {
     "data": {
      "text/plain": [
       "(60, 4)"
      ]
     },
     "execution_count": 226,
     "metadata": {},
     "output_type": "execute_result"
    }
   ],
   "source": [
    "df_us = df_cases.groupby(by='state').sum()\n",
    "df_us.shape"
   ]
  },
  {
   "cell_type": "code",
   "execution_count": 227,
   "metadata": {},
   "outputs": [
    {
     "data": {
      "text/plain": [
       "tot_cases    753724\n",
       "new_case      22005\n",
       "tot_death      1997\n",
       "new_death        51\n",
       "Name: FSM, dtype: int64"
      ]
     },
     "execution_count": 227,
     "metadata": {},
     "output_type": "execute_result"
    }
   ],
   "source": [
    "df_us.loc['FSM']"
   ]
  },
  {
   "cell_type": "code",
   "execution_count": 228,
   "metadata": {},
   "outputs": [
    {
     "data": {
      "text/plain": [
       "(52, 4)"
      ]
     },
     "execution_count": 228,
     "metadata": {},
     "output_type": "execute_result"
    }
   ],
   "source": [
    "# Deleting theses 'states' ['FSM', 'PW', 'RMI', 'AS', 'GU', 'MP', 'PR', 'VI']\n",
    "# Keeping DC and NYC. Total of 52 'US states'\n",
    "df_us.drop(index=not_state_list,inplace=True)\n",
    "df_us.shape"
   ]
  },
  {
   "cell_type": "code",
   "execution_count": 229,
   "metadata": {},
   "outputs": [
    {
     "data": {
      "text/html": [
       "<div>\n",
       "<style scoped>\n",
       "    .dataframe tbody tr th:only-of-type {\n",
       "        vertical-align: middle;\n",
       "    }\n",
       "\n",
       "    .dataframe tbody tr th {\n",
       "        vertical-align: top;\n",
       "    }\n",
       "\n",
       "    .dataframe thead th {\n",
       "        text-align: right;\n",
       "    }\n",
       "</style>\n",
       "<table border=\"1\" class=\"dataframe\">\n",
       "  <thead>\n",
       "    <tr style=\"text-align: right;\">\n",
       "      <th></th>\n",
       "      <th>tot_cases</th>\n",
       "      <th>new_case</th>\n",
       "      <th>tot_death</th>\n",
       "      <th>new_death</th>\n",
       "    </tr>\n",
       "    <tr>\n",
       "      <th>state</th>\n",
       "      <th></th>\n",
       "      <th></th>\n",
       "      <th></th>\n",
       "      <th></th>\n",
       "    </tr>\n",
       "  </thead>\n",
       "  <tbody>\n",
       "    <tr>\n",
       "      <th>AK</th>\n",
       "      <td>103800015</td>\n",
       "      <td>282632</td>\n",
       "      <td>533125</td>\n",
       "      <td>1186</td>\n",
       "    </tr>\n",
       "    <tr>\n",
       "      <th>AL</th>\n",
       "      <td>638327202</td>\n",
       "      <td>1528319</td>\n",
       "      <td>10915844</td>\n",
       "      <td>20498</td>\n",
       "    </tr>\n",
       "    <tr>\n",
       "      <th>AR</th>\n",
       "      <td>403775153</td>\n",
       "      <td>954552</td>\n",
       "      <td>5830937</td>\n",
       "      <td>12041</td>\n",
       "    </tr>\n",
       "    <tr>\n",
       "      <th>AZ</th>\n",
       "      <td>978893192</td>\n",
       "      <td>2275235</td>\n",
       "      <td>15992140</td>\n",
       "      <td>31644</td>\n",
       "    </tr>\n",
       "    <tr>\n",
       "      <th>CA</th>\n",
       "      <td>4364733842</td>\n",
       "      <td>11107087</td>\n",
       "      <td>50457009</td>\n",
       "      <td>95414</td>\n",
       "    </tr>\n",
       "    <tr>\n",
       "      <th>CO</th>\n",
       "      <td>658900625</td>\n",
       "      <td>1660829</td>\n",
       "      <td>6600246</td>\n",
       "      <td>13348</td>\n",
       "    </tr>\n",
       "    <tr>\n",
       "      <th>CT</th>\n",
       "      <td>367082955</td>\n",
       "      <td>888009</td>\n",
       "      <td>7159317</td>\n",
       "      <td>11385</td>\n",
       "    </tr>\n",
       "    <tr>\n",
       "      <th>DC</th>\n",
       "      <td>64506024</td>\n",
       "      <td>168122</td>\n",
       "      <td>929885</td>\n",
       "      <td>1383</td>\n",
       "    </tr>\n",
       "    <tr>\n",
       "      <th>DE</th>\n",
       "      <td>123511033</td>\n",
       "      <td>310527</td>\n",
       "      <td>1674285</td>\n",
       "      <td>3094</td>\n",
       "    </tr>\n",
       "    <tr>\n",
       "      <th>FL</th>\n",
       "      <td>2877176184</td>\n",
       "      <td>7135916</td>\n",
       "      <td>40188788</td>\n",
       "      <td>81807</td>\n",
       "    </tr>\n",
       "    <tr>\n",
       "      <th>GA</th>\n",
       "      <td>1256065315</td>\n",
       "      <td>2898910</td>\n",
       "      <td>20057017</td>\n",
       "      <td>39908</td>\n",
       "    </tr>\n",
       "    <tr>\n",
       "      <th>HI</th>\n",
       "      <td>96019895</td>\n",
       "      <td>335545</td>\n",
       "      <td>655122</td>\n",
       "      <td>1682</td>\n",
       "    </tr>\n",
       "    <tr>\n",
       "      <th>IA</th>\n",
       "      <td>390168331</td>\n",
       "      <td>854980</td>\n",
       "      <td>5253659</td>\n",
       "      <td>10125</td>\n",
       "    </tr>\n",
       "    <tr>\n",
       "      <th>ID</th>\n",
       "      <td>216319232</td>\n",
       "      <td>497007</td>\n",
       "      <td>2394459</td>\n",
       "      <td>5187</td>\n",
       "    </tr>\n",
       "    <tr>\n",
       "      <th>IL</th>\n",
       "      <td>1535904620</td>\n",
       "      <td>3778171</td>\n",
       "      <td>22194980</td>\n",
       "      <td>39791</td>\n",
       "    </tr>\n",
       "    <tr>\n",
       "      <th>IN</th>\n",
       "      <td>826545624</td>\n",
       "      <td>1924345</td>\n",
       "      <td>12704876</td>\n",
       "      <td>24748</td>\n",
       "    </tr>\n",
       "    <tr>\n",
       "      <th>KS</th>\n",
       "      <td>367118827</td>\n",
       "      <td>880197</td>\n",
       "      <td>4551055</td>\n",
       "      <td>9045</td>\n",
       "    </tr>\n",
       "    <tr>\n",
       "      <th>KY</th>\n",
       "      <td>605488868</td>\n",
       "      <td>1597566</td>\n",
       "      <td>8132143</td>\n",
       "      <td>17131</td>\n",
       "    </tr>\n",
       "    <tr>\n",
       "      <th>LA</th>\n",
       "      <td>590492442</td>\n",
       "      <td>1365729</td>\n",
       "      <td>10256566</td>\n",
       "      <td>18120</td>\n",
       "    </tr>\n",
       "    <tr>\n",
       "      <th>MA</th>\n",
       "      <td>813473206</td>\n",
       "      <td>2059179</td>\n",
       "      <td>14732297</td>\n",
       "      <td>25550</td>\n",
       "    </tr>\n",
       "    <tr>\n",
       "      <th>MD</th>\n",
       "      <td>508846790</td>\n",
       "      <td>1257358</td>\n",
       "      <td>8565843</td>\n",
       "      <td>15455</td>\n",
       "    </tr>\n",
       "    <tr>\n",
       "      <th>ME</th>\n",
       "      <td>100313491</td>\n",
       "      <td>292654</td>\n",
       "      <td>1008102</td>\n",
       "      <td>2621</td>\n",
       "    </tr>\n",
       "    <tr>\n",
       "      <th>MI</th>\n",
       "      <td>1143810923</td>\n",
       "      <td>2860770</td>\n",
       "      <td>19618601</td>\n",
       "      <td>33419</td>\n",
       "    </tr>\n",
       "    <tr>\n",
       "      <th>MN</th>\n",
       "      <td>683721274</td>\n",
       "      <td>1661920</td>\n",
       "      <td>6973404</td>\n",
       "      <td>13496</td>\n",
       "    </tr>\n",
       "    <tr>\n",
       "      <th>MO</th>\n",
       "      <td>698151846</td>\n",
       "      <td>1645029</td>\n",
       "      <td>10055057</td>\n",
       "      <td>18610</td>\n",
       "    </tr>\n",
       "    <tr>\n",
       "      <th>MS</th>\n",
       "      <td>390667852</td>\n",
       "      <td>919938</td>\n",
       "      <td>7138044</td>\n",
       "      <td>11689</td>\n",
       "    </tr>\n",
       "    <tr>\n",
       "      <th>MT</th>\n",
       "      <td>130318670</td>\n",
       "      <td>310008</td>\n",
       "      <td>1654489</td>\n",
       "      <td>3472</td>\n",
       "    </tr>\n",
       "    <tr>\n",
       "      <th>NC</th>\n",
       "      <td>1233122110</td>\n",
       "      <td>3221966</td>\n",
       "      <td>13187799</td>\n",
       "      <td>26889</td>\n",
       "    </tr>\n",
       "    <tr>\n",
       "      <th>ND</th>\n",
       "      <td>119737804</td>\n",
       "      <td>270288</td>\n",
       "      <td>1303518</td>\n",
       "      <td>2383</td>\n",
       "    </tr>\n",
       "    <tr>\n",
       "      <th>NE</th>\n",
       "      <td>238090381</td>\n",
       "      <td>517065</td>\n",
       "      <td>2197571</td>\n",
       "      <td>4156</td>\n",
       "    </tr>\n",
       "    <tr>\n",
       "      <th>NH</th>\n",
       "      <td>130358243</td>\n",
       "      <td>352606</td>\n",
       "      <td>1308866</td>\n",
       "      <td>2713</td>\n",
       "    </tr>\n",
       "    <tr>\n",
       "      <th>NJ</th>\n",
       "      <td>1102833421</td>\n",
       "      <td>2770444</td>\n",
       "      <td>22698466</td>\n",
       "      <td>32968</td>\n",
       "    </tr>\n",
       "    <tr>\n",
       "      <th>NM</th>\n",
       "      <td>244753570</td>\n",
       "      <td>621166</td>\n",
       "      <td>3924141</td>\n",
       "      <td>8391</td>\n",
       "    </tr>\n",
       "    <tr>\n",
       "      <th>NV</th>\n",
       "      <td>360314431</td>\n",
       "      <td>793069</td>\n",
       "      <td>5511467</td>\n",
       "      <td>11144</td>\n",
       "    </tr>\n",
       "    <tr>\n",
       "      <th>NY</th>\n",
       "      <td>1301856010</td>\n",
       "      <td>3259603</td>\n",
       "      <td>17308667</td>\n",
       "      <td>29549</td>\n",
       "    </tr>\n",
       "    <tr>\n",
       "      <th>NYC</th>\n",
       "      <td>1118339865</td>\n",
       "      <td>2897546</td>\n",
       "      <td>29278250</td>\n",
       "      <td>42097</td>\n",
       "    </tr>\n",
       "    <tr>\n",
       "      <th>OH</th>\n",
       "      <td>1276191903</td>\n",
       "      <td>3149589</td>\n",
       "      <td>19056947</td>\n",
       "      <td>36187</td>\n",
       "    </tr>\n",
       "    <tr>\n",
       "      <th>OK</th>\n",
       "      <td>509948964</td>\n",
       "      <td>1201654</td>\n",
       "      <td>7254969</td>\n",
       "      <td>13848</td>\n",
       "    </tr>\n",
       "    <tr>\n",
       "      <th>OR</th>\n",
       "      <td>311165942</td>\n",
       "      <td>899013</td>\n",
       "      <td>3390079</td>\n",
       "      <td>8590</td>\n",
       "    </tr>\n",
       "    <tr>\n",
       "      <th>PA</th>\n",
       "      <td>1328107988</td>\n",
       "      <td>3249979</td>\n",
       "      <td>24628308</td>\n",
       "      <td>47169</td>\n",
       "    </tr>\n",
       "    <tr>\n",
       "      <th>RI</th>\n",
       "      <td>163311965</td>\n",
       "      <td>406546</td>\n",
       "      <td>2238442</td>\n",
       "      <td>3674</td>\n",
       "    </tr>\n",
       "    <tr>\n",
       "      <th>SC</th>\n",
       "      <td>703355936</td>\n",
       "      <td>1715434</td>\n",
       "      <td>9396256</td>\n",
       "      <td>18468</td>\n",
       "    </tr>\n",
       "    <tr>\n",
       "      <th>SD</th>\n",
       "      <td>123303578</td>\n",
       "      <td>261537</td>\n",
       "      <td>1647941</td>\n",
       "      <td>3033</td>\n",
       "    </tr>\n",
       "    <tr>\n",
       "      <th>TN</th>\n",
       "      <td>985632802</td>\n",
       "      <td>2327351</td>\n",
       "      <td>12689455</td>\n",
       "      <td>25437</td>\n",
       "    </tr>\n",
       "    <tr>\n",
       "      <th>TX</th>\n",
       "      <td>3307212352</td>\n",
       "      <td>7691340</td>\n",
       "      <td>47538683</td>\n",
       "      <td>89344</td>\n",
       "    </tr>\n",
       "    <tr>\n",
       "      <th>UT</th>\n",
       "      <td>451582481</td>\n",
       "      <td>1040147</td>\n",
       "      <td>2350692</td>\n",
       "      <td>5018</td>\n",
       "    </tr>\n",
       "    <tr>\n",
       "      <th>VA</th>\n",
       "      <td>800947192</td>\n",
       "      <td>2099126</td>\n",
       "      <td>10365763</td>\n",
       "      <td>21986</td>\n",
       "    </tr>\n",
       "    <tr>\n",
       "      <th>VT</th>\n",
       "      <td>42676851</td>\n",
       "      <td>133252</td>\n",
       "      <td>288765</td>\n",
       "      <td>698</td>\n",
       "    </tr>\n",
       "    <tr>\n",
       "      <th>WA</th>\n",
       "      <td>644705150</td>\n",
       "      <td>1825126</td>\n",
       "      <td>6442064</td>\n",
       "      <td>14417</td>\n",
       "    </tr>\n",
       "    <tr>\n",
       "      <th>WI</th>\n",
       "      <td>775370683</td>\n",
       "      <td>1875895</td>\n",
       "      <td>7409068</td>\n",
       "      <td>15321</td>\n",
       "    </tr>\n",
       "    <tr>\n",
       "      <th>WV</th>\n",
       "      <td>219275324</td>\n",
       "      <td>603256</td>\n",
       "      <td>3159079</td>\n",
       "      <td>7387</td>\n",
       "    </tr>\n",
       "    <tr>\n",
       "      <th>WY</th>\n",
       "      <td>74375640</td>\n",
       "      <td>177635</td>\n",
       "      <td>845670</td>\n",
       "      <td>1904</td>\n",
       "    </tr>\n",
       "  </tbody>\n",
       "</table>\n",
       "</div>"
      ],
      "text/plain": [
       "        tot_cases  new_case  tot_death  new_death\n",
       "state                                            \n",
       "AK      103800015    282632     533125       1186\n",
       "AL      638327202   1528319   10915844      20498\n",
       "AR      403775153    954552    5830937      12041\n",
       "AZ      978893192   2275235   15992140      31644\n",
       "CA     4364733842  11107087   50457009      95414\n",
       "CO      658900625   1660829    6600246      13348\n",
       "CT      367082955    888009    7159317      11385\n",
       "DC       64506024    168122     929885       1383\n",
       "DE      123511033    310527    1674285       3094\n",
       "FL     2877176184   7135916   40188788      81807\n",
       "GA     1256065315   2898910   20057017      39908\n",
       "HI       96019895    335545     655122       1682\n",
       "IA      390168331    854980    5253659      10125\n",
       "ID      216319232    497007    2394459       5187\n",
       "IL     1535904620   3778171   22194980      39791\n",
       "IN      826545624   1924345   12704876      24748\n",
       "KS      367118827    880197    4551055       9045\n",
       "KY      605488868   1597566    8132143      17131\n",
       "LA      590492442   1365729   10256566      18120\n",
       "MA      813473206   2059179   14732297      25550\n",
       "MD      508846790   1257358    8565843      15455\n",
       "ME      100313491    292654    1008102       2621\n",
       "MI     1143810923   2860770   19618601      33419\n",
       "MN      683721274   1661920    6973404      13496\n",
       "MO      698151846   1645029   10055057      18610\n",
       "MS      390667852    919938    7138044      11689\n",
       "MT      130318670    310008    1654489       3472\n",
       "NC     1233122110   3221966   13187799      26889\n",
       "ND      119737804    270288    1303518       2383\n",
       "NE      238090381    517065    2197571       4156\n",
       "NH      130358243    352606    1308866       2713\n",
       "NJ     1102833421   2770444   22698466      32968\n",
       "NM      244753570    621166    3924141       8391\n",
       "NV      360314431    793069    5511467      11144\n",
       "NY     1301856010   3259603   17308667      29549\n",
       "NYC    1118339865   2897546   29278250      42097\n",
       "OH     1276191903   3149589   19056947      36187\n",
       "OK      509948964   1201654    7254969      13848\n",
       "OR      311165942    899013    3390079       8590\n",
       "PA     1328107988   3249979   24628308      47169\n",
       "RI      163311965    406546    2238442       3674\n",
       "SC      703355936   1715434    9396256      18468\n",
       "SD      123303578    261537    1647941       3033\n",
       "TN      985632802   2327351   12689455      25437\n",
       "TX     3307212352   7691340   47538683      89344\n",
       "UT      451582481   1040147    2350692       5018\n",
       "VA      800947192   2099126   10365763      21986\n",
       "VT       42676851    133252     288765        698\n",
       "WA      644705150   1825126    6442064      14417\n",
       "WI      775370683   1875895    7409068      15321\n",
       "WV      219275324    603256    3159079       7387\n",
       "WY       74375640    177635     845670       1904"
      ]
     },
     "execution_count": 229,
     "metadata": {},
     "output_type": "execute_result"
    }
   ],
   "source": [
    "df_us.sort_index()"
   ]
  },
  {
   "cell_type": "code",
   "execution_count": 230,
   "metadata": {},
   "outputs": [],
   "source": [
    "##!pip install plotly-geo==1.0.0\n",
    "##!pip install geopandas==0.3.0\n",
    "##!pip install pyshp==1.2.10\n",
    "##!pip install shapely==1.6.3"
   ]
  },
  {
   "cell_type": "code",
   "execution_count": 6,
   "metadata": {},
   "outputs": [],
   "source": [
    "import plotly.graph_objects as go\n",
    "import pandas as pd\n",
    "import geopandas as gpd"
   ]
  },
  {
   "cell_type": "code",
   "execution_count": 18,
   "metadata": {},
   "outputs": [
    {
     "data": {
      "application/vnd.plotly.v1+json": {
       "config": {
        "plotlyServerURL": "https://plot.ly"
       },
       "data": [
        {
         "colorbar": {
          "title": {
           "text": "Millions USD"
          }
         },
         "colorscale": [
          [
           0,
           "rgb(247,252,245)"
          ],
          [
           0.125,
           "rgb(229,245,224)"
          ],
          [
           0.25,
           "rgb(199,233,192)"
          ],
          [
           0.375,
           "rgb(161,217,155)"
          ],
          [
           0.5,
           "rgb(116,196,118)"
          ],
          [
           0.625,
           "rgb(65,171,93)"
          ],
          [
           0.75,
           "rgb(35,139,69)"
          ],
          [
           0.875,
           "rgb(0,109,44)"
          ],
          [
           1,
           "rgb(0,68,27)"
          ]
         ],
         "locationmode": "USA-states",
         "locations": [
          "AL",
          "AK",
          "AZ",
          "AR",
          "CA",
          "CO",
          "CT",
          "DE",
          "FL",
          "GA",
          "HI",
          "ID",
          "IL",
          "IN",
          "IA",
          "KS",
          "KY",
          "LA",
          "ME",
          "MD",
          "MA",
          "MI",
          "MN",
          "MS",
          "MO",
          "MT",
          "NE",
          "NV",
          "NH",
          "NJ",
          "NM",
          "NY",
          "NC",
          "ND",
          "OH",
          "OK",
          "OR",
          "PA",
          "RI",
          "SC",
          "SD",
          "TN",
          "TX",
          "UT",
          "VT",
          "VA",
          "WA",
          "WV",
          "WI",
          "WY"
         ],
         "type": "choropleth",
         "z": [
          1390.63,
          13.31,
          1463.17,
          3586.02,
          16472.88,
          1851.33,
          259.62,
          282.19,
          3764.09,
          2860.84,
          401.84,
          2078.89,
          8709.48,
          5050.23,
          11273.76,
          4589.01,
          1889.15,
          1914.23,
          278.37,
          692.75,
          248.65,
          3164.16,
          7192.33,
          2170.8,
          3933.42,
          1718,
          7114.13,
          139.89,
          73.06,
          500.4,
          751.58,
          1488.9,
          3806.05,
          3761.96,
          3979.79,
          1646.41,
          1794.57,
          1969.87,
          31.59,
          929.93,
          3770.19,
          1535.13,
          6648.22,
          453.39,
          180.14,
          1146.48,
          3894.81,
          138.89,
          3090.23,
          349.69
         ]
        }
       ],
       "layout": {
        "geo": {
         "scope": "usa"
        },
        "template": {
         "data": {
          "bar": [
           {
            "error_x": {
             "color": "#2a3f5f"
            },
            "error_y": {
             "color": "#2a3f5f"
            },
            "marker": {
             "line": {
              "color": "#E5ECF6",
              "width": 0.5
             },
             "pattern": {
              "fillmode": "overlay",
              "size": 10,
              "solidity": 0.2
             }
            },
            "type": "bar"
           }
          ],
          "barpolar": [
           {
            "marker": {
             "line": {
              "color": "#E5ECF6",
              "width": 0.5
             },
             "pattern": {
              "fillmode": "overlay",
              "size": 10,
              "solidity": 0.2
             }
            },
            "type": "barpolar"
           }
          ],
          "carpet": [
           {
            "aaxis": {
             "endlinecolor": "#2a3f5f",
             "gridcolor": "white",
             "linecolor": "white",
             "minorgridcolor": "white",
             "startlinecolor": "#2a3f5f"
            },
            "baxis": {
             "endlinecolor": "#2a3f5f",
             "gridcolor": "white",
             "linecolor": "white",
             "minorgridcolor": "white",
             "startlinecolor": "#2a3f5f"
            },
            "type": "carpet"
           }
          ],
          "choropleth": [
           {
            "colorbar": {
             "outlinewidth": 0,
             "ticks": ""
            },
            "type": "choropleth"
           }
          ],
          "contour": [
           {
            "colorbar": {
             "outlinewidth": 0,
             "ticks": ""
            },
            "colorscale": [
             [
              0,
              "#0d0887"
             ],
             [
              0.1111111111111111,
              "#46039f"
             ],
             [
              0.2222222222222222,
              "#7201a8"
             ],
             [
              0.3333333333333333,
              "#9c179e"
             ],
             [
              0.4444444444444444,
              "#bd3786"
             ],
             [
              0.5555555555555556,
              "#d8576b"
             ],
             [
              0.6666666666666666,
              "#ed7953"
             ],
             [
              0.7777777777777778,
              "#fb9f3a"
             ],
             [
              0.8888888888888888,
              "#fdca26"
             ],
             [
              1,
              "#f0f921"
             ]
            ],
            "type": "contour"
           }
          ],
          "contourcarpet": [
           {
            "colorbar": {
             "outlinewidth": 0,
             "ticks": ""
            },
            "type": "contourcarpet"
           }
          ],
          "heatmap": [
           {
            "colorbar": {
             "outlinewidth": 0,
             "ticks": ""
            },
            "colorscale": [
             [
              0,
              "#0d0887"
             ],
             [
              0.1111111111111111,
              "#46039f"
             ],
             [
              0.2222222222222222,
              "#7201a8"
             ],
             [
              0.3333333333333333,
              "#9c179e"
             ],
             [
              0.4444444444444444,
              "#bd3786"
             ],
             [
              0.5555555555555556,
              "#d8576b"
             ],
             [
              0.6666666666666666,
              "#ed7953"
             ],
             [
              0.7777777777777778,
              "#fb9f3a"
             ],
             [
              0.8888888888888888,
              "#fdca26"
             ],
             [
              1,
              "#f0f921"
             ]
            ],
            "type": "heatmap"
           }
          ],
          "heatmapgl": [
           {
            "colorbar": {
             "outlinewidth": 0,
             "ticks": ""
            },
            "colorscale": [
             [
              0,
              "#0d0887"
             ],
             [
              0.1111111111111111,
              "#46039f"
             ],
             [
              0.2222222222222222,
              "#7201a8"
             ],
             [
              0.3333333333333333,
              "#9c179e"
             ],
             [
              0.4444444444444444,
              "#bd3786"
             ],
             [
              0.5555555555555556,
              "#d8576b"
             ],
             [
              0.6666666666666666,
              "#ed7953"
             ],
             [
              0.7777777777777778,
              "#fb9f3a"
             ],
             [
              0.8888888888888888,
              "#fdca26"
             ],
             [
              1,
              "#f0f921"
             ]
            ],
            "type": "heatmapgl"
           }
          ],
          "histogram": [
           {
            "marker": {
             "pattern": {
              "fillmode": "overlay",
              "size": 10,
              "solidity": 0.2
             }
            },
            "type": "histogram"
           }
          ],
          "histogram2d": [
           {
            "colorbar": {
             "outlinewidth": 0,
             "ticks": ""
            },
            "colorscale": [
             [
              0,
              "#0d0887"
             ],
             [
              0.1111111111111111,
              "#46039f"
             ],
             [
              0.2222222222222222,
              "#7201a8"
             ],
             [
              0.3333333333333333,
              "#9c179e"
             ],
             [
              0.4444444444444444,
              "#bd3786"
             ],
             [
              0.5555555555555556,
              "#d8576b"
             ],
             [
              0.6666666666666666,
              "#ed7953"
             ],
             [
              0.7777777777777778,
              "#fb9f3a"
             ],
             [
              0.8888888888888888,
              "#fdca26"
             ],
             [
              1,
              "#f0f921"
             ]
            ],
            "type": "histogram2d"
           }
          ],
          "histogram2dcontour": [
           {
            "colorbar": {
             "outlinewidth": 0,
             "ticks": ""
            },
            "colorscale": [
             [
              0,
              "#0d0887"
             ],
             [
              0.1111111111111111,
              "#46039f"
             ],
             [
              0.2222222222222222,
              "#7201a8"
             ],
             [
              0.3333333333333333,
              "#9c179e"
             ],
             [
              0.4444444444444444,
              "#bd3786"
             ],
             [
              0.5555555555555556,
              "#d8576b"
             ],
             [
              0.6666666666666666,
              "#ed7953"
             ],
             [
              0.7777777777777778,
              "#fb9f3a"
             ],
             [
              0.8888888888888888,
              "#fdca26"
             ],
             [
              1,
              "#f0f921"
             ]
            ],
            "type": "histogram2dcontour"
           }
          ],
          "mesh3d": [
           {
            "colorbar": {
             "outlinewidth": 0,
             "ticks": ""
            },
            "type": "mesh3d"
           }
          ],
          "parcoords": [
           {
            "line": {
             "colorbar": {
              "outlinewidth": 0,
              "ticks": ""
             }
            },
            "type": "parcoords"
           }
          ],
          "pie": [
           {
            "automargin": true,
            "type": "pie"
           }
          ],
          "scatter": [
           {
            "marker": {
             "colorbar": {
              "outlinewidth": 0,
              "ticks": ""
             }
            },
            "type": "scatter"
           }
          ],
          "scatter3d": [
           {
            "line": {
             "colorbar": {
              "outlinewidth": 0,
              "ticks": ""
             }
            },
            "marker": {
             "colorbar": {
              "outlinewidth": 0,
              "ticks": ""
             }
            },
            "type": "scatter3d"
           }
          ],
          "scattercarpet": [
           {
            "marker": {
             "colorbar": {
              "outlinewidth": 0,
              "ticks": ""
             }
            },
            "type": "scattercarpet"
           }
          ],
          "scattergeo": [
           {
            "marker": {
             "colorbar": {
              "outlinewidth": 0,
              "ticks": ""
             }
            },
            "type": "scattergeo"
           }
          ],
          "scattergl": [
           {
            "marker": {
             "colorbar": {
              "outlinewidth": 0,
              "ticks": ""
             }
            },
            "type": "scattergl"
           }
          ],
          "scattermapbox": [
           {
            "marker": {
             "colorbar": {
              "outlinewidth": 0,
              "ticks": ""
             }
            },
            "type": "scattermapbox"
           }
          ],
          "scatterpolar": [
           {
            "marker": {
             "colorbar": {
              "outlinewidth": 0,
              "ticks": ""
             }
            },
            "type": "scatterpolar"
           }
          ],
          "scatterpolargl": [
           {
            "marker": {
             "colorbar": {
              "outlinewidth": 0,
              "ticks": ""
             }
            },
            "type": "scatterpolargl"
           }
          ],
          "scatterternary": [
           {
            "marker": {
             "colorbar": {
              "outlinewidth": 0,
              "ticks": ""
             }
            },
            "type": "scatterternary"
           }
          ],
          "surface": [
           {
            "colorbar": {
             "outlinewidth": 0,
             "ticks": ""
            },
            "colorscale": [
             [
              0,
              "#0d0887"
             ],
             [
              0.1111111111111111,
              "#46039f"
             ],
             [
              0.2222222222222222,
              "#7201a8"
             ],
             [
              0.3333333333333333,
              "#9c179e"
             ],
             [
              0.4444444444444444,
              "#bd3786"
             ],
             [
              0.5555555555555556,
              "#d8576b"
             ],
             [
              0.6666666666666666,
              "#ed7953"
             ],
             [
              0.7777777777777778,
              "#fb9f3a"
             ],
             [
              0.8888888888888888,
              "#fdca26"
             ],
             [
              1,
              "#f0f921"
             ]
            ],
            "type": "surface"
           }
          ],
          "table": [
           {
            "cells": {
             "fill": {
              "color": "#EBF0F8"
             },
             "line": {
              "color": "white"
             }
            },
            "header": {
             "fill": {
              "color": "#C8D4E3"
             },
             "line": {
              "color": "white"
             }
            },
            "type": "table"
           }
          ]
         },
         "layout": {
          "annotationdefaults": {
           "arrowcolor": "#2a3f5f",
           "arrowhead": 0,
           "arrowwidth": 1
          },
          "autotypenumbers": "strict",
          "coloraxis": {
           "colorbar": {
            "outlinewidth": 0,
            "ticks": ""
           }
          },
          "colorscale": {
           "diverging": [
            [
             0,
             "#8e0152"
            ],
            [
             0.1,
             "#c51b7d"
            ],
            [
             0.2,
             "#de77ae"
            ],
            [
             0.3,
             "#f1b6da"
            ],
            [
             0.4,
             "#fde0ef"
            ],
            [
             0.5,
             "#f7f7f7"
            ],
            [
             0.6,
             "#e6f5d0"
            ],
            [
             0.7,
             "#b8e186"
            ],
            [
             0.8,
             "#7fbc41"
            ],
            [
             0.9,
             "#4d9221"
            ],
            [
             1,
             "#276419"
            ]
           ],
           "sequential": [
            [
             0,
             "#0d0887"
            ],
            [
             0.1111111111111111,
             "#46039f"
            ],
            [
             0.2222222222222222,
             "#7201a8"
            ],
            [
             0.3333333333333333,
             "#9c179e"
            ],
            [
             0.4444444444444444,
             "#bd3786"
            ],
            [
             0.5555555555555556,
             "#d8576b"
            ],
            [
             0.6666666666666666,
             "#ed7953"
            ],
            [
             0.7777777777777778,
             "#fb9f3a"
            ],
            [
             0.8888888888888888,
             "#fdca26"
            ],
            [
             1,
             "#f0f921"
            ]
           ],
           "sequentialminus": [
            [
             0,
             "#0d0887"
            ],
            [
             0.1111111111111111,
             "#46039f"
            ],
            [
             0.2222222222222222,
             "#7201a8"
            ],
            [
             0.3333333333333333,
             "#9c179e"
            ],
            [
             0.4444444444444444,
             "#bd3786"
            ],
            [
             0.5555555555555556,
             "#d8576b"
            ],
            [
             0.6666666666666666,
             "#ed7953"
            ],
            [
             0.7777777777777778,
             "#fb9f3a"
            ],
            [
             0.8888888888888888,
             "#fdca26"
            ],
            [
             1,
             "#f0f921"
            ]
           ]
          },
          "colorway": [
           "#636efa",
           "#EF553B",
           "#00cc96",
           "#ab63fa",
           "#FFA15A",
           "#19d3f3",
           "#FF6692",
           "#B6E880",
           "#FF97FF",
           "#FECB52"
          ],
          "font": {
           "color": "#2a3f5f"
          },
          "geo": {
           "bgcolor": "white",
           "lakecolor": "white",
           "landcolor": "#E5ECF6",
           "showlakes": true,
           "showland": true,
           "subunitcolor": "white"
          },
          "hoverlabel": {
           "align": "left"
          },
          "hovermode": "closest",
          "mapbox": {
           "style": "light"
          },
          "paper_bgcolor": "white",
          "plot_bgcolor": "#E5ECF6",
          "polar": {
           "angularaxis": {
            "gridcolor": "white",
            "linecolor": "white",
            "ticks": ""
           },
           "bgcolor": "#E5ECF6",
           "radialaxis": {
            "gridcolor": "white",
            "linecolor": "white",
            "ticks": ""
           }
          },
          "scene": {
           "xaxis": {
            "backgroundcolor": "#E5ECF6",
            "gridcolor": "white",
            "gridwidth": 2,
            "linecolor": "white",
            "showbackground": true,
            "ticks": "",
            "zerolinecolor": "white"
           },
           "yaxis": {
            "backgroundcolor": "#E5ECF6",
            "gridcolor": "white",
            "gridwidth": 2,
            "linecolor": "white",
            "showbackground": true,
            "ticks": "",
            "zerolinecolor": "white"
           },
           "zaxis": {
            "backgroundcolor": "#E5ECF6",
            "gridcolor": "white",
            "gridwidth": 2,
            "linecolor": "white",
            "showbackground": true,
            "ticks": "",
            "zerolinecolor": "white"
           }
          },
          "shapedefaults": {
           "line": {
            "color": "#2a3f5f"
           }
          },
          "ternary": {
           "aaxis": {
            "gridcolor": "white",
            "linecolor": "white",
            "ticks": ""
           },
           "baxis": {
            "gridcolor": "white",
            "linecolor": "white",
            "ticks": ""
           },
           "bgcolor": "#E5ECF6",
           "caxis": {
            "gridcolor": "white",
            "linecolor": "white",
            "ticks": ""
           }
          },
          "title": {
           "x": 0.05
          },
          "xaxis": {
           "automargin": true,
           "gridcolor": "white",
           "linecolor": "white",
           "ticks": "",
           "title": {
            "standoff": 15
           },
           "zerolinecolor": "white",
           "zerolinewidth": 2
          },
          "yaxis": {
           "automargin": true,
           "gridcolor": "white",
           "linecolor": "white",
           "ticks": "",
           "title": {
            "standoff": 15
           },
           "zerolinecolor": "white",
           "zerolinewidth": 2
          }
         }
        },
        "title": {
         "text": " US Covid Cases by State"
        }
       }
      }
     },
     "metadata": {},
     "output_type": "display_data"
    }
   ],
   "source": [
    "import plotly.graph_objects as go\n",
    "\n",
    "import pandas as pd\n",
    "df = pd.read_csv('https://raw.githubusercontent.com/plotly/datasets/master/2011_us_ag_exports.csv')\n",
    "fig = go.Figure(\n",
    "    data = go.Choropleth(\n",
    "    locations = df['code'], # Spatial coordinates\n",
    "    z = df['total exports'].astype(float), # Data to be color-coded\n",
    "    locationmode = 'USA-states', # set of locations match entries in `locations`\n",
    "    colorscale = 'Greens',\n",
    "    colorbar_title = \"Millions USD\",\n",
    "))\n",
    "\n",
    "fig.update_layout(\n",
    "    title_text = ' US Covid Cases by State',\n",
    "    geo_scope='usa', # limite map scope to USA\n",
    ")\n",
    "\n",
    "fig.show()"
   ]
  },
  {
   "cell_type": "markdown",
   "metadata": {},
   "source": [
    "## EDA - COVID Deaths in US\n",
    "____"
   ]
  },
  {
   "cell_type": "code",
   "execution_count": null,
   "metadata": {},
   "outputs": [],
   "source": [
    "df_deaths.info()"
   ]
  },
  {
   "cell_type": "code",
   "execution_count": null,
   "metadata": {},
   "outputs": [],
   "source": [
    "df_deaths = df_deaths.groupby(by=df_deaths.index).sum()\n",
    "df_deaths.head()"
   ]
  },
  {
   "cell_type": "code",
   "execution_count": null,
   "metadata": {},
   "outputs": [],
   "source": [
    "df_deaths.drop(columns=['tot_cases','tot_death','new_case'], inplace=True)\n"
   ]
  },
  {
   "cell_type": "code",
   "execution_count": null,
   "metadata": {},
   "outputs": [],
   "source": [
    "df_deaths.sort_values(by='new_death', ascending=True)"
   ]
  },
  {
   "cell_type": "code",
   "execution_count": null,
   "metadata": {},
   "outputs": [],
   "source": [
    "plt.figure(figsize=(14,8))\n",
    "plt.plot(df_deaths['new_death']);"
   ]
  },
  {
   "cell_type": "markdown",
   "metadata": {},
   "source": [
    "# Vacination data\n",
    "____\n"
   ]
  },
  {
   "cell_type": "code",
   "execution_count": null,
   "metadata": {},
   "outputs": [],
   "source": [
    "df_vacc=pd.read_csv('../data/covid_vaccination_trends.csv', low_memory=False)\n",
    "df_vacc.info()"
   ]
  },
  {
   "cell_type": "code",
   "execution_count": null,
   "metadata": {},
   "outputs": [],
   "source": [
    "df_vacc['Date'] = pd.to_datetime(df_vacc['Date'])\n",
    "df_vacc.set_index('Date', inplace=True)\n",
    "df_vacc.sort_index(inplace=True)\n"
   ]
  },
  {
   "cell_type": "code",
   "execution_count": null,
   "metadata": {},
   "outputs": [],
   "source": [
    "df_vacc.columns"
   ]
  },
  {
   "cell_type": "code",
   "execution_count": null,
   "metadata": {},
   "outputs": [],
   "source": [
    "df_vacc.drop(columns=['date_type','MMWR_week'],inplace=True)\n",
    "df_vacc"
   ]
  },
  {
   "cell_type": "code",
   "execution_count": null,
   "metadata": {},
   "outputs": [],
   "source": [
    "df_vacc.drop(columns=['Administered_Daily', 'Administered_Cumulative',\n",
    "       'Administered_7_Day_Rolling_Average', 'Admin_Dose_1_Daily', 'Admin_Dose_1_Day_Rolling_Average',\n",
    "       'Administered_Dose1_Pop_Pct', 'Administered_daily_change_report',\n",
    "       'Administered_daily_change_report_7dayroll', 'Series_Complete_Daily',\n",
    "       'Series_Complete_Cumulative', 'Series_Complete_Day_Rolling_Average',\n",
    "       'Series_Complete_Pop_Pct', 'Booster_Daily', 'Booster_Cumulative',\n",
    "       'Booster_7_Day_Rolling_Average', 'Additional_Doses_Vax_Pct',\n",
    "       'Second_Booster_50Plus_Daily', 'Second_Booster_50Plus_Cumulative',\n",
    "       'Second_Booster_50Plus_7_Day_Rolling_Average',\n",
    "       'Second_Booster_50Plus_Vax_Pct'],inplace=True)\n"
   ]
  },
  {
   "cell_type": "code",
   "execution_count": null,
   "metadata": {},
   "outputs": [],
   "source": [
    "df_vacc.info()"
   ]
  },
  {
   "cell_type": "code",
   "execution_count": null,
   "metadata": {},
   "outputs": [],
   "source": [
    "df_vacc['Admin_Dose_1_Cumulative'] = df_vacc['Admin_Dose_1_Cumulative'].map( lambda x: x.replace(',','')).astype(int)\n",
    "df_vacc.info()"
   ]
  },
  {
   "cell_type": "code",
   "execution_count": null,
   "metadata": {},
   "outputs": [],
   "source": [
    "df_vacc = df_vacc.groupby(by=df_vacc.index).sum()\n",
    "df_vacc.head()"
   ]
  },
  {
   "cell_type": "code",
   "execution_count": null,
   "metadata": {},
   "outputs": [],
   "source": [
    "df_vacc.head(70)"
   ]
  }
 ],
 "metadata": {
  "kernelspec": {
   "display_name": "Python 3.9.12",
   "language": "python",
   "name": "python3"
  },
  "language_info": {
   "codemirror_mode": {
    "name": "ipython",
    "version": 3
   },
   "file_extension": ".py",
   "mimetype": "text/x-python",
   "name": "python",
   "nbconvert_exporter": "python",
   "pygments_lexer": "ipython3",
   "version": "3.9.12"
  },
  "orig_nbformat": 4,
  "vscode": {
   "interpreter": {
    "hash": "34f45a2ba0fbc03e28e7f7a41cd378a2ce17a9c291c97b9041ffb2d877b082e9"
   }
  }
 },
 "nbformat": 4,
 "nbformat_minor": 2
}
