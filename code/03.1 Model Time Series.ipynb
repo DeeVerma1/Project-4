{
 "cells": [
  {
   "cell_type": "markdown",
   "metadata": {},
   "source": [
    "# Times Series Modeling \n",
    "----"
   ]
  },
  {
   "cell_type": "markdown",
   "metadata": {},
   "source": [
    "## Pre-Processing Data"
   ]
  },
  {
   "cell_type": "code",
   "execution_count": 1,
   "metadata": {},
   "outputs": [],
   "source": [
    "import pandas as pd \n",
    "import matplotlib.pyplot as plt\n",
    "from statsmodels.tsa.stattools import adfuller\n",
    "from sklearn.model_selection import train_test_split\n",
    "from statsmodels.tsa.arima.model import ARIMA\n",
    "from statsmodels.tsa.statespace.sarimax import SARIMAX\n",
    "\n",
    "from sklearn import metrics"
   ]
  },
  {
   "cell_type": "code",
   "execution_count": 2,
   "metadata": {},
   "outputs": [],
   "source": [
    "covid = pd.read_csv('../data/clean_data/covid_cases_us_clean.csv')\n",
    "covid['submission_date'] = pd.to_datetime(covid['submission_date'])\n",
    "covid = covid[['submission_date','state','tot_cases','new_case','tot_death','new_death']]\n",
    "covid.set_index('submission_date', inplace=True)\n",
    "covid.sort_index(inplace=True)"
   ]
  },
  {
   "cell_type": "code",
   "execution_count": 3,
   "metadata": {},
   "outputs": [
    {
     "data": {
      "text/html": [
       "<div>\n",
       "<style scoped>\n",
       "    .dataframe tbody tr th:only-of-type {\n",
       "        vertical-align: middle;\n",
       "    }\n",
       "\n",
       "    .dataframe tbody tr th {\n",
       "        vertical-align: top;\n",
       "    }\n",
       "\n",
       "    .dataframe thead th {\n",
       "        text-align: right;\n",
       "    }\n",
       "</style>\n",
       "<table border=\"1\" class=\"dataframe\">\n",
       "  <thead>\n",
       "    <tr style=\"text-align: right;\">\n",
       "      <th></th>\n",
       "      <th>state</th>\n",
       "      <th>tot_cases</th>\n",
       "      <th>new_case</th>\n",
       "      <th>tot_death</th>\n",
       "      <th>new_death</th>\n",
       "    </tr>\n",
       "    <tr>\n",
       "      <th>submission_date</th>\n",
       "      <th></th>\n",
       "      <th></th>\n",
       "      <th></th>\n",
       "      <th></th>\n",
       "      <th></th>\n",
       "    </tr>\n",
       "  </thead>\n",
       "  <tbody>\n",
       "    <tr>\n",
       "      <th>2020-01-22</th>\n",
       "      <td>AS</td>\n",
       "      <td>0</td>\n",
       "      <td>0</td>\n",
       "      <td>0</td>\n",
       "      <td>0</td>\n",
       "    </tr>\n",
       "    <tr>\n",
       "      <th>2020-01-22</th>\n",
       "      <td>NYC</td>\n",
       "      <td>0</td>\n",
       "      <td>0</td>\n",
       "      <td>0</td>\n",
       "      <td>0</td>\n",
       "    </tr>\n",
       "    <tr>\n",
       "      <th>2020-01-22</th>\n",
       "      <td>AL</td>\n",
       "      <td>0</td>\n",
       "      <td>0</td>\n",
       "      <td>0</td>\n",
       "      <td>0</td>\n",
       "    </tr>\n",
       "    <tr>\n",
       "      <th>2020-01-22</th>\n",
       "      <td>GU</td>\n",
       "      <td>0</td>\n",
       "      <td>0</td>\n",
       "      <td>0</td>\n",
       "      <td>0</td>\n",
       "    </tr>\n",
       "    <tr>\n",
       "      <th>2020-01-22</th>\n",
       "      <td>DC</td>\n",
       "      <td>0</td>\n",
       "      <td>0</td>\n",
       "      <td>0</td>\n",
       "      <td>0</td>\n",
       "    </tr>\n",
       "    <tr>\n",
       "      <th>...</th>\n",
       "      <td>...</td>\n",
       "      <td>...</td>\n",
       "      <td>...</td>\n",
       "      <td>...</td>\n",
       "      <td>...</td>\n",
       "    </tr>\n",
       "    <tr>\n",
       "      <th>2022-10-11</th>\n",
       "      <td>HI</td>\n",
       "      <td>348570</td>\n",
       "      <td>0</td>\n",
       "      <td>1682</td>\n",
       "      <td>0</td>\n",
       "    </tr>\n",
       "    <tr>\n",
       "      <th>2022-10-11</th>\n",
       "      <td>MP</td>\n",
       "      <td>13171</td>\n",
       "      <td>0</td>\n",
       "      <td>40</td>\n",
       "      <td>0</td>\n",
       "    </tr>\n",
       "    <tr>\n",
       "      <th>2022-10-11</th>\n",
       "      <td>UT</td>\n",
       "      <td>1040147</td>\n",
       "      <td>0</td>\n",
       "      <td>5028</td>\n",
       "      <td>0</td>\n",
       "    </tr>\n",
       "    <tr>\n",
       "      <th>2022-10-11</th>\n",
       "      <td>AS</td>\n",
       "      <td>8250</td>\n",
       "      <td>0</td>\n",
       "      <td>34</td>\n",
       "      <td>0</td>\n",
       "    </tr>\n",
       "    <tr>\n",
       "      <th>2022-10-11</th>\n",
       "      <td>RI</td>\n",
       "      <td>406546</td>\n",
       "      <td>0</td>\n",
       "      <td>3674</td>\n",
       "      <td>0</td>\n",
       "    </tr>\n",
       "  </tbody>\n",
       "</table>\n",
       "<p>59640 rows × 5 columns</p>\n",
       "</div>"
      ],
      "text/plain": [
       "                state  tot_cases  new_case  tot_death  new_death\n",
       "submission_date                                                 \n",
       "2020-01-22         AS          0         0          0          0\n",
       "2020-01-22        NYC          0         0          0          0\n",
       "2020-01-22         AL          0         0          0          0\n",
       "2020-01-22         GU          0         0          0          0\n",
       "2020-01-22         DC          0         0          0          0\n",
       "...               ...        ...       ...        ...        ...\n",
       "2022-10-11         HI     348570         0       1682          0\n",
       "2022-10-11         MP      13171         0         40          0\n",
       "2022-10-11         UT    1040147         0       5028          0\n",
       "2022-10-11         AS       8250         0         34          0\n",
       "2022-10-11         RI     406546         0       3674          0\n",
       "\n",
       "[59640 rows x 5 columns]"
      ]
     },
     "execution_count": 3,
     "metadata": {},
     "output_type": "execute_result"
    }
   ],
   "source": [
    "covid"
   ]
  },
  {
   "cell_type": "code",
   "execution_count": 4,
   "metadata": {},
   "outputs": [
    {
     "name": "stdout",
     "output_type": "stream",
     "text": [
      "<class 'pandas.core.frame.DataFrame'>\n",
      "DatetimeIndex: 59640 entries, 2020-01-22 to 2022-10-11\n",
      "Data columns (total 5 columns):\n",
      " #   Column     Non-Null Count  Dtype \n",
      "---  ------     --------------  ----- \n",
      " 0   state      59640 non-null  object\n",
      " 1   tot_cases  59640 non-null  int64 \n",
      " 2   new_case   59640 non-null  int64 \n",
      " 3   tot_death  59640 non-null  int64 \n",
      " 4   new_death  59640 non-null  int64 \n",
      "dtypes: int64(4), object(1)\n",
      "memory usage: 2.7+ MB\n"
     ]
    }
   ],
   "source": [
    "covid.info()"
   ]
  },
  {
   "cell_type": "code",
   "execution_count": 5,
   "metadata": {},
   "outputs": [
    {
     "data": {
      "text/html": [
       "<div>\n",
       "<style scoped>\n",
       "    .dataframe tbody tr th:only-of-type {\n",
       "        vertical-align: middle;\n",
       "    }\n",
       "\n",
       "    .dataframe tbody tr th {\n",
       "        vertical-align: top;\n",
       "    }\n",
       "\n",
       "    .dataframe thead th {\n",
       "        text-align: right;\n",
       "    }\n",
       "</style>\n",
       "<table border=\"1\" class=\"dataframe\">\n",
       "  <thead>\n",
       "    <tr style=\"text-align: right;\">\n",
       "      <th></th>\n",
       "      <th>state</th>\n",
       "      <th>tot_cases</th>\n",
       "      <th>new_case</th>\n",
       "      <th>tot_death</th>\n",
       "      <th>new_death</th>\n",
       "    </tr>\n",
       "    <tr>\n",
       "      <th>submission_date</th>\n",
       "      <th></th>\n",
       "      <th></th>\n",
       "      <th></th>\n",
       "      <th></th>\n",
       "      <th></th>\n",
       "    </tr>\n",
       "  </thead>\n",
       "  <tbody>\n",
       "    <tr>\n",
       "      <th>2020-01-22</th>\n",
       "      <td>AS</td>\n",
       "      <td>0</td>\n",
       "      <td>0</td>\n",
       "      <td>0</td>\n",
       "      <td>0</td>\n",
       "    </tr>\n",
       "    <tr>\n",
       "      <th>2020-01-22</th>\n",
       "      <td>NYC</td>\n",
       "      <td>0</td>\n",
       "      <td>0</td>\n",
       "      <td>0</td>\n",
       "      <td>0</td>\n",
       "    </tr>\n",
       "    <tr>\n",
       "      <th>2020-01-22</th>\n",
       "      <td>AL</td>\n",
       "      <td>0</td>\n",
       "      <td>0</td>\n",
       "      <td>0</td>\n",
       "      <td>0</td>\n",
       "    </tr>\n",
       "    <tr>\n",
       "      <th>2020-01-22</th>\n",
       "      <td>GU</td>\n",
       "      <td>0</td>\n",
       "      <td>0</td>\n",
       "      <td>0</td>\n",
       "      <td>0</td>\n",
       "    </tr>\n",
       "    <tr>\n",
       "      <th>2020-01-22</th>\n",
       "      <td>DC</td>\n",
       "      <td>0</td>\n",
       "      <td>0</td>\n",
       "      <td>0</td>\n",
       "      <td>0</td>\n",
       "    </tr>\n",
       "    <tr>\n",
       "      <th>...</th>\n",
       "      <td>...</td>\n",
       "      <td>...</td>\n",
       "      <td>...</td>\n",
       "      <td>...</td>\n",
       "      <td>...</td>\n",
       "    </tr>\n",
       "    <tr>\n",
       "      <th>2022-10-11</th>\n",
       "      <td>HI</td>\n",
       "      <td>348570</td>\n",
       "      <td>0</td>\n",
       "      <td>1682</td>\n",
       "      <td>0</td>\n",
       "    </tr>\n",
       "    <tr>\n",
       "      <th>2022-10-11</th>\n",
       "      <td>MP</td>\n",
       "      <td>13171</td>\n",
       "      <td>0</td>\n",
       "      <td>40</td>\n",
       "      <td>0</td>\n",
       "    </tr>\n",
       "    <tr>\n",
       "      <th>2022-10-11</th>\n",
       "      <td>UT</td>\n",
       "      <td>1040147</td>\n",
       "      <td>0</td>\n",
       "      <td>5028</td>\n",
       "      <td>0</td>\n",
       "    </tr>\n",
       "    <tr>\n",
       "      <th>2022-10-11</th>\n",
       "      <td>AS</td>\n",
       "      <td>8250</td>\n",
       "      <td>0</td>\n",
       "      <td>34</td>\n",
       "      <td>0</td>\n",
       "    </tr>\n",
       "    <tr>\n",
       "      <th>2022-10-11</th>\n",
       "      <td>RI</td>\n",
       "      <td>406546</td>\n",
       "      <td>0</td>\n",
       "      <td>3674</td>\n",
       "      <td>0</td>\n",
       "    </tr>\n",
       "  </tbody>\n",
       "</table>\n",
       "<p>59640 rows × 5 columns</p>\n",
       "</div>"
      ],
      "text/plain": [
       "                state  tot_cases  new_case  tot_death  new_death\n",
       "submission_date                                                 \n",
       "2020-01-22         AS          0         0          0          0\n",
       "2020-01-22        NYC          0         0          0          0\n",
       "2020-01-22         AL          0         0          0          0\n",
       "2020-01-22         GU          0         0          0          0\n",
       "2020-01-22         DC          0         0          0          0\n",
       "...               ...        ...       ...        ...        ...\n",
       "2022-10-11         HI     348570         0       1682          0\n",
       "2022-10-11         MP      13171         0         40          0\n",
       "2022-10-11         UT    1040147         0       5028          0\n",
       "2022-10-11         AS       8250         0         34          0\n",
       "2022-10-11         RI     406546         0       3674          0\n",
       "\n",
       "[59640 rows x 5 columns]"
      ]
     },
     "execution_count": 5,
     "metadata": {},
     "output_type": "execute_result"
    }
   ],
   "source": [
    "# Creating a copy of dataset to perform modeling\n",
    "df = covid.copy()\n",
    "df"
   ]
  },
  {
   "cell_type": "code",
   "execution_count": 6,
   "metadata": {},
   "outputs": [
    {
     "data": {
      "text/html": [
       "<div>\n",
       "<style scoped>\n",
       "    .dataframe tbody tr th:only-of-type {\n",
       "        vertical-align: middle;\n",
       "    }\n",
       "\n",
       "    .dataframe tbody tr th {\n",
       "        vertical-align: top;\n",
       "    }\n",
       "\n",
       "    .dataframe thead th {\n",
       "        text-align: right;\n",
       "    }\n",
       "</style>\n",
       "<table border=\"1\" class=\"dataframe\">\n",
       "  <thead>\n",
       "    <tr style=\"text-align: right;\">\n",
       "      <th></th>\n",
       "      <th>tot_cases</th>\n",
       "      <th>new_case</th>\n",
       "      <th>tot_death</th>\n",
       "      <th>new_death</th>\n",
       "    </tr>\n",
       "    <tr>\n",
       "      <th>submission_date</th>\n",
       "      <th></th>\n",
       "      <th></th>\n",
       "      <th></th>\n",
       "      <th></th>\n",
       "    </tr>\n",
       "  </thead>\n",
       "  <tbody>\n",
       "    <tr>\n",
       "      <th>2020-01-22</th>\n",
       "      <td>4</td>\n",
       "      <td>4</td>\n",
       "      <td>0</td>\n",
       "      <td>0</td>\n",
       "    </tr>\n",
       "    <tr>\n",
       "      <th>2020-01-23</th>\n",
       "      <td>6</td>\n",
       "      <td>2</td>\n",
       "      <td>0</td>\n",
       "      <td>0</td>\n",
       "    </tr>\n",
       "    <tr>\n",
       "      <th>2020-01-24</th>\n",
       "      <td>7</td>\n",
       "      <td>1</td>\n",
       "      <td>0</td>\n",
       "      <td>0</td>\n",
       "    </tr>\n",
       "    <tr>\n",
       "      <th>2020-01-25</th>\n",
       "      <td>7</td>\n",
       "      <td>0</td>\n",
       "      <td>0</td>\n",
       "      <td>0</td>\n",
       "    </tr>\n",
       "    <tr>\n",
       "      <th>2020-01-26</th>\n",
       "      <td>8</td>\n",
       "      <td>1</td>\n",
       "      <td>0</td>\n",
       "      <td>0</td>\n",
       "    </tr>\n",
       "    <tr>\n",
       "      <th>...</th>\n",
       "      <td>...</td>\n",
       "      <td>...</td>\n",
       "      <td>...</td>\n",
       "      <td>...</td>\n",
       "    </tr>\n",
       "    <tr>\n",
       "      <th>2022-10-07</th>\n",
       "      <td>96491443</td>\n",
       "      <td>42558</td>\n",
       "      <td>1057306</td>\n",
       "      <td>314</td>\n",
       "    </tr>\n",
       "    <tr>\n",
       "      <th>2022-10-08</th>\n",
       "      <td>96502884</td>\n",
       "      <td>11441</td>\n",
       "      <td>1057365</td>\n",
       "      <td>59</td>\n",
       "    </tr>\n",
       "    <tr>\n",
       "      <th>2022-10-09</th>\n",
       "      <td>96516506</td>\n",
       "      <td>13622</td>\n",
       "      <td>1057428</td>\n",
       "      <td>63</td>\n",
       "    </tr>\n",
       "    <tr>\n",
       "      <th>2022-10-10</th>\n",
       "      <td>96543176</td>\n",
       "      <td>26629</td>\n",
       "      <td>1057581</td>\n",
       "      <td>153</td>\n",
       "    </tr>\n",
       "    <tr>\n",
       "      <th>2022-10-11</th>\n",
       "      <td>96581755</td>\n",
       "      <td>38579</td>\n",
       "      <td>1057975</td>\n",
       "      <td>394</td>\n",
       "    </tr>\n",
       "  </tbody>\n",
       "</table>\n",
       "<p>994 rows × 4 columns</p>\n",
       "</div>"
      ],
      "text/plain": [
       "                 tot_cases  new_case  tot_death  new_death\n",
       "submission_date                                           \n",
       "2020-01-22               4         4          0          0\n",
       "2020-01-23               6         2          0          0\n",
       "2020-01-24               7         1          0          0\n",
       "2020-01-25               7         0          0          0\n",
       "2020-01-26               8         1          0          0\n",
       "...                    ...       ...        ...        ...\n",
       "2022-10-07        96491443     42558    1057306        314\n",
       "2022-10-08        96502884     11441    1057365         59\n",
       "2022-10-09        96516506     13622    1057428         63\n",
       "2022-10-10        96543176     26629    1057581        153\n",
       "2022-10-11        96581755     38579    1057975        394\n",
       "\n",
       "[994 rows x 4 columns]"
      ]
     },
     "execution_count": 6,
     "metadata": {},
     "output_type": "execute_result"
    }
   ],
   "source": [
    "df = df.groupby(by=df.index).sum()\n",
    "df"
   ]
  },
  {
   "cell_type": "markdown",
   "metadata": {},
   "source": [
    "## 1. ARIMA Models"
   ]
  },
  {
   "cell_type": "markdown",
   "metadata": {},
   "source": [
    "We trying to build a Time Series on covid cases since the begining of the pandemic so first we need to check for some assumptions like stationarity, trends and seasonalities on the dataset."
   ]
  },
  {
   "cell_type": "code",
   "execution_count": 7,
   "metadata": {},
   "outputs": [],
   "source": [
    "# dropping columns\n",
    "df.drop(columns=['tot_cases','tot_death','new_death'], inplace=True)\n",
    "df = df.resample('W').mean()"
   ]
  },
  {
   "cell_type": "code",
   "execution_count": 8,
   "metadata": {},
   "outputs": [
    {
     "name": "stdout",
     "output_type": "stream",
     "text": [
      "<class 'pandas.core.frame.DataFrame'>\n",
      "DatetimeIndex: 143 entries, 2020-01-26 to 2022-10-16\n",
      "Freq: W-SUN\n",
      "Data columns (total 1 columns):\n",
      " #   Column    Non-Null Count  Dtype  \n",
      "---  ------    --------------  -----  \n",
      " 0   new_case  143 non-null    float64\n",
      "dtypes: float64(1)\n",
      "memory usage: 2.2 KB\n"
     ]
    }
   ],
   "source": [
    "df.info()"
   ]
  },
  {
   "cell_type": "code",
   "execution_count": 9,
   "metadata": {},
   "outputs": [
    {
     "data": {
      "text/plain": [
       "Test Statistic   -3.321261\n",
       "p-value           0.013954\n",
       "dtype: float64"
      ]
     },
     "execution_count": 9,
     "metadata": {},
     "output_type": "execute_result"
    }
   ],
   "source": [
    "# Run ADF test on original (non-differenced!) data.\n",
    "# Code written by Joseph Nelson.\n",
    "def interpret_dftest(dftest):\n",
    "    dfoutput = pd.Series(dftest[0:2], index=['Test Statistic','p-value'])\n",
    "    return dfoutput\n",
    "\n",
    "# Run ADF test on original (non-differenced!) data.\n",
    "interpret_dftest(adfuller(df['new_case']))"
   ]
  },
  {
   "cell_type": "code",
   "execution_count": 10,
   "metadata": {},
   "outputs": [],
   "source": [
    "# Create train-test split.\n",
    "y_train, y_test = train_test_split(df['new_case'], test_size = 0.1,shuffle = False)"
   ]
  },
  {
   "cell_type": "code",
   "execution_count": 11,
   "metadata": {},
   "outputs": [
    {
     "data": {
      "text/plain": [
       "submission_date\n",
       "2022-06-05    103067.428571\n",
       "2022-06-12    107407.571429\n",
       "2022-06-19     98857.285714\n",
       "2022-06-26    107148.714286\n",
       "2022-07-03    113983.857143\n",
       "Freq: W-SUN, Name: new_case, dtype: float64"
      ]
     },
     "execution_count": 11,
     "metadata": {},
     "output_type": "execute_result"
    }
   ],
   "source": [
    "# Checking train tail\n",
    "y_train.tail()"
   ]
  },
  {
   "cell_type": "code",
   "execution_count": 12,
   "metadata": {},
   "outputs": [
    {
     "data": {
      "text/plain": [
       "submission_date\n",
       "2022-07-10    111881.000000\n",
       "2022-07-17    129685.285714\n",
       "2022-07-24    128469.285714\n",
       "2022-07-31    120971.000000\n",
       "2022-08-07    114476.428571\n",
       "Freq: W-SUN, Name: new_case, dtype: float64"
      ]
     },
     "execution_count": 12,
     "metadata": {},
     "output_type": "execute_result"
    }
   ],
   "source": [
    "# Checking the test head\n",
    "y_test.head()"
   ]
  },
  {
   "cell_type": "markdown",
   "metadata": {},
   "source": [
    "### 1.1. Building a ARIMA(0,1,0)"
   ]
  },
  {
   "cell_type": "code",
   "execution_count": 13,
   "metadata": {},
   "outputs": [
    {
     "name": "stdout",
     "output_type": "stream",
     "text": [
      "MSE:  1896377434.2340138\n"
     ]
    }
   ],
   "source": [
    "# Instantiate best model.\n",
    "arima_010 = ARIMA(endog = y_train, order = (0, 1, 0))\n",
    "\n",
    "# Fit ARIMA model.\n",
    "model_010 = arima_010.fit()\n",
    "\n",
    "# Generate predictions based on test set.\n",
    "preds_010 = model_010.predict(start = y_test.index[0], end = y_test.index[-1])\n",
    "\n",
    "# Generate predictions based on train set.\n",
    "preds_train_010 = model_010.predict(start = y_train.index[0], end = y_train.index[-1])\n",
    "\n",
    "print('MSE: ',metrics.mean_squared_error(y_test, preds_010))"
   ]
  },
  {
   "cell_type": "code",
   "execution_count": 14,
   "metadata": {},
   "outputs": [
    {
     "data": {
      "image/png": "[encoded data removed]",
      "text/plain": [
       "<Figure size 1296x288 with 1 Axes>"
      ]
     },
     "metadata": {
      "needs_background": "light"
     },
     "output_type": "display_data"
    }
   ],
   "source": [
    "# Plotting the model ARIMA(0,1,0)\n",
    "plt.figure(figsize=(18,4))\n",
    "\n",
    "# Plot training data.\n",
    "plt.plot(y_train.index, y_train, color = 'blue')\n",
    "\n",
    "# Plot testing data.\n",
    "plt.plot(y_test.index, y_test, color = 'orange')\n",
    "\n",
    "# Plot predicted test values.\n",
    "plt.plot(y_test.index, preds_010, color = 'green')\n",
    "\n",
    "plt.title(label = ' ARIMA(0, 1, 0) Predictions', fontsize=16);"
   ]
  },
  {
   "cell_type": "markdown",
   "metadata": {},
   "source": [
    "### 1.2. Building a ARIMA(3,0,1)"
   ]
  },
  {
   "cell_type": "code",
   "execution_count": 15,
   "metadata": {},
   "outputs": [
    {
     "name": "stdout",
     "output_type": "stream",
     "text": [
      "MSE:  1106435312.930779\n"
     ]
    }
   ],
   "source": [
    "# Instantiate best model.\n",
    "arima_301 = ARIMA(endog = y_train, order = (3, 0, 1))\n",
    "\n",
    "# Fit ARIMA model.\n",
    "model_301 = arima_301.fit()\n",
    "\n",
    "# Generate predictions based on test set.\n",
    "preds_301 = model_301.predict(start = y_test.index[0], end = y_test.index[-1])\n",
    "\n",
    "# Generate predictions based on train set.\n",
    "preds_train_301 = model_301.predict(start = y_train.index[0], end = y_train.index[-1])\n",
    "\n",
    "print('MSE: ',metrics.mean_squared_error(y_test, preds_301))"
   ]
  },
  {
   "cell_type": "code",
   "execution_count": 16,
   "metadata": {},
   "outputs": [
    {
     "data": {
      "image/png": "[encoded data removed]",
      "text/plain": [
       "<Figure size 1296x288 with 1 Axes>"
      ]
     },
     "metadata": {
      "needs_background": "light"
     },
     "output_type": "display_data"
    }
   ],
   "source": [
    "# Plotting  the model ARIMA(3,0,1).\n",
    "plt.figure(figsize=(18,4))\n",
    "\n",
    "# Plot training data.\n",
    "plt.plot(y_train.index, y_train, color = 'blue')\n",
    "\n",
    "# Plot testing data.\n",
    "plt.plot(y_test.index, y_test, color = 'orange')\n",
    "\n",
    "# Plot predicted test values.\n",
    "plt.plot(y_test.index, preds_301, color = 'green')\n",
    "\n",
    "plt.title(label = 'ARIMA(3, 0, 1) Predictions', fontsize=16);"
   ]
  },
  {
   "cell_type": "markdown",
   "metadata": {},
   "source": [
    "### 1.3. Building a ARIMA(52, 0, 1)"
   ]
  },
  {
   "cell_type": "code",
   "execution_count": 17,
   "metadata": {},
   "outputs": [
    {
     "name": "stderr",
     "output_type": "stream",
     "text": [
      "/Users/silviaresende/opt/anaconda3/lib/python3.9/site-packages/statsmodels/tsa/statespace/sarimax.py:966: UserWarning: Non-stationary starting autoregressive parameters found. Using zeros as starting parameters.\n",
      "  warn('Non-stationary starting autoregressive parameters'\n",
      "/Users/silviaresende/opt/anaconda3/lib/python3.9/site-packages/statsmodels/tsa/statespace/sarimax.py:978: UserWarning: Non-invertible starting MA parameters found. Using zeros as starting parameters.\n",
      "  warn('Non-invertible starting MA parameters found.'\n"
     ]
    },
    {
     "name": "stdout",
     "output_type": "stream",
     "text": [
      "MSE:  1411289005.2213979\n"
     ]
    }
   ],
   "source": [
    "# Instantiate best model.\n",
    "arima_2201 = ARIMA(endog = y_train, order = (22, 0, 1))\n",
    "\n",
    "# Fit ARIMA model.\n",
    "model_2201 = arima_2201.fit()\n",
    "\n",
    "# Generate predictions based on test set.\n",
    "preds_2201 = model_2201.predict(start = y_test.index[0], end = y_test.index[-1])\n",
    "\n",
    "# Generate predictions based on train set.\n",
    "preds_train_2201 = model_2201.predict(start = y_train.index[0], end = y_train.index[-1])\n",
    "\n",
    "print('MSE: ',metrics.mean_squared_error(y_test, preds_2201))"
   ]
  },
  {
   "cell_type": "code",
   "execution_count": 18,
   "metadata": {},
   "outputs": [
    {
     "data": {
      "image/png": "[encoded data removed]",
      "text/plain": [
       "<Figure size 1296x288 with 1 Axes>"
      ]
     },
     "metadata": {
      "needs_background": "light"
     },
     "output_type": "display_data"
    }
   ],
   "source": [
    "# Plotting  the model ARIMA(22,0,1).\n",
    "plt.figure(figsize=(18,4))\n",
    "\n",
    "# Plot training data.\n",
    "plt.plot(y_train.index, y_train, color = 'blue')\n",
    "\n",
    "# Plot testing data.\n",
    "plt.plot(y_test.index, y_test, color = 'orange')\n",
    "\n",
    "# Plot predicted test values.\n",
    "plt.plot(y_test.index, preds_2201, color = 'green')\n",
    "\n",
    "plt.title(label = ' ARIMA(22, 0, 1) Predictions', fontsize=16);"
   ]
  },
  {
   "cell_type": "markdown",
   "metadata": {},
   "source": [
    "## 2. SARIMA Models"
   ]
  },
  {
   "cell_type": "markdown",
   "metadata": {},
   "source": [
    "### 2.1. SARIMA(3, 0, 1) x (1, 1, 1, 22)"
   ]
  },
  {
   "cell_type": "code",
   "execution_count": 19,
   "metadata": {},
   "outputs": [
    {
     "name": "stdout",
     "output_type": "stream",
     "text": [
      "RUNNING THE L-BFGS-B CODE\n",
      "\n",
      "           * * *\n",
      "\n",
      "Machine precision = 2.220D-16\n",
      " N =            7     M =           10\n",
      "\n",
      "At X0         0 variables are exactly at the bounds\n",
      "\n",
      "At iterate    0    f=  1.04523D+01    |proj g|=  1.66716D+00\n"
     ]
    },
    {
     "name": "stderr",
     "output_type": "stream",
     "text": [
      " This problem is unconstrained.\n"
     ]
    },
    {
     "name": "stdout",
     "output_type": "stream",
     "text": [
      "\n",
      "At iterate    5    f=  9.75048D+00    |proj g|=  2.63298D-02\n",
      "\n",
      "At iterate   10    f=  9.74065D+00    |proj g|=  3.23227D-03\n",
      "\n",
      "At iterate   15    f=  9.74050D+00    |proj g|=  4.57135D-04\n",
      "\n",
      "At iterate   20    f=  9.74050D+00    |proj g|=  4.79322D-04\n",
      "\n",
      "At iterate   25    f=  9.74042D+00    |proj g|=  6.11918D-03\n",
      "\n",
      "At iterate   30    f=  9.74030D+00    |proj g|=  2.64407D-04\n",
      "\n",
      "At iterate   35    f=  9.74028D+00    |proj g|=  1.81832D-03\n",
      "\n",
      "At iterate   40    f=  9.73924D+00    |proj g|=  2.50992D-02\n",
      "\n",
      "At iterate   45    f=  9.72743D+00    |proj g|=  1.61997D-01\n",
      "\n",
      "At iterate   50    f=  9.67105D+00    |proj g|=  5.57173D-02\n",
      "\n",
      "           * * *\n",
      "\n",
      "Tit   = total number of iterations\n",
      "Tnf   = total number of function evaluations\n",
      "Tnint = total number of segments explored during Cauchy searches\n",
      "Skip  = number of BFGS updates skipped\n",
      "Nact  = number of active bounds at final generalized Cauchy point\n",
      "Projg = norm of the final projected gradient\n",
      "F     = final function value\n",
      "\n",
      "           * * *\n",
      "\n",
      "   N    Tit     Tnf  Tnint  Skip  Nact     Projg        F\n",
      "    7     50     74      1     0     0   5.572D-02   9.671D+00\n",
      "  F =   9.6710451981202645     \n",
      "\n",
      "STOP: TOTAL NO. of ITERATIONS REACHED LIMIT                 \n"
     ]
    },
    {
     "name": "stderr",
     "output_type": "stream",
     "text": [
      "/Users/silviaresende/opt/anaconda3/lib/python3.9/site-packages/statsmodels/base/model.py:604: ConvergenceWarning: Maximum Likelihood optimization failed to converge. Check mle_retvals\n",
      "  warnings.warn(\"Maximum Likelihood optimization failed to \"\n"
     ]
    },
    {
     "data": {
      "text/plain": [
       "794386052.8801112"
      ]
     },
     "execution_count": 19,
     "metadata": {},
     "output_type": "execute_result"
    }
   ],
   "source": [
    "# Fit a SARIMA(3, 0, 1) x (1, 1, 1, 22) model.\n",
    "sarima = SARIMAX(endog = y_train,\n",
    "                  order = (3, 0, 1),                # (p, d, q)\n",
    "                  seasonal_order=(1, 1, 1, 22))       # (P, D, Q, S)\n",
    "\n",
    "# Fit SARIMA model.\n",
    "model_sarima = sarima.fit()\n",
    "\n",
    "# Generate predictions based on test set.\n",
    "preds_sarima = model_sarima.predict(start = y_test.index[0], end = y_test.index[-1])\n",
    "\n",
    "# Evaluate predictions.\n",
    "metrics.mean_squared_error(y_test, preds_sarima)"
   ]
  },
  {
   "cell_type": "code",
   "execution_count": 20,
   "metadata": {},
   "outputs": [
    {
     "data": {
      "image/png": "[encoded data removed]",
      "text/plain": [
       "<Figure size 1296x288 with 1 Axes>"
      ]
     },
     "metadata": {
      "needs_background": "light"
     },
     "output_type": "display_data"
    }
   ],
   "source": [
    "# Plotting SARIMA\n",
    "plt.figure(figsize=(18,4))\n",
    "\n",
    "# Plot training data.\n",
    "plt.plot(y_train.index, y_train, color = 'blue')\n",
    "\n",
    "# Plot testing data.\n",
    "plt.plot(y_test.index, y_test, color = 'orange')\n",
    "\n",
    "# Plot predicted test values.\n",
    "plt.plot(y_test.index, preds_sarima, color = 'green')\n",
    "\n",
    "    #order = (3, 0, 1),                # (p, d, q)\n",
    "     # seasonal_order=(1,1,1,22))     \n",
    "\n",
    "plt.title(label = 'SARIMA(3, 0, 1) x (1, 1, 1, 22) Predictions', fontsize=16)\n",
    "plt.show();"
   ]
  },
  {
   "cell_type": "markdown",
   "metadata": {},
   "source": [
    "### 2.2. SARIMA(1, 0, 0) x (1, 1, 1, 22) (GridSearch Parameters)"
   ]
  },
  {
   "cell_type": "code",
   "execution_count": 21,
   "metadata": {},
   "outputs": [
    {
     "data": {
      "text/html": [
       "<div>\n",
       "<style scoped>\n",
       "    .dataframe tbody tr th:only-of-type {\n",
       "        vertical-align: middle;\n",
       "    }\n",
       "\n",
       "    .dataframe tbody tr th {\n",
       "        vertical-align: top;\n",
       "    }\n",
       "\n",
       "    .dataframe thead th {\n",
       "        text-align: right;\n",
       "    }\n",
       "</style>\n",
       "<table border=\"1\" class=\"dataframe\">\n",
       "  <thead>\n",
       "    <tr style=\"text-align: right;\">\n",
       "      <th></th>\n",
       "      <th>new_case</th>\n",
       "      <th>diff_1</th>\n",
       "      <th>diff_2</th>\n",
       "    </tr>\n",
       "    <tr>\n",
       "      <th>submission_date</th>\n",
       "      <th></th>\n",
       "      <th></th>\n",
       "      <th></th>\n",
       "    </tr>\n",
       "  </thead>\n",
       "  <tbody>\n",
       "    <tr>\n",
       "      <th>2020-01-26</th>\n",
       "      <td>1.600000</td>\n",
       "      <td>NaN</td>\n",
       "      <td>NaN</td>\n",
       "    </tr>\n",
       "    <tr>\n",
       "      <th>2020-02-02</th>\n",
       "      <td>0.714286</td>\n",
       "      <td>-0.885714</td>\n",
       "      <td>NaN</td>\n",
       "    </tr>\n",
       "    <tr>\n",
       "      <th>2020-02-09</th>\n",
       "      <td>1.000000</td>\n",
       "      <td>0.285714</td>\n",
       "      <td>1.171429</td>\n",
       "    </tr>\n",
       "    <tr>\n",
       "      <th>2020-02-16</th>\n",
       "      <td>0.571429</td>\n",
       "      <td>-0.428571</td>\n",
       "      <td>-0.714286</td>\n",
       "    </tr>\n",
       "    <tr>\n",
       "      <th>2020-02-23</th>\n",
       "      <td>3.428571</td>\n",
       "      <td>2.857143</td>\n",
       "      <td>3.285714</td>\n",
       "    </tr>\n",
       "  </tbody>\n",
       "</table>\n",
       "</div>"
      ],
      "text/plain": [
       "                 new_case    diff_1    diff_2\n",
       "submission_date                              \n",
       "2020-01-26       1.600000       NaN       NaN\n",
       "2020-02-02       0.714286 -0.885714       NaN\n",
       "2020-02-09       1.000000  0.285714  1.171429\n",
       "2020-02-16       0.571429 -0.428571 -0.714286\n",
       "2020-02-23       3.428571  2.857143  3.285714"
      ]
     },
     "execution_count": 21,
     "metadata": {},
     "output_type": "execute_result"
    }
   ],
   "source": [
    "df['diff_1'] = df['new_case'].diff()\n",
    "df['diff_2'] = df['new_case'].diff().diff()\n",
    "df.head()"
   ]
  },
  {
   "cell_type": "code",
   "execution_count": 22,
   "metadata": {},
   "outputs": [
    {
     "data": {
      "text/html": [
       "<div>\n",
       "<style scoped>\n",
       "    .dataframe tbody tr th:only-of-type {\n",
       "        vertical-align: middle;\n",
       "    }\n",
       "\n",
       "    .dataframe tbody tr th {\n",
       "        vertical-align: top;\n",
       "    }\n",
       "\n",
       "    .dataframe thead th {\n",
       "        text-align: right;\n",
       "    }\n",
       "</style>\n",
       "<table border=\"1\" class=\"dataframe\">\n",
       "  <thead>\n",
       "    <tr style=\"text-align: right;\">\n",
       "      <th></th>\n",
       "      <th>new_case</th>\n",
       "      <th>diff_1</th>\n",
       "      <th>diff_2</th>\n",
       "    </tr>\n",
       "    <tr>\n",
       "      <th>submission_date</th>\n",
       "      <th></th>\n",
       "      <th></th>\n",
       "      <th></th>\n",
       "    </tr>\n",
       "  </thead>\n",
       "  <tbody>\n",
       "    <tr>\n",
       "      <th>2020-02-09</th>\n",
       "      <td>1.000000</td>\n",
       "      <td>0.285714</td>\n",
       "      <td>1.171429</td>\n",
       "    </tr>\n",
       "    <tr>\n",
       "      <th>2020-02-16</th>\n",
       "      <td>0.571429</td>\n",
       "      <td>-0.428571</td>\n",
       "      <td>-0.714286</td>\n",
       "    </tr>\n",
       "    <tr>\n",
       "      <th>2020-02-23</th>\n",
       "      <td>3.428571</td>\n",
       "      <td>2.857143</td>\n",
       "      <td>3.285714</td>\n",
       "    </tr>\n",
       "    <tr>\n",
       "      <th>2020-03-01</th>\n",
       "      <td>7.428571</td>\n",
       "      <td>4.000000</td>\n",
       "      <td>1.142857</td>\n",
       "    </tr>\n",
       "    <tr>\n",
       "      <th>2020-03-08</th>\n",
       "      <td>103.142857</td>\n",
       "      <td>95.714286</td>\n",
       "      <td>91.714286</td>\n",
       "    </tr>\n",
       "  </tbody>\n",
       "</table>\n",
       "</div>"
      ],
      "text/plain": [
       "                   new_case     diff_1     diff_2\n",
       "submission_date                                  \n",
       "2020-02-09         1.000000   0.285714   1.171429\n",
       "2020-02-16         0.571429  -0.428571  -0.714286\n",
       "2020-02-23         3.428571   2.857143   3.285714\n",
       "2020-03-01         7.428571   4.000000   1.142857\n",
       "2020-03-08       103.142857  95.714286  91.714286"
      ]
     },
     "execution_count": 22,
     "metadata": {},
     "output_type": "execute_result"
    }
   ],
   "source": [
    "df.dropna(inplace=True)\n",
    "df.head()"
   ]
  },
  {
   "cell_type": "code",
   "execution_count": 23,
   "metadata": {},
   "outputs": [
    {
     "data": {
      "text/plain": [
       "Test Statistic   -3.320787\n",
       "p-value           0.013974\n",
       "dtype: float64"
      ]
     },
     "execution_count": 23,
     "metadata": {},
     "output_type": "execute_result"
    }
   ],
   "source": [
    "# Run ADF test on original (non-differenced!) data.\n",
    "interpret_dftest(adfuller(df['new_case']))"
   ]
  },
  {
   "cell_type": "code",
   "execution_count": 24,
   "metadata": {},
   "outputs": [],
   "source": [
    "# Create train-test split.\n",
    "y_train, y_test = train_test_split(df['new_case'], test_size = 0.1,shuffle = False)"
   ]
  },
  {
   "cell_type": "code",
   "execution_count": 25,
   "metadata": {},
   "outputs": [
    {
     "data": {
      "text/plain": [
       "submission_date\n",
       "2022-06-05    103067.428571\n",
       "2022-06-12    107407.571429\n",
       "2022-06-19     98857.285714\n",
       "2022-06-26    107148.714286\n",
       "2022-07-03    113983.857143\n",
       "Freq: W-SUN, Name: new_case, dtype: float64"
      ]
     },
     "execution_count": 25,
     "metadata": {},
     "output_type": "execute_result"
    }
   ],
   "source": [
    "y_train.tail()"
   ]
  },
  {
   "cell_type": "code",
   "execution_count": 26,
   "metadata": {},
   "outputs": [
    {
     "data": {
      "text/plain": [
       "submission_date\n",
       "2022-07-10    111881.000000\n",
       "2022-07-17    129685.285714\n",
       "2022-07-24    128469.285714\n",
       "2022-07-31    120971.000000\n",
       "2022-08-07    114476.428571\n",
       "Freq: W-SUN, Name: new_case, dtype: float64"
      ]
     },
     "execution_count": 26,
     "metadata": {},
     "output_type": "execute_result"
    }
   ],
   "source": [
    "y_test.head()"
   ]
  },
  {
   "cell_type": "code",
   "execution_count": 27,
   "metadata": {},
   "outputs": [
    {
     "name": "stdout",
     "output_type": "stream",
     "text": [
      "RUNNING THE L-BFGS-B CODE\n",
      "\n",
      "           * * *\n",
      "\n",
      "Machine precision = 2.220D-16\n",
      " N =            2     M =           10\n",
      "\n",
      "At X0         0 variables are exactly at the bounds\n",
      "\n",
      "At iterate    0    f=  1.21685D+01    |proj g|=  2.14268D-03\n",
      "\n",
      "           * * *\n",
      "\n",
      "Tit   = total number of iterations\n",
      "Tnf   = total number of function evaluations\n",
      "Tnint = total number of segments explored during Cauchy searches\n",
      "Skip  = number of BFGS updates skipped\n",
      "Nact  = number of active bounds at final generalized Cauchy point\n",
      "Projg = norm of the final projected gradient\n",
      "F     = final function value\n",
      "\n",
      "           * * *\n",
      "\n",
      "   N    Tit     Tnf  Tnint  Skip  Nact     Projg        F\n",
      "    2      3      5      1     0     0   5.274D-06   1.217D+01\n",
      "  F =   12.168175861504078     \n",
      "\n",
      "CONVERGENCE: NORM_OF_PROJECTED_GRADIENT_<=_PGTOL            \n"
     ]
    },
    {
     "name": "stderr",
     "output_type": "stream",
     "text": [
      " This problem is unconstrained.\n"
     ]
    }
   ],
   "source": [
    "# Fit a SARIMA(1, 0, 0) x (1, 1, 1, 22) model.\n",
    "sarima = SARIMAX(endog = y_train,\n",
    "                  order = (1, 0, 0),                # (p, d, q)\n",
    "                  seasonal_order=(0,0,0,22))       # (P, D, Q, S)\n",
    "\n",
    "# Fit SARIMA model.\n",
    "model_sarima = sarima.fit()"
   ]
  },
  {
   "cell_type": "code",
   "execution_count": 28,
   "metadata": {},
   "outputs": [
    {
     "data": {
      "text/plain": [
       "328044210.2485147"
      ]
     },
     "execution_count": 28,
     "metadata": {},
     "output_type": "execute_result"
    }
   ],
   "source": [
    "# Generate predictions based on test set. # Evaluate predictions MSE.\n",
    "preds_sarima = model_sarima.predict(start = y_test.index[0], end = y_test.index[-1])\n",
    "# Evaluate predictions.\n",
    "metrics.mean_squared_error(y_test, preds_sarima)"
   ]
  },
  {
   "cell_type": "code",
   "execution_count": 29,
   "metadata": {},
   "outputs": [
    {
     "data": {
      "image/png": "[encoded data removed]",
      "text/plain": [
       "<Figure size 1296x288 with 1 Axes>"
      ]
     },
     "metadata": {
      "needs_background": "light"
     },
     "output_type": "display_data"
    }
   ],
   "source": [
    "# Plot data.\n",
    "plt.figure(figsize=(18,4))\n",
    "\n",
    "# Plot training data.\n",
    "plt.plot(y_train.index, y_train, color = 'blue')\n",
    "\n",
    "# Plot testing data.\n",
    "plt.plot(y_test.index, y_test, color = 'orange')\n",
    "\n",
    "# Plot predicted test values.\n",
    "plt.plot(y_test.index, preds_sarima, color = 'green')\n",
    "\n",
    "plt.title(label = 'SARIMA(1, 0, 0) x (1, 1, 1, 22) Predictions', fontsize=16)\n",
    "plt.show();"
   ]
  },
  {
   "cell_type": "code",
   "execution_count": 30,
   "metadata": {},
   "outputs": [],
   "source": [
    "# Starting MSE and (P, D, Q).\n",
    "def my_gridsearch():\n",
    "    mse = 99 * (10 ** 16)\n",
    "    final_p = 0\n",
    "    final_d = 0\n",
    "    final_q = 0\n",
    "    final_P = 0\n",
    "    final_D = 0\n",
    "    final_Q = 0\n",
    "\n",
    "    for p in range(2):\n",
    "        for q in range(2):\n",
    "            for d in range(2):\n",
    "                for P in range(3):\n",
    "                    for Q in range(3):\n",
    "                        for D in range(3):\n",
    "                            try:\n",
    "                                sarima = SARIMAX(endog = y_train,\n",
    "                                                order = (p, d, q),              # (p, d, q)\n",
    "                                                seasonal_order = (P, D, Q, 22))  # (P, D, Q, S)\n",
    "                                \n",
    "                                print(P, D, Q)\n",
    "                                # Fit SARIMA model.\n",
    "                                model = sarima.fit()\n",
    "                                preds_sarima = model.predict(start = y_test.index[0], end = y_test.index[-1])\n",
    "                                print(f'The MSE for ({p}, {d}, {q})x({P},{D},{Q},22) is: {metrics.mean_squared_error(y_test, preds_sarima)}')#\n",
    "\n",
    "                                                # Save for final report.\n",
    "                                if mse > metrics.mean_squared_error(y_test, preds_sarima):\n",
    "                                    mse = metrics.mean_squared_error(y_test, preds_sarima)\n",
    "                                    \n",
    "                                    final_p = p\n",
    "                                    final_d = d\n",
    "                                    final_q = q\n",
    "                                    final_P = P\n",
    "                                    final_D = D\n",
    "                                    final_Q = Q\n",
    "                            except:\n",
    "\n",
    "                                    pass\n",
    "        print(f'Our model that minimizes MSE on the training data is the SARIMA(1, 0, 0)x({final_P},{final_D},{final_Q},22).')\n",
    "        print(f'This model has an MSE of {mse}.')\n",
    "    return print('Gridsearach Done!')"
   ]
  },
  {
   "cell_type": "code",
   "execution_count": 31,
   "metadata": {},
   "outputs": [],
   "source": [
    "#my_gridsearch()"
   ]
  },
  {
   "cell_type": "code",
   "execution_count": 32,
   "metadata": {},
   "outputs": [],
   "source": [
    "# 27690096390.04778\n",
    "# 31324938754.810467\n",
    "# 328044210.2485147\n",
    "\n",
    "# CONVERGENCE: REL_REDUCTION_OF_F_<=_FACTR*EPSMCH             \n",
    "# The MSE for (1, 1, 1)x(2,2,2,22) is: 31324938754.810467\n",
    "\n",
    "# Our model that minimizes MSE on the training data is the SARIMA(1, 0, 0)x(0,0,0,22).\n",
    "# This model has an MSE of 328044210.2485147."
   ]
  },
  {
   "cell_type": "markdown",
   "metadata": {},
   "source": [
    "### 2.2. SARIMA(1, 0, 0) x (1, 0, 0, 12) (GridSearch Parameters)"
   ]
  },
  {
   "cell_type": "code",
   "execution_count": 33,
   "metadata": {},
   "outputs": [
    {
     "name": "stdout",
     "output_type": "stream",
     "text": [
      "RUNNING THE L-BFGS-B CODE\n",
      "\n",
      "           * * *\n",
      "\n",
      "Machine precision = 2.220D-16\n",
      " N =            3     M =           10\n",
      "\n",
      "At X0         0 variables are exactly at the bounds\n",
      "\n",
      "At iterate    0    f=  1.22523D+01    |proj g|=  3.74687D-01\n",
      "\n",
      "At iterate    5    f=  1.21645D+01    |proj g|=  3.32850D-03\n",
      "\n",
      "At iterate   10    f=  1.21644D+01    |proj g|=  4.30944D-07\n",
      "\n",
      "           * * *\n",
      "\n",
      "Tit   = total number of iterations\n",
      "Tnf   = total number of function evaluations\n",
      "Tnint = total number of segments explored during Cauchy searches\n",
      "Skip  = number of BFGS updates skipped\n",
      "Nact  = number of active bounds at final generalized Cauchy point\n",
      "Projg = norm of the final projected gradient\n",
      "F     = final function value\n",
      "\n",
      "           * * *\n",
      "\n",
      "   N    Tit     Tnf  Tnint  Skip  Nact     Projg        F\n",
      "    3     10     12      1     0     0   4.309D-07   1.216D+01\n",
      "  F =   12.164388087270808     \n",
      "\n",
      "CONVERGENCE: NORM_OF_PROJECTED_GRADIENT_<=_PGTOL            \n"
     ]
    },
    {
     "name": "stderr",
     "output_type": "stream",
     "text": [
      " This problem is unconstrained.\n"
     ]
    },
    {
     "data": {
      "text/plain": [
       "368711933.73655915"
      ]
     },
     "execution_count": 33,
     "metadata": {},
     "output_type": "execute_result"
    }
   ],
   "source": [
    "# Fit a SARIMA(1, 0, 0) x (1,0,0,12) model.\n",
    "sarima = SARIMAX(endog = y_train,\n",
    "                  order = (1, 0, 0),                # (p, d, q)\n",
    "                  seasonal_order=(1,0,0,12))       # (P, D, Q, S)\n",
    "\n",
    "# Fit SARIMA model.\n",
    "model_sarima = sarima.fit()\n",
    "\n",
    "# Generate predictions based on test set. # Evaluate predictions MSE.\n",
    "preds_sarima = model_sarima.predict(start = y_test.index[0], end = y_test.index[-1])\n",
    "\n",
    "# Evaluate predictions.\n",
    "metrics.mean_squared_error(y_test, preds_sarima)"
   ]
  },
  {
   "cell_type": "code",
   "execution_count": 34,
   "metadata": {},
   "outputs": [
    {
     "data": {
      "image/png": "[encoded data removed]",
      "text/plain": [
       "<Figure size 1296x288 with 1 Axes>"
      ]
     },
     "metadata": {
      "needs_background": "light"
     },
     "output_type": "display_data"
    }
   ],
   "source": [
    "# Plot data.\n",
    "plt.figure(figsize=(18,4))\n",
    "\n",
    "# Plot training data.\n",
    "plt.plot(y_train.index, y_train, color = 'blue')\n",
    "\n",
    "# Plot testing data.\n",
    "plt.plot(y_test.index, y_test, color = 'orange')\n",
    "\n",
    "# Plot predicted test values.\n",
    "plt.plot(y_test.index, preds_sarima, color = 'green')\n",
    "\n",
    "plt.title(label = 'SARIMA(1, 0, 0) x (1, 0, 0, 12) Predictions', fontsize=16)\n",
    "plt.show();"
   ]
  }
 ],
 "metadata": {
  "kernelspec": {
   "display_name": "Python 3.9.12",
   "language": "python",
   "name": "python3"
  },
  "language_info": {
   "codemirror_mode": {
    "name": "ipython",
    "version": 3
   },
   "file_extension": ".py",
   "mimetype": "text/x-python",
   "name": "python",
   "nbconvert_exporter": "python",
   "pygments_lexer": "ipython3",
   "version": "3.9.12"
  },
  "orig_nbformat": 4,
  "vscode": {
   "interpreter": {
    "hash": "34f45a2ba0fbc03e28e7f7a41cd378a2ce17a9c291c97b9041ffb2d877b082e9"
   }
  }
 },
 "nbformat": 4,
 "nbformat_minor": 2
}
